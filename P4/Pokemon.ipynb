{
 "cells": [
  {
   "cell_type": "code",
   "execution_count": 1,
   "id": "41085af3",
   "metadata": {},
   "outputs": [
    {
     "name": "stdout",
     "output_type": "stream",
     "text": [
      "Kanto is the correct region\n"
     ]
    }
   ],
   "source": [
    "import project\n",
    "\n",
    "if project.get_region('Pikachu') == 'Kanto':\n",
    "    print ('Kanto is the correct region')\n",
    "else:\n",
    "    print ('Kanto is not the correct region.')\n"
   ]
  },
  {
   "cell_type": "code",
   "execution_count": 2,
   "id": "fbddae9a",
   "metadata": {},
   "outputs": [
    {
     "name": "stdout",
     "output_type": "stream",
     "text": [
      "Snorlax\n"
     ]
    }
   ],
   "source": [
    "if project.get_hp('Snorlax') >= project.get_hp('Heracross'):\n",
    "    print('Snorlax')\n",
    "else:\n",
    "    print('Heracross')\n"
   ]
  },
  {
   "cell_type": "code",
   "execution_count": 3,
   "id": "4722c3da",
   "metadata": {},
   "outputs": [],
   "source": [
    "def compare_hp(pkmn1, pkmn2):\n",
    "    if project.get_hp(pkmn1) >= project.get_hp(pkmn2):\n",
    "        return pkmn1\n",
    "    else:\n",
    "        return pkmn2\n"
   ]
  },
  {
   "cell_type": "code",
   "execution_count": 4,
   "id": "573bf5e5",
   "metadata": {},
   "outputs": [
    {
     "data": {
      "text/plain": [
       "'Snorlax'"
      ]
     },
     "execution_count": 4,
     "metadata": {},
     "output_type": "execute_result"
    }
   ],
   "source": [
    "compare_hp(\"Snorlax\",\"Heracross\")"
   ]
  },
  {
   "cell_type": "code",
   "execution_count": 5,
   "id": "8f9a7b88",
   "metadata": {},
   "outputs": [],
   "source": [
    "def compare_attack(pkmn1, pkmn2):\n",
    "    if project.get_attack(pkmn1) >= project.get_attack(pkmn2):\n",
    "        return pkmn1\n",
    "    else:\n",
    "        return pkmn2\n",
    "   #TODO: Return the name of the Pokemon with the higher Attack stat\n",
    "   "
   ]
  },
  {
   "cell_type": "code",
   "execution_count": 6,
   "id": "43a9360d",
   "metadata": {},
   "outputs": [
    {
     "data": {
      "text/plain": [
       "'Heracross'"
      ]
     },
     "execution_count": 6,
     "metadata": {},
     "output_type": "execute_result"
    }
   ],
   "source": [
    "compare_attack('Snorlax','Heracross')"
   ]
  },
  {
   "cell_type": "code",
   "execution_count": 7,
   "id": "45cef404",
   "metadata": {},
   "outputs": [],
   "source": [
    "def get_num_types(pkmn):\n",
    "    if project.get_type1(pkmn) == 'None':\n",
    "        return 0\n",
    "    elif project.get_type2(pkmn) == 'None':\n",
    "        return 1\n",
    "    else:\n",
    "        return 2\n"
   ]
  },
  {
   "cell_type": "code",
   "execution_count": 8,
   "id": "e8902b6f",
   "metadata": {},
   "outputs": [
    {
     "data": {
      "text/plain": [
       "2"
      ]
     },
     "execution_count": 8,
     "metadata": {},
     "output_type": "execute_result"
    }
   ],
   "source": [
    "get_num_types('Charizard')"
   ]
  },
  {
   "cell_type": "code",
   "execution_count": 9,
   "id": "325dd158",
   "metadata": {},
   "outputs": [],
   "source": [
    "def same_types(pkmn1, pkmn2):\n",
    "    if project.get_type1(pkmn1) == project.get_type1(pkmn2):\n",
    "        if project.get_type2(pkmn1) == project.get_type2(pkmn2):\n",
    "            return True\n",
    "    elif project.get_type1(pkmn1) == project.get_type2(pkmn2):\n",
    "        if project.get_type2(pkmn1) == project.get_type1(pkmn2):\n",
    "            return True\n",
    "        \n",
    "    return False"
   ]
  },
  {
   "cell_type": "code",
   "execution_count": 10,
   "id": "b2428520",
   "metadata": {},
   "outputs": [
    {
     "data": {
      "text/plain": [
       "True"
      ]
     },
     "execution_count": 10,
     "metadata": {},
     "output_type": "execute_result"
    }
   ],
   "source": [
    "same_types('Dragonite','Noivern')"
   ]
  },
  {
   "cell_type": "code",
   "execution_count": 11,
   "id": "b4348f95",
   "metadata": {},
   "outputs": [
    {
     "name": "stdout",
     "output_type": "stream",
     "text": [
      "Name :  Dragonite\n",
      "Attack :  134\n",
      "Defense :  95\n",
      "HP :  91\n",
      "Region :  Kanto\n",
      "Sp. Atk :  100\n",
      "Sp. Def :  100\n",
      "Speed :  80\n",
      "Type 1 :  Dragon\n",
      "Type 2 :  Flying\n"
     ]
    }
   ],
   "source": [
    "project.print_stats('Dragonite')"
   ]
  },
  {
   "cell_type": "code",
   "execution_count": 12,
   "id": "88001a56",
   "metadata": {
    "scrolled": true
   },
   "outputs": [
    {
     "name": "stdout",
     "output_type": "stream",
     "text": [
      "Name :  Noivern\n",
      "Attack :  70\n",
      "Defense :  80\n",
      "HP :  85\n",
      "Region :  Kalos\n",
      "Sp. Atk :  97\n",
      "Sp. Def :  80\n",
      "Speed :  123\n",
      "Type 1 :  Flying\n",
      "Type 2 :  Dragon\n"
     ]
    }
   ],
   "source": [
    "project.print_stats('Noivern')"
   ]
  },
  {
   "cell_type": "code",
   "execution_count": 13,
   "id": "68abd624",
   "metadata": {},
   "outputs": [],
   "source": [
    "def stronger_type(type1, type2):\n",
    "    type_1_effectiveness = project.get_type_effectiveness(type1, type2)\n",
    "    type_2_effectiveness = project.get_type_effectiveness(type2, type1)\n",
    "    if type_1_effectiveness > type_2_effectiveness:\n",
    "        return type1 + \" is stronger than \" + type2\n",
    "    elif type_1_effectiveness < type_2_effectiveness:\n",
    "        return type2 + \" is stronger than \" + type1\n",
    "    else:\n",
    "        return type1 + \" and \" + type2 + \" are equally strong\""
   ]
  },
  {
   "cell_type": "code",
   "execution_count": 14,
   "id": "86ab9d83",
   "metadata": {
    "scrolled": true
   },
   "outputs": [
    {
     "data": {
      "text/plain": [
       "'Flying and Dragon are equally strong'"
      ]
     },
     "execution_count": 14,
     "metadata": {},
     "output_type": "execute_result"
    }
   ],
   "source": [
    "stronger_type('Flying','Dragon')"
   ]
  }
 ],
 "metadata": {
  "kernelspec": {
   "display_name": "Python 3",
   "language": "python",
   "name": "python3"
  },
  "language_info": {
   "codemirror_mode": {
    "name": "ipython",
    "version": 3
   },
   "file_extension": ".py",
   "mimetype": "text/x-python",
   "name": "python",
   "nbconvert_exporter": "python",
   "pygments_lexer": "ipython3",
   "version": "3.8.8"
  }
 },
 "nbformat": 4,
 "nbformat_minor": 5
}
