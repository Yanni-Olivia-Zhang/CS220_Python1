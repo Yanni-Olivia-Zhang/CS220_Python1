{
 "cells": [
  {
   "cell_type": "code",
   "execution_count": 1,
   "id": "a6b5f76c",
   "metadata": {},
   "outputs": [],
   "source": [
    "import project\n",
    "import math\n",
    "\n",
    "# project: p4\n",
    "# submitter: yzhang2232\n",
    "# partner: none\n",
    "# hours: 2\n"
   ]
  },
  {
   "cell_type": "code",
   "execution_count": 2,
   "id": "11c89c4e",
   "metadata": {},
   "outputs": [],
   "source": [
    "def damage(attacker, defender):\n",
    "    physical_damage = 10 * project.get_attack(attacker) / project.get_defense(defender)\n",
    "    special_damage = 10 * project.get_sp_atk(attacker) / project.get_sp_def(defender)\n",
    "    if physical_damage >= special_damage:\n",
    "        return physical_damage\n",
    "    else:\n",
    "        return special_damage\n"
   ]
  },
  {
   "cell_type": "code",
   "execution_count": 3,
   "id": "00c22bea",
   "metadata": {},
   "outputs": [
    {
     "data": {
      "text/plain": [
       "5.769230769230769"
      ]
     },
     "execution_count": 3,
     "metadata": {},
     "output_type": "execute_result"
    }
   ],
   "source": [
    "#q1\n",
    "damage('Scraggy','Golem')"
   ]
  },
  {
   "cell_type": "code",
   "execution_count": 4,
   "id": "c66e03f2",
   "metadata": {},
   "outputs": [
    {
     "data": {
      "text/plain": [
       "17.272727272727273"
      ]
     },
     "execution_count": 4,
     "metadata": {},
     "output_type": "execute_result"
    }
   ],
   "source": [
    "#q2\n",
    "damage('Magnemite','Nidorina')"
   ]
  },
  {
   "cell_type": "code",
   "execution_count": 5,
   "id": "cb28f886",
   "metadata": {},
   "outputs": [],
   "source": [
    "def type_bonus(attack_type, defender):\n",
    "    defender_type1 = project.get_type1(defender)\n",
    "    defender_type2 = project.get_type2(defender)\n",
    "    bonus = project.get_type_effectiveness(attack_type, defender_type1)\n",
    "    if defender_type2 != 'None':\n",
    "        bonus = project.get_type_effectiveness(attack_type, defender_type1) * project.get_type_effectiveness(attack_type, defender_type2)\n",
    "    return bonus"
   ]
  },
  {
   "cell_type": "code",
   "execution_count": 6,
   "id": "fa4ac0f2",
   "metadata": {},
   "outputs": [
    {
     "data": {
      "text/plain": [
       "2.0"
      ]
     },
     "execution_count": 6,
     "metadata": {},
     "output_type": "execute_result"
    }
   ],
   "source": [
    "#q3\n",
    "type_bonus('Electric', 'Magikarp')"
   ]
  },
  {
   "cell_type": "code",
   "execution_count": 7,
   "id": "6dd1cdaf",
   "metadata": {},
   "outputs": [
    {
     "data": {
      "text/plain": [
       "0.25"
      ]
     },
     "execution_count": 7,
     "metadata": {},
     "output_type": "execute_result"
    }
   ],
   "source": [
    "#q4\n",
    "type_bonus('Bug', 'Gastly')"
   ]
  },
  {
   "cell_type": "code",
   "execution_count": 8,
   "id": "fbfb5486",
   "metadata": {},
   "outputs": [],
   "source": [
    "def effective_damage(attacker, defender):\n",
    "    bonus = type_bonus(project.get_type1(attacker), defender)\n",
    "    if project.get_type2(attacker) != 'None':\n",
    "        bonus = max(type_bonus(project.get_type1(attacker), defender), type_bonus(project.get_type2(attacker), defender))\n",
    "    return damage(attacker, defender) * bonus"
   ]
  },
  {
   "cell_type": "code",
   "execution_count": 9,
   "id": "dbe6a88c",
   "metadata": {},
   "outputs": [
    {
     "data": {
      "text/plain": [
       "41.06666666666667"
      ]
     },
     "execution_count": 9,
     "metadata": {},
     "output_type": "execute_result"
    }
   ],
   "source": [
    "#q5\n",
    "effective_damage('Mewtwo', 'Gengar')"
   ]
  },
  {
   "cell_type": "code",
   "execution_count": 10,
   "id": "fedfd7a6",
   "metadata": {
    "scrolled": true
   },
   "outputs": [
    {
     "data": {
      "text/plain": [
       "22.5"
      ]
     },
     "execution_count": 10,
     "metadata": {},
     "output_type": "execute_result"
    }
   ],
   "source": [
    "#q6\n",
    "effective_damage('Wooper', 'Pikachu')"
   ]
  },
  {
   "cell_type": "code",
   "execution_count": 11,
   "id": "d91ed7d7",
   "metadata": {},
   "outputs": [
    {
     "data": {
      "text/plain": [
       "12.307692307692308"
      ]
     },
     "execution_count": 11,
     "metadata": {},
     "output_type": "execute_result"
    }
   ],
   "source": [
    "#q7\n",
    "effective_damage('Slowpoke', 'Steelix')"
   ]
  },
  {
   "cell_type": "code",
   "execution_count": 12,
   "id": "4a98596d",
   "metadata": {},
   "outputs": [],
   "source": [
    "def num_hits(attacker, defender):\n",
    "    return math.ceil(project.get_hp(defender) / effective_damage(attacker, defender))"
   ]
  },
  {
   "cell_type": "code",
   "execution_count": 13,
   "id": "4a68a1da",
   "metadata": {},
   "outputs": [
    {
     "data": {
      "text/plain": [
       "8"
      ]
     },
     "execution_count": 13,
     "metadata": {},
     "output_type": "execute_result"
    }
   ],
   "source": [
    "#q8\n",
    "num_hits('Metapod', 'Slowpoke')"
   ]
  },
  {
   "cell_type": "code",
   "execution_count": 14,
   "id": "53dcb52a",
   "metadata": {},
   "outputs": [
    {
     "data": {
      "text/plain": [
       "9"
      ]
     },
     "execution_count": 14,
     "metadata": {},
     "output_type": "execute_result"
    }
   ],
   "source": [
    "#q9\n",
    "num_hits('Pikachu', 'Snivy')"
   ]
  },
  {
   "cell_type": "code",
   "execution_count": 15,
   "id": "98f26958",
   "metadata": {},
   "outputs": [],
   "source": [
    "def battle(pkmn1, pkmn2):\n",
    "    if num_hits(pkmn1, pkmn2) > num_hits(pkmn2, pkmn1):\n",
    "        if (num_hits(pkmn1, pkmn2) - num_hits(pkmn2, pkmn1)) > 10:\n",
    "            return pkmn1 + \" ran away\"\n",
    "        else:\n",
    "            return pkmn2\n",
    "    elif num_hits(pkmn2, pkmn1) > num_hits(pkmn1, pkmn2):\n",
    "        if (num_hits(pkmn2, pkmn1) - num_hits(pkmn1, pkmn2)) > 10:\n",
    "            return pkmn2 + \" ran away\"\n",
    "        else:\n",
    "            return pkmn1\n",
    "    else:\n",
    "        spd1 = project.get_speed(pkmn1)\n",
    "        spd2 = project.get_speed(pkmn2)\n",
    "        if spd1 > spd2:\n",
    "            return pkmn1\n",
    "        elif spd2 > spd1:\n",
    "            return pkmn2\n",
    "        else:\n",
    "            return 'Draw'\n",
    "    #TODO: Return the name of the pkmn that can take more hits from the other\n",
    "    # pkmn. If both pkmn faint within the same number of moves, return the\n",
    "    # string 'Draw'\n"
   ]
  },
  {
   "cell_type": "code",
   "execution_count": 16,
   "id": "63cc32f6",
   "metadata": {},
   "outputs": [
    {
     "data": {
      "text/plain": [
       "'Sceptile'"
      ]
     },
     "execution_count": 16,
     "metadata": {},
     "output_type": "execute_result"
    }
   ],
   "source": [
    "#q10\n",
    "battle('Krabby', 'Sceptile')"
   ]
  },
  {
   "cell_type": "code",
   "execution_count": 17,
   "id": "67993c8b",
   "metadata": {},
   "outputs": [
    {
     "data": {
      "text/plain": [
       "'Heracross'"
      ]
     },
     "execution_count": 17,
     "metadata": {},
     "output_type": "execute_result"
    }
   ],
   "source": [
    "#q11\n",
    "battle('Heracross', 'Blastoise')"
   ]
  },
  {
   "cell_type": "code",
   "execution_count": 18,
   "id": "cb4176de",
   "metadata": {},
   "outputs": [
    {
     "data": {
      "text/plain": [
       "'Starly'"
      ]
     },
     "execution_count": 18,
     "metadata": {},
     "output_type": "execute_result"
    }
   ],
   "source": [
    "#q12\n",
    "battle('Starly', 'Pidgey')"
   ]
  },
  {
   "cell_type": "code",
   "execution_count": 19,
   "id": "f7e843e1",
   "metadata": {},
   "outputs": [
    {
     "data": {
      "text/plain": [
       "'Spearow'"
      ]
     },
     "execution_count": 19,
     "metadata": {},
     "output_type": "execute_result"
    }
   ],
   "source": [
    "#q13\n",
    "battle('Bulbasaur', 'Spearow')"
   ]
  },
  {
   "cell_type": "code",
   "execution_count": 20,
   "id": "3e210e82",
   "metadata": {
    "scrolled": true
   },
   "outputs": [
    {
     "data": {
      "text/plain": [
       "'Bellsprout ran away'"
      ]
     },
     "execution_count": 20,
     "metadata": {},
     "output_type": "execute_result"
    }
   ],
   "source": [
    "#q14\n",
    "battle('Heatran', 'Bellsprout')"
   ]
  },
  {
   "cell_type": "code",
   "execution_count": 21,
   "id": "c33041d8",
   "metadata": {
    "scrolled": true
   },
   "outputs": [
    {
     "data": {
      "text/plain": [
       "'Meditite ran away'"
      ]
     },
     "execution_count": 21,
     "metadata": {},
     "output_type": "execute_result"
    }
   ],
   "source": [
    "#q15\n",
    "battle('Meditite', 'Gyarados')"
   ]
  },
  {
   "cell_type": "code",
   "execution_count": 22,
   "id": "db8f08a3",
   "metadata": {},
   "outputs": [
    {
     "data": {
      "text/plain": [
       "'Draw'"
      ]
     },
     "execution_count": 22,
     "metadata": {},
     "output_type": "execute_result"
    }
   ],
   "source": [
    "#q16\n",
    "battle('Mudkip', 'Gulpin')"
   ]
  },
  {
   "cell_type": "code",
   "execution_count": 23,
   "id": "87cd1f13",
   "metadata": {},
   "outputs": [],
   "source": [
    "def two_on_two_battle(pkmn1, pkmn2, pkmn3, pkmn4):\n",
    "    round1_pk1_3 = battle (pkmn1, pkmn3)\n",
    "    round1_pk2_4 = battle (pkmn2, pkmn4)\n",
    "    round2_pk1_4 = battle (pkmn1, pkmn4)\n",
    "    round2_pk2_3 = battle (pkmn2, pkmn3)\n",
    "    if round1_pk1_3 == pkmn1 and round1_pk2_4 == pkmn2:\n",
    "        return \"Team A wins\"\n",
    "    elif round1_pk1_3 == pkmn3 and round1_pk2_4 == pkmn4:\n",
    "        return \"Team B wins\"\n",
    "    elif (round1_pk1_3 == pkmn1 and round1_pk2_4 == pkmn4) or (round1_pk1_3 == pkmn3 and round1_pk2_4 == pkmn2):\n",
    "        if round1_pk1_3 == pkmn1 and round1_pk2_4 == pkmn4:\n",
    "            if round2_pk1_4 == pkmn1:\n",
    "                return \"Team A wins\"\n",
    "            elif round2_pk1_4 == pkmn4:\n",
    "                return \"Team B wins\"\n",
    "            else:\n",
    "                return \"No result\"\n",
    "        else:\n",
    "            if round2_pk2_3 == pkmn2:\n",
    "                return \"Team A wins\"\n",
    "            elif round2_pk2_3 == pkmn3:\n",
    "                return \"Team B wins\"\n",
    "            else:\n",
    "                return \"No result\"   \n",
    "    else:\n",
    "        return \"No result\"\n",
    "\n"
   ]
  },
  {
   "cell_type": "code",
   "execution_count": 24,
   "id": "42e0bdc4",
   "metadata": {},
   "outputs": [
    {
     "data": {
      "text/plain": [
       "'Team B wins'"
      ]
     },
     "execution_count": 24,
     "metadata": {},
     "output_type": "execute_result"
    }
   ],
   "source": [
    "#q17\n",
    "two_on_two_battle('Squirtle', 'Mudkip', 'Infernape', 'Charizard')"
   ]
  },
  {
   "cell_type": "code",
   "execution_count": 25,
   "id": "b9f573c7",
   "metadata": {},
   "outputs": [
    {
     "data": {
      "text/plain": [
       "'Team A wins'"
      ]
     },
     "execution_count": 25,
     "metadata": {},
     "output_type": "execute_result"
    }
   ],
   "source": [
    "#q18\n",
    "two_on_two_battle('Umbreon', 'Flareon', 'Jolteon', 'Glaceon')"
   ]
  },
  {
   "cell_type": "code",
   "execution_count": 26,
   "id": "2989e7ed",
   "metadata": {},
   "outputs": [
    {
     "data": {
      "text/plain": [
       "'Team A wins'"
      ]
     },
     "execution_count": 26,
     "metadata": {},
     "output_type": "execute_result"
    }
   ],
   "source": [
    "#q19\n",
    "two_on_two_battle('Electivire', 'Arcanine', 'Greninja', 'Charizard')"
   ]
  },
  {
   "cell_type": "code",
   "execution_count": 27,
   "id": "58dfc5ef",
   "metadata": {},
   "outputs": [
    {
     "data": {
      "text/plain": [
       "'Team B wins'"
      ]
     },
     "execution_count": 27,
     "metadata": {},
     "output_type": "execute_result"
    }
   ],
   "source": [
    "#q20\n",
    "two_on_two_battle('Flygon', 'Sceptile', 'Garchomp', 'Torterra')"
   ]
  }
 ],
 "metadata": {
  "kernelspec": {
   "display_name": "Python 3",
   "language": "python",
   "name": "python3"
  },
  "language_info": {
   "codemirror_mode": {
    "name": "ipython",
    "version": 3
   },
   "file_extension": ".py",
   "mimetype": "text/x-python",
   "name": "python",
   "nbconvert_exporter": "python",
   "pygments_lexer": "ipython3",
   "version": "3.8.8"
  }
 },
 "nbformat": 4,
 "nbformat_minor": 5
}
