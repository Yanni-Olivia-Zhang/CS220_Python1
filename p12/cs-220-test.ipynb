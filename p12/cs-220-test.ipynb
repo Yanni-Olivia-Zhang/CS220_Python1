{
 "cells": [
  {
   "cell_type": "code",
   "execution_count": 1,
   "id": "11ef2d77",
   "metadata": {
    "execution": {
     "iopub.execute_input": "2021-12-01T01:30:38.910951Z",
     "iopub.status.busy": "2021-12-01T01:30:38.910229Z",
     "iopub.status.idle": "2021-12-01T01:30:38.912234Z",
     "shell.execute_reply": "2021-12-01T01:30:38.912624Z"
    }
   },
   "outputs": [],
   "source": [
    "# project: p12\n",
    "# submitter: yzhang2232\n",
    "# partner: none\n",
    "# hours: "
   ]
  },
  {
   "cell_type": "code",
   "execution_count": 2,
   "id": "fb72ce84",
   "metadata": {
    "execution": {
     "iopub.execute_input": "2021-12-01T01:30:38.916695Z",
     "iopub.status.busy": "2021-12-01T01:30:38.915871Z",
     "iopub.status.idle": "2021-12-01T01:30:39.882962Z",
     "shell.execute_reply": "2021-12-01T01:30:39.883537Z"
    }
   },
   "outputs": [],
   "source": [
    "import os\n",
    "import requests\n",
    "import pandas as pd\n",
    "from pandas import DataFrame, Series\n",
    "from bs4 import BeautifulSoup \n",
    "import json"
   ]
  },
  {
   "cell_type": "code",
   "execution_count": 3,
   "id": "cb0d13c1",
   "metadata": {
    "execution": {
     "iopub.execute_input": "2021-12-01T01:30:39.888497Z",
     "iopub.status.busy": "2021-12-01T01:30:39.887854Z",
     "iopub.status.idle": "2021-12-01T01:30:39.889501Z",
     "shell.execute_reply": "2021-12-01T01:30:39.890058Z"
    }
   },
   "outputs": [],
   "source": [
    "def download(filename, url):\n",
    "    # We do not download again if the file already exists\n",
    "    if os.path.exists(filename):\n",
    "        return (str(filename) + \" already exists!\")\n",
    "    \n",
    "    r = requests.get(url)\n",
    "    assert(r.status_code == 200)\n",
    "    data = r.text\n",
    "    f = open(filename, \"w\", encoding = \"utf-8\")\n",
    "    f.write(data)\n",
    "    # TODO: Write the code to download the file from URL\n",
    "    # and save it in `filename`\n",
    "    # Make sure to call the function that checks for 200 status_code\n",
    "\n",
    "    return (str(filename) + \" created!\")\n"
   ]
  },
  {
   "cell_type": "code",
   "execution_count": 4,
   "id": "cc3552e2",
   "metadata": {
    "execution": {
     "iopub.execute_input": "2021-12-01T01:30:39.894004Z",
     "iopub.status.busy": "2021-12-01T01:30:39.893413Z",
     "iopub.status.idle": "2021-12-01T01:30:40.150808Z",
     "shell.execute_reply": "2021-12-01T01:30:40.150259Z"
    }
   },
   "outputs": [
    {
     "data": {
      "text/plain": [
       "'rankings.json created!'"
      ]
     },
     "execution_count": 1,
     "metadata": {},
     "output_type": "execute_result"
    }
   ],
   "source": [
    "download(\"rankings.json\", \"https://raw.githubusercontent.com/msyamkumar/cs220-f21-projects/main/p12/rankings.json\")"
   ]
  },
  {
   "cell_type": "code",
   "execution_count": 5,
   "id": "201982e7",
   "metadata": {
    "execution": {
     "iopub.execute_input": "2021-12-01T01:30:40.156237Z",
     "iopub.status.busy": "2021-12-01T01:30:40.155098Z",
     "iopub.status.idle": "2021-12-01T01:30:40.245505Z",
     "shell.execute_reply": "2021-12-01T01:30:40.245959Z"
    }
   },
   "outputs": [
    {
     "data": {
      "text/html": [
       "<div>\n",
       "<style scoped>\n",
       "    .dataframe tbody tr th:only-of-type {\n",
       "        vertical-align: middle;\n",
       "    }\n",
       "\n",
       "    .dataframe tbody tr th {\n",
       "        vertical-align: top;\n",
       "    }\n",
       "\n",
       "    .dataframe thead th {\n",
       "        text-align: right;\n",
       "    }\n",
       "</style>\n",
       "<table border=\"1\" class=\"dataframe\">\n",
       "  <thead>\n",
       "    <tr style=\"text-align: right;\">\n",
       "      <th></th>\n",
       "      <th>World Rank</th>\n",
       "      <th>Year</th>\n",
       "      <th>Institution</th>\n",
       "      <th>Country</th>\n",
       "      <th>National Rank</th>\n",
       "      <th>Quality of Education Rank</th>\n",
       "      <th>Alumni Employment Rank</th>\n",
       "      <th>Quality of Faculty Rank</th>\n",
       "      <th>Research Performance Rank</th>\n",
       "      <th>Score</th>\n",
       "    </tr>\n",
       "  </thead>\n",
       "  <tbody>\n",
       "    <tr>\n",
       "      <th>0</th>\n",
       "      <td>1</td>\n",
       "      <td>2019-2020</td>\n",
       "      <td>Harvard University</td>\n",
       "      <td>USA</td>\n",
       "      <td>1</td>\n",
       "      <td>2.0</td>\n",
       "      <td>1.0</td>\n",
       "      <td>1.0</td>\n",
       "      <td>1.0</td>\n",
       "      <td>100.0</td>\n",
       "    </tr>\n",
       "    <tr>\n",
       "      <th>1</th>\n",
       "      <td>2</td>\n",
       "      <td>2019-2020</td>\n",
       "      <td>Massachusetts Institute of Technology</td>\n",
       "      <td>USA</td>\n",
       "      <td>2</td>\n",
       "      <td>1.0</td>\n",
       "      <td>10.0</td>\n",
       "      <td>2.0</td>\n",
       "      <td>5.0</td>\n",
       "      <td>96.7</td>\n",
       "    </tr>\n",
       "    <tr>\n",
       "      <th>2</th>\n",
       "      <td>3</td>\n",
       "      <td>2019-2020</td>\n",
       "      <td>Stanford University</td>\n",
       "      <td>USA</td>\n",
       "      <td>3</td>\n",
       "      <td>9.0</td>\n",
       "      <td>3.0</td>\n",
       "      <td>3.0</td>\n",
       "      <td>2.0</td>\n",
       "      <td>95.2</td>\n",
       "    </tr>\n",
       "    <tr>\n",
       "      <th>3</th>\n",
       "      <td>4</td>\n",
       "      <td>2019-2020</td>\n",
       "      <td>University of Cambridge</td>\n",
       "      <td>United Kingdom</td>\n",
       "      <td>1</td>\n",
       "      <td>4.0</td>\n",
       "      <td>19.0</td>\n",
       "      <td>5.0</td>\n",
       "      <td>11.0</td>\n",
       "      <td>94.1</td>\n",
       "    </tr>\n",
       "    <tr>\n",
       "      <th>4</th>\n",
       "      <td>5</td>\n",
       "      <td>2019-2020</td>\n",
       "      <td>University of Oxford</td>\n",
       "      <td>United Kingdom</td>\n",
       "      <td>2</td>\n",
       "      <td>10.0</td>\n",
       "      <td>24.0</td>\n",
       "      <td>10.0</td>\n",
       "      <td>4.0</td>\n",
       "      <td>93.3</td>\n",
       "    </tr>\n",
       "  </tbody>\n",
       "</table>\n",
       "</div>"
      ],
      "text/plain": [
       "   World Rank       Year                            Institution  \\\n",
       "0           1  2019-2020                     Harvard University   \n",
       "1           2  2019-2020  Massachusetts Institute of Technology   \n",
       "2           3  2019-2020                    Stanford University   \n",
       "3           4  2019-2020                University of Cambridge   \n",
       "4           5  2019-2020                   University of Oxford   \n",
       "\n",
       "          Country  National Rank  Quality of Education Rank  \\\n",
       "0             USA              1                        2.0   \n",
       "1             USA              2                        1.0   \n",
       "2             USA              3                        9.0   \n",
       "3  United Kingdom              1                        4.0   \n",
       "4  United Kingdom              2                       10.0   \n",
       "\n",
       "   Alumni Employment Rank  Quality of Faculty Rank  Research Performance Rank  \\\n",
       "0                     1.0                      1.0                        1.0   \n",
       "1                    10.0                      2.0                        5.0   \n",
       "2                     3.0                      3.0                        2.0   \n",
       "3                    19.0                      5.0                       11.0   \n",
       "4                    24.0                     10.0                        4.0   \n",
       "\n",
       "   Score  \n",
       "0  100.0  \n",
       "1   96.7  \n",
       "2   95.2  \n",
       "3   94.1  \n",
       "4   93.3  "
      ]
     },
     "execution_count": 1,
     "metadata": {},
     "output_type": "execute_result"
    }
   ],
   "source": [
    "rankings = pd.read_json(\"rankings.json\")\n",
    "rankings.head()"
   ]
  },
  {
   "cell_type": "code",
   "execution_count": 6,
   "id": "07318333",
   "metadata": {
    "execution": {
     "iopub.execute_input": "2021-12-01T01:30:40.251708Z",
     "iopub.status.busy": "2021-12-01T01:30:40.251081Z",
     "iopub.status.idle": "2021-12-01T01:30:40.253367Z",
     "shell.execute_reply": "2021-12-01T01:30:40.253751Z"
    }
   },
   "outputs": [
    {
     "data": {
      "text/plain": [
       "103"
      ]
     },
     "execution_count": 1,
     "metadata": {},
     "output_type": "execute_result"
    }
   ],
   "source": [
    "#q1\n",
    "country = rankings[\"Country\"]\n",
    "len(set(list(country)))"
   ]
  },
  {
   "cell_type": "code",
   "execution_count": 7,
   "id": "281a3585",
   "metadata": {
    "execution": {
     "iopub.execute_input": "2021-12-01T01:30:40.270805Z",
     "iopub.status.busy": "2021-12-01T01:30:40.269792Z",
     "iopub.status.idle": "2021-12-01T01:30:40.272816Z",
     "shell.execute_reply": "2021-12-01T01:30:40.273282Z"
    }
   },
   "outputs": [
    {
     "data": {
      "text/html": [
       "<div>\n",
       "<style scoped>\n",
       "    .dataframe tbody tr th:only-of-type {\n",
       "        vertical-align: middle;\n",
       "    }\n",
       "\n",
       "    .dataframe tbody tr th {\n",
       "        vertical-align: top;\n",
       "    }\n",
       "\n",
       "    .dataframe thead th {\n",
       "        text-align: right;\n",
       "    }\n",
       "</style>\n",
       "<table border=\"1\" class=\"dataframe\">\n",
       "  <thead>\n",
       "    <tr style=\"text-align: right;\">\n",
       "      <th></th>\n",
       "      <th>World Rank</th>\n",
       "      <th>Year</th>\n",
       "      <th>Institution</th>\n",
       "      <th>Country</th>\n",
       "      <th>National Rank</th>\n",
       "      <th>Quality of Education Rank</th>\n",
       "      <th>Alumni Employment Rank</th>\n",
       "      <th>Quality of Faculty Rank</th>\n",
       "      <th>Research Performance Rank</th>\n",
       "      <th>Score</th>\n",
       "    </tr>\n",
       "  </thead>\n",
       "  <tbody>\n",
       "    <tr>\n",
       "      <th>0</th>\n",
       "      <td>1</td>\n",
       "      <td>2019-2020</td>\n",
       "      <td>Harvard University</td>\n",
       "      <td>USA</td>\n",
       "      <td>1</td>\n",
       "      <td>2.0</td>\n",
       "      <td>1.0</td>\n",
       "      <td>1.0</td>\n",
       "      <td>1.0</td>\n",
       "      <td>100.0</td>\n",
       "    </tr>\n",
       "    <tr>\n",
       "      <th>2000</th>\n",
       "      <td>1</td>\n",
       "      <td>2020-2021</td>\n",
       "      <td>Harvard University</td>\n",
       "      <td>USA</td>\n",
       "      <td>1</td>\n",
       "      <td>3.0</td>\n",
       "      <td>1.0</td>\n",
       "      <td>1.0</td>\n",
       "      <td>1.0</td>\n",
       "      <td>100.0</td>\n",
       "    </tr>\n",
       "    <tr>\n",
       "      <th>4000</th>\n",
       "      <td>1</td>\n",
       "      <td>2021-2022</td>\n",
       "      <td>Harvard University</td>\n",
       "      <td>USA</td>\n",
       "      <td>1</td>\n",
       "      <td>1.0</td>\n",
       "      <td>1.0</td>\n",
       "      <td>1.0</td>\n",
       "      <td>1.0</td>\n",
       "      <td>100.0</td>\n",
       "    </tr>\n",
       "  </tbody>\n",
       "</table>\n",
       "</div>"
      ],
      "text/plain": [
       "      World Rank       Year         Institution Country  National Rank  \\\n",
       "0              1  2019-2020  Harvard University     USA              1   \n",
       "2000           1  2020-2021  Harvard University     USA              1   \n",
       "4000           1  2021-2022  Harvard University     USA              1   \n",
       "\n",
       "      Quality of Education Rank  Alumni Employment Rank  \\\n",
       "0                           2.0                     1.0   \n",
       "2000                        3.0                     1.0   \n",
       "4000                        1.0                     1.0   \n",
       "\n",
       "      Quality of Faculty Rank  Research Performance Rank  Score  \n",
       "0                         1.0                        1.0  100.0  \n",
       "2000                      1.0                        1.0  100.0  \n",
       "4000                      1.0                        1.0  100.0  "
      ]
     },
     "execution_count": 1,
     "metadata": {},
     "output_type": "execute_result"
    }
   ],
   "source": [
    "#q2\n",
    "rankings[rankings[\"World Rank\"] == 1]"
   ]
  },
  {
   "cell_type": "code",
   "execution_count": 8,
   "id": "c6a0c358",
   "metadata": {
    "execution": {
     "iopub.execute_input": "2021-12-01T01:30:40.285916Z",
     "iopub.status.busy": "2021-12-01T01:30:40.285186Z",
     "iopub.status.idle": "2021-12-01T01:30:40.288213Z",
     "shell.execute_reply": "2021-12-01T01:30:40.288697Z"
    }
   },
   "outputs": [
    {
     "data": {
      "text/html": [
       "<div>\n",
       "<style scoped>\n",
       "    .dataframe tbody tr th:only-of-type {\n",
       "        vertical-align: middle;\n",
       "    }\n",
       "\n",
       "    .dataframe tbody tr th {\n",
       "        vertical-align: top;\n",
       "    }\n",
       "\n",
       "    .dataframe thead th {\n",
       "        text-align: right;\n",
       "    }\n",
       "</style>\n",
       "<table border=\"1\" class=\"dataframe\">\n",
       "  <thead>\n",
       "    <tr style=\"text-align: right;\">\n",
       "      <th></th>\n",
       "      <th>World Rank</th>\n",
       "      <th>Year</th>\n",
       "      <th>Institution</th>\n",
       "      <th>Country</th>\n",
       "      <th>National Rank</th>\n",
       "      <th>Quality of Education Rank</th>\n",
       "      <th>Alumni Employment Rank</th>\n",
       "      <th>Quality of Faculty Rank</th>\n",
       "      <th>Research Performance Rank</th>\n",
       "      <th>Score</th>\n",
       "    </tr>\n",
       "  </thead>\n",
       "  <tbody>\n",
       "    <tr>\n",
       "      <th>24</th>\n",
       "      <td>25</td>\n",
       "      <td>2019-2020</td>\n",
       "      <td>University of Wisconsin–Madison</td>\n",
       "      <td>USA</td>\n",
       "      <td>19</td>\n",
       "      <td>28.0</td>\n",
       "      <td>80.0</td>\n",
       "      <td>35.0</td>\n",
       "      <td>27.0</td>\n",
       "      <td>87.3</td>\n",
       "    </tr>\n",
       "    <tr>\n",
       "      <th>2025</th>\n",
       "      <td>26</td>\n",
       "      <td>2020-2021</td>\n",
       "      <td>University of Wisconsin–Madison</td>\n",
       "      <td>USA</td>\n",
       "      <td>20</td>\n",
       "      <td>34.0</td>\n",
       "      <td>93.0</td>\n",
       "      <td>34.0</td>\n",
       "      <td>31.0</td>\n",
       "      <td>87.2</td>\n",
       "    </tr>\n",
       "    <tr>\n",
       "      <th>4024</th>\n",
       "      <td>25</td>\n",
       "      <td>2021-2022</td>\n",
       "      <td>University of Wisconsin–Madison</td>\n",
       "      <td>USA</td>\n",
       "      <td>19</td>\n",
       "      <td>33.0</td>\n",
       "      <td>97.0</td>\n",
       "      <td>29.0</td>\n",
       "      <td>32.0</td>\n",
       "      <td>87.3</td>\n",
       "    </tr>\n",
       "  </tbody>\n",
       "</table>\n",
       "</div>"
      ],
      "text/plain": [
       "      World Rank       Year                      Institution Country  \\\n",
       "24            25  2019-2020  University of Wisconsin–Madison     USA   \n",
       "2025          26  2020-2021  University of Wisconsin–Madison     USA   \n",
       "4024          25  2021-2022  University of Wisconsin–Madison     USA   \n",
       "\n",
       "      National Rank  Quality of Education Rank  Alumni Employment Rank  \\\n",
       "24               19                       28.0                    80.0   \n",
       "2025             20                       34.0                    93.0   \n",
       "4024             19                       33.0                    97.0   \n",
       "\n",
       "      Quality of Faculty Rank  Research Performance Rank  Score  \n",
       "24                       35.0                       27.0   87.3  \n",
       "2025                     34.0                       31.0   87.2  \n",
       "4024                     29.0                       32.0   87.3  "
      ]
     },
     "execution_count": 1,
     "metadata": {},
     "output_type": "execute_result"
    }
   ],
   "source": [
    "#q3\n",
    "uwmadison = rankings[rankings[\"Institution\"] == \"University of Wisconsin–Madison\"]\n",
    "uwmadison"
   ]
  },
  {
   "cell_type": "code",
   "execution_count": 9,
   "id": "203f5fbe",
   "metadata": {
    "execution": {
     "iopub.execute_input": "2021-12-01T01:30:40.294446Z",
     "iopub.status.busy": "2021-12-01T01:30:40.293388Z",
     "iopub.status.idle": "2021-12-01T01:30:40.297063Z",
     "shell.execute_reply": "2021-12-01T01:30:40.297607Z"
    }
   },
   "outputs": [
    {
     "data": {
      "text/plain": [
       "19"
      ]
     },
     "execution_count": 1,
     "metadata": {},
     "output_type": "execute_result"
    }
   ],
   "source": [
    "#q4\n",
    "uwmadison[uwmadison[\"Year\"] == \"2021-2022\"].iloc[0,4]"
   ]
  },
  {
   "cell_type": "code",
   "execution_count": 10,
   "id": "25e168f3",
   "metadata": {
    "execution": {
     "iopub.execute_input": "2021-12-01T01:30:40.304631Z",
     "iopub.status.busy": "2021-12-01T01:30:40.301930Z",
     "iopub.status.idle": "2021-12-01T01:30:40.306404Z",
     "shell.execute_reply": "2021-12-01T01:30:40.305208Z"
    }
   },
   "outputs": [
    {
     "data": {
      "text/plain": [
       "87.26666666666667"
      ]
     },
     "execution_count": 1,
     "metadata": {},
     "output_type": "execute_result"
    }
   ],
   "source": [
    "#q5\n",
    "Series(uwmadison[\"Score\"]).mean()"
   ]
  },
  {
   "cell_type": "code",
   "execution_count": 11,
   "id": "176949c2",
   "metadata": {
    "execution": {
     "iopub.execute_input": "2021-12-01T01:30:40.319806Z",
     "iopub.status.busy": "2021-12-01T01:30:40.318886Z",
     "iopub.status.idle": "2021-12-01T01:30:40.322014Z",
     "shell.execute_reply": "2021-12-01T01:30:40.322498Z"
    }
   },
   "outputs": [
    {
     "data": {
      "text/html": [
       "<div>\n",
       "<style scoped>\n",
       "    .dataframe tbody tr th:only-of-type {\n",
       "        vertical-align: middle;\n",
       "    }\n",
       "\n",
       "    .dataframe tbody tr th {\n",
       "        vertical-align: top;\n",
       "    }\n",
       "\n",
       "    .dataframe thead th {\n",
       "        text-align: right;\n",
       "    }\n",
       "</style>\n",
       "<table border=\"1\" class=\"dataframe\">\n",
       "  <thead>\n",
       "    <tr style=\"text-align: right;\">\n",
       "      <th></th>\n",
       "      <th>World Rank</th>\n",
       "      <th>Year</th>\n",
       "      <th>Institution</th>\n",
       "      <th>Country</th>\n",
       "      <th>National Rank</th>\n",
       "      <th>Quality of Education Rank</th>\n",
       "      <th>Alumni Employment Rank</th>\n",
       "      <th>Quality of Faculty Rank</th>\n",
       "      <th>Research Performance Rank</th>\n",
       "      <th>Score</th>\n",
       "    </tr>\n",
       "  </thead>\n",
       "  <tbody>\n",
       "    <tr>\n",
       "      <th>2094</th>\n",
       "      <td>95</td>\n",
       "      <td>2020-2021</td>\n",
       "      <td>National University of Singapore</td>\n",
       "      <td>Singapore</td>\n",
       "      <td>1</td>\n",
       "      <td>330.0</td>\n",
       "      <td>165.0</td>\n",
       "      <td>NaN</td>\n",
       "      <td>41.0</td>\n",
       "      <td>82.0</td>\n",
       "    </tr>\n",
       "    <tr>\n",
       "      <th>2139</th>\n",
       "      <td>140</td>\n",
       "      <td>2020-2021</td>\n",
       "      <td>Nanyang Technological University</td>\n",
       "      <td>Singapore</td>\n",
       "      <td>2</td>\n",
       "      <td>NaN</td>\n",
       "      <td>996.0</td>\n",
       "      <td>NaN</td>\n",
       "      <td>75.0</td>\n",
       "      <td>80.3</td>\n",
       "    </tr>\n",
       "    <tr>\n",
       "      <th>3150</th>\n",
       "      <td>1151</td>\n",
       "      <td>2020-2021</td>\n",
       "      <td>Singapore University of Technology and Design</td>\n",
       "      <td>Singapore</td>\n",
       "      <td>3</td>\n",
       "      <td>NaN</td>\n",
       "      <td>NaN</td>\n",
       "      <td>NaN</td>\n",
       "      <td>1092.0</td>\n",
       "      <td>69.4</td>\n",
       "    </tr>\n",
       "    <tr>\n",
       "      <th>3286</th>\n",
       "      <td>1287</td>\n",
       "      <td>2020-2021</td>\n",
       "      <td>Singapore Management University</td>\n",
       "      <td>Singapore</td>\n",
       "      <td>4</td>\n",
       "      <td>NaN</td>\n",
       "      <td>NaN</td>\n",
       "      <td>NaN</td>\n",
       "      <td>1225.0</td>\n",
       "      <td>68.7</td>\n",
       "    </tr>\n",
       "  </tbody>\n",
       "</table>\n",
       "</div>"
      ],
      "text/plain": [
       "      World Rank       Year                                    Institution  \\\n",
       "2094          95  2020-2021               National University of Singapore   \n",
       "2139         140  2020-2021               Nanyang Technological University   \n",
       "3150        1151  2020-2021  Singapore University of Technology and Design   \n",
       "3286        1287  2020-2021                Singapore Management University   \n",
       "\n",
       "        Country  National Rank  Quality of Education Rank  \\\n",
       "2094  Singapore              1                      330.0   \n",
       "2139  Singapore              2                        NaN   \n",
       "3150  Singapore              3                        NaN   \n",
       "3286  Singapore              4                        NaN   \n",
       "\n",
       "      Alumni Employment Rank  Quality of Faculty Rank  \\\n",
       "2094                   165.0                      NaN   \n",
       "2139                   996.0                      NaN   \n",
       "3150                     NaN                      NaN   \n",
       "3286                     NaN                      NaN   \n",
       "\n",
       "      Research Performance Rank  Score  \n",
       "2094                       41.0   82.0  \n",
       "2139                       75.0   80.3  \n",
       "3150                     1092.0   69.4  \n",
       "3286                     1225.0   68.7  "
      ]
     },
     "execution_count": 1,
     "metadata": {},
     "output_type": "execute_result"
    }
   ],
   "source": [
    "#q6\n",
    "rankings[(rankings[\"Country\"] == \"Singapore\") & (rankings[\"Year\"] == \"2020-2021\")]"
   ]
  },
  {
   "cell_type": "code",
   "execution_count": 12,
   "id": "34c2b458",
   "metadata": {
    "execution": {
     "iopub.execute_input": "2021-12-01T01:30:40.330594Z",
     "iopub.status.busy": "2021-12-01T01:30:40.329575Z",
     "iopub.status.idle": "2021-12-01T01:30:40.333290Z",
     "shell.execute_reply": "2021-12-01T01:30:40.333739Z"
    }
   },
   "outputs": [
    {
     "data": {
      "text/plain": [
       "'Ludwig Maximilian University of Munich'"
      ]
     },
     "execution_count": 1,
     "metadata": {},
     "output_type": "execute_result"
    }
   ],
   "source": [
    "#q7\n",
    "germany_top = rankings[(rankings[\"Country\"] == \"Germany\") \\\n",
    "        & (rankings[\"Year\"] == \"2019-2020\") \\\n",
    "        & (rankings[\"National Rank\"] == 1)]\n",
    "germany_top.iloc[0,2]"
   ]
  },
  {
   "cell_type": "code",
   "execution_count": 13,
   "id": "d1969ade",
   "metadata": {
    "execution": {
     "iopub.execute_input": "2021-12-01T01:30:40.341541Z",
     "iopub.status.busy": "2021-12-01T01:30:40.340965Z",
     "iopub.status.idle": "2021-12-01T01:30:40.343485Z",
     "shell.execute_reply": "2021-12-01T01:30:40.343872Z"
    }
   },
   "outputs": [
    {
     "data": {
      "text/plain": [
       "['Harvard University',\n",
       " 'Massachusetts Institute of Technology',\n",
       " 'Stanford University',\n",
       " 'Columbia University',\n",
       " 'Princeton University',\n",
       " 'University of California, Berkeley',\n",
       " 'University of Pennsylvania',\n",
       " 'University of Chicago',\n",
       " 'California Institute of Technology',\n",
       " 'Yale University',\n",
       " 'Cornell University',\n",
       " 'Northwestern University',\n",
       " 'University of California, Los Angeles',\n",
       " 'University of Michigan, Ann Arbor',\n",
       " 'Johns Hopkins University',\n",
       " 'University of Washington - Seattle',\n",
       " 'University of Illinois at Urbana–Champaign',\n",
       " 'Duke University',\n",
       " 'University of Wisconsin–Madison',\n",
       " 'New York University',\n",
       " 'University of California San Diego',\n",
       " 'University of Texas at Austin',\n",
       " 'University of California, San Francisco',\n",
       " 'University of North Carolina at Chapel Hill',\n",
       " 'University of Minnesota - Twin Cities',\n",
       " 'University of Texas Southwestern Medical Center',\n",
       " 'Washington University in St. Louis',\n",
       " 'University of Southern California',\n",
       " 'Brown University',\n",
       " 'Vanderbilt University',\n",
       " 'Pennsylvania State University',\n",
       " 'Rutgers University–New Brunswick',\n",
       " 'Dartmouth College',\n",
       " 'University of California, Davis']"
      ]
     },
     "execution_count": 1,
     "metadata": {},
     "output_type": "execute_result"
    }
   ],
   "source": [
    "#q8\n",
    "world_rank = germany_top.iloc[0,0]\n",
    "better_rank = rankings[(rankings[\"Country\"] == \"USA\") \\\n",
    "        & (rankings[\"Year\"] == \"2019-2020\") \\\n",
    "        & (rankings[\"World Rank\"] < world_rank)]\n",
    "list(better_rank[\"Institution\"])"
   ]
  },
  {
   "cell_type": "code",
   "execution_count": 14,
   "id": "90ea50f8",
   "metadata": {
    "execution": {
     "iopub.execute_input": "2021-12-01T01:30:40.351469Z",
     "iopub.status.busy": "2021-12-01T01:30:40.350060Z",
     "iopub.status.idle": "2021-12-01T01:30:40.353299Z",
     "shell.execute_reply": "2021-12-01T01:30:40.353777Z"
    },
    "scrolled": true
   },
   "outputs": [
    {
     "data": {
      "text/plain": [
       "'Fudan University'"
      ]
     },
     "execution_count": 1,
     "metadata": {},
     "output_type": "execute_result"
    }
   ],
   "source": [
    "#q9\n",
    "china_2021_2022 = rankings[(rankings[\"Country\"] == \"China\") \\\n",
    "        & (rankings[\"Year\"] == \"2021-2022\")]\n",
    "highest = Series(china_2021_2022[\"Quality of Education Rank\"]).min()\n",
    "china_2021_2022[china_2021_2022[\"Quality of Education Rank\"] == highest].iloc[0,2]"
   ]
  },
  {
   "cell_type": "code",
   "execution_count": 15,
   "id": "79208217",
   "metadata": {
    "execution": {
     "iopub.execute_input": "2021-12-01T01:30:40.360980Z",
     "iopub.status.busy": "2021-12-01T01:30:40.360309Z",
     "iopub.status.idle": "2021-12-01T01:30:40.364195Z",
     "shell.execute_reply": "2021-12-01T01:30:40.363510Z"
    }
   },
   "outputs": [
    {
     "data": {
      "text/plain": [
       "['Indian Institute of Science',\n",
       " 'Tata Institute of Fundamental Research',\n",
       " 'Indian Institute of Technology Bombay',\n",
       " 'University of Delhi',\n",
       " 'Indian Institute of Technology Madras']"
      ]
     },
     "execution_count": 1,
     "metadata": {},
     "output_type": "execute_result"
    }
   ],
   "source": [
    "#q10\n",
    "india_2020_2021 = rankings[(rankings[\"Country\"] == \"India\") \\\n",
    "        & (rankings[\"Year\"] == \"2020-2021\")]\n",
    "head_5 = india_2020_2021.sort_values(by = \"Research Performance Rank\").head(5)\n",
    "list(head_5[\"Institution\"])"
   ]
  },
  {
   "cell_type": "code",
   "execution_count": 16,
   "id": "f6eb235f",
   "metadata": {
    "execution": {
     "iopub.execute_input": "2021-12-01T01:30:40.371355Z",
     "iopub.status.busy": "2021-12-01T01:30:40.370479Z",
     "iopub.status.idle": "2021-12-01T01:30:40.380615Z",
     "shell.execute_reply": "2021-12-01T01:30:40.381321Z"
    }
   },
   "outputs": [
    {
     "data": {
      "text/plain": [
       "1856"
      ]
     },
     "execution_count": 1,
     "metadata": {},
     "output_type": "execute_result"
    }
   ],
   "source": [
    "#q11\n",
    "year_2019_ranking_df = rankings[rankings[\"Year\"] == \"2019-2020\"]\n",
    "year_2020_ranking_df = rankings[rankings[\"Year\"] == \"2020-2021\"]\n",
    "year_2021_ranking_df = rankings[rankings[\"Year\"] == \"2021-2022\"]\n",
    "\n",
    "set_2019 = set(year_2019_ranking_df[\"Institution\"])\n",
    "set_2020 = set(year_2020_ranking_df[\"Institution\"])\n",
    "set_2021 = set(year_2021_ranking_df[\"Institution\"])\n",
    "\n",
    "institution_2019_2020_2021 = set_2019.intersection(set_2020, set_2021) # TODO: find a list of all institutions which appear in all three DataFrames. See below Note.\n",
    "len(institution_2019_2020_2021)"
   ]
  },
  {
   "cell_type": "code",
   "execution_count": 17,
   "id": "59df7187",
   "metadata": {
    "execution": {
     "iopub.execute_input": "2021-12-01T01:30:40.450789Z",
     "iopub.status.busy": "2021-12-01T01:30:40.404599Z",
     "iopub.status.idle": "2021-12-01T01:30:43.996600Z",
     "shell.execute_reply": "2021-12-01T01:30:43.996983Z"
    },
    "scrolled": true
   },
   "outputs": [
    {
     "data": {
      "text/html": [
       "<div>\n",
       "<style scoped>\n",
       "    .dataframe tbody tr th:only-of-type {\n",
       "        vertical-align: middle;\n",
       "    }\n",
       "\n",
       "    .dataframe tbody tr th {\n",
       "        vertical-align: top;\n",
       "    }\n",
       "\n",
       "    .dataframe thead th {\n",
       "        text-align: right;\n",
       "    }\n",
       "</style>\n",
       "<table border=\"1\" class=\"dataframe\">\n",
       "  <thead>\n",
       "    <tr style=\"text-align: right;\">\n",
       "      <th></th>\n",
       "      <th>Institution</th>\n",
       "      <th>2019_ranking</th>\n",
       "      <th>2020_ranking</th>\n",
       "      <th>2021_ranking</th>\n",
       "    </tr>\n",
       "  </thead>\n",
       "  <tbody>\n",
       "    <tr>\n",
       "      <th>0</th>\n",
       "      <td>University of Lille</td>\n",
       "      <td>313</td>\n",
       "      <td>304</td>\n",
       "      <td>310</td>\n",
       "    </tr>\n",
       "    <tr>\n",
       "      <th>1</th>\n",
       "      <td>Ulster University</td>\n",
       "      <td>887</td>\n",
       "      <td>903</td>\n",
       "      <td>921</td>\n",
       "    </tr>\n",
       "    <tr>\n",
       "      <th>2</th>\n",
       "      <td>King's College London</td>\n",
       "      <td>55</td>\n",
       "      <td>45</td>\n",
       "      <td>43</td>\n",
       "    </tr>\n",
       "    <tr>\n",
       "      <th>3</th>\n",
       "      <td>Colorado State University</td>\n",
       "      <td>233</td>\n",
       "      <td>252</td>\n",
       "      <td>255</td>\n",
       "    </tr>\n",
       "    <tr>\n",
       "      <th>4</th>\n",
       "      <td>University of Bari</td>\n",
       "      <td>421</td>\n",
       "      <td>405</td>\n",
       "      <td>408</td>\n",
       "    </tr>\n",
       "    <tr>\n",
       "      <th>...</th>\n",
       "      <td>...</td>\n",
       "      <td>...</td>\n",
       "      <td>...</td>\n",
       "      <td>...</td>\n",
       "    </tr>\n",
       "    <tr>\n",
       "      <th>1851</th>\n",
       "      <td>National Autonomous University of Mexico</td>\n",
       "      <td>262</td>\n",
       "      <td>284</td>\n",
       "      <td>287</td>\n",
       "    </tr>\n",
       "    <tr>\n",
       "      <th>1852</th>\n",
       "      <td>Montclair State University</td>\n",
       "      <td>1435</td>\n",
       "      <td>1510</td>\n",
       "      <td>1497</td>\n",
       "    </tr>\n",
       "    <tr>\n",
       "      <th>1853</th>\n",
       "      <td>Aix-Marseille University</td>\n",
       "      <td>151</td>\n",
       "      <td>157</td>\n",
       "      <td>157</td>\n",
       "    </tr>\n",
       "    <tr>\n",
       "      <th>1854</th>\n",
       "      <td>University of Tromsø – The Arctic University o...</td>\n",
       "      <td>489</td>\n",
       "      <td>488</td>\n",
       "      <td>512</td>\n",
       "    </tr>\n",
       "    <tr>\n",
       "      <th>1855</th>\n",
       "      <td>University of Udine</td>\n",
       "      <td>609</td>\n",
       "      <td>593</td>\n",
       "      <td>579</td>\n",
       "    </tr>\n",
       "  </tbody>\n",
       "</table>\n",
       "<p>1856 rows × 4 columns</p>\n",
       "</div>"
      ],
      "text/plain": [
       "                                            Institution  2019_ranking  \\\n",
       "0                                   University of Lille           313   \n",
       "1                                     Ulster University           887   \n",
       "2                                 King's College London            55   \n",
       "3                             Colorado State University           233   \n",
       "4                                    University of Bari           421   \n",
       "...                                                 ...           ...   \n",
       "1851           National Autonomous University of Mexico           262   \n",
       "1852                         Montclair State University          1435   \n",
       "1853                           Aix-Marseille University           151   \n",
       "1854  University of Tromsø – The Arctic University o...           489   \n",
       "1855                                University of Udine           609   \n",
       "\n",
       "      2020_ranking  2021_ranking  \n",
       "0              304           310  \n",
       "1              903           921  \n",
       "2               45            43  \n",
       "3              252           255  \n",
       "4              405           408  \n",
       "...            ...           ...  \n",
       "1851           284           287  \n",
       "1852          1510          1497  \n",
       "1853           157           157  \n",
       "1854           488           512  \n",
       "1855           593           579  \n",
       "\n",
       "[1856 rows x 4 columns]"
      ]
     },
     "execution_count": 1,
     "metadata": {},
     "output_type": "execute_result"
    }
   ],
   "source": [
    "institutions = []\n",
    "\n",
    "for institution in institution_2019_2020_2021: # use your output list from Q11 here\n",
    "    year_2019_ranking = list(year_2019_ranking_df[year_2019_ranking_df[\"Institution\"] == institution][\"World Rank\"])[0] # TODO: use boolean indexing to find the \"World Rank\" for current institution in the year 2019\n",
    "    year_2020_ranking = list(year_2020_ranking_df[year_2020_ranking_df[\"Institution\"] == institution][\"World Rank\"])[0]# TODO: use boolean indexing to find the \"World Rank\" for current institution in the year 2020\n",
    "    year_2021_ranking = list(year_2021_ranking_df[year_2021_ranking_df[\"Institution\"] == institution][\"World Rank\"])[0] # TODO: use boolean indexing to find the \"World Rank\" for current institution in the year 2021\n",
    "    # now let's create a dictionary representation of the institution\n",
    "    # each key corresponds to the column of the DataFrame we want to build\n",
    "    institutions.append({'Institution': institution, '2019_ranking': year_2019_ranking, '2020_ranking': year_2020_ranking, '2021_ranking': year_2021_ranking})\n",
    "    \n",
    "institutions_df = pd.DataFrame(institutions)\n",
    "institutions_df"
   ]
  },
  {
   "cell_type": "code",
   "execution_count": 18,
   "id": "b34232bf",
   "metadata": {
    "execution": {
     "iopub.execute_input": "2021-12-01T01:30:44.002560Z",
     "iopub.status.busy": "2021-12-01T01:30:44.001899Z",
     "iopub.status.idle": "2021-12-01T01:30:44.004235Z",
     "shell.execute_reply": "2021-12-01T01:30:44.004616Z"
    }
   },
   "outputs": [],
   "source": [
    "#Q11.5\n",
    "# set_index function enables us to set any column in the DataFrame as row indices\n",
    "# to_json function enables us to convert the DataFrame into a JSON data structure\n",
    "institutions_df.set_index('Institution').to_json('my_institutions.json')"
   ]
  },
  {
   "cell_type": "code",
   "execution_count": 19,
   "id": "9392ad2d",
   "metadata": {
    "execution": {
     "iopub.execute_input": "2021-12-01T01:30:44.009697Z",
     "iopub.status.busy": "2021-12-01T01:30:44.008717Z",
     "iopub.status.idle": "2021-12-01T01:30:44.012766Z",
     "shell.execute_reply": "2021-12-01T01:30:44.013229Z"
    }
   },
   "outputs": [
    {
     "data": {
      "text/plain": [
       "['École nationale supérieure de chimie de Montpellier',\n",
       " 'Academy of Scientific & Innovative Research',\n",
       " 'Antioch College',\n",
       " 'Haverford College',\n",
       " 'International Institute for Management Development',\n",
       " 'Tôn Đức Thắng University',\n",
       " 'USI - University of Italian Speaking Switzerland',\n",
       " 'SOAS University of London',\n",
       " 'Federal University of Mato Grosso do Sul']"
      ]
     },
     "execution_count": 1,
     "metadata": {},
     "output_type": "execute_result"
    }
   ],
   "source": [
    "#q12\n",
    "institutions_df[\"2019_2021_difference\"] = institutions_df[\"2019_ranking\"] - institutions_df[\"2021_ranking\"]\n",
    "list(institutions_df[institutions_df[\"2019_2021_difference\"] > 500][\"Institution\"])"
   ]
  },
  {
   "cell_type": "code",
   "execution_count": 20,
   "id": "70f7b70e",
   "metadata": {
    "execution": {
     "iopub.execute_input": "2021-12-01T01:30:44.020139Z",
     "iopub.status.busy": "2021-12-01T01:30:44.019334Z",
     "iopub.status.idle": "2021-12-01T01:30:44.025535Z",
     "shell.execute_reply": "2021-12-01T01:30:44.024667Z"
    }
   },
   "outputs": [
    {
     "data": {
      "text/plain": [
       "'USI - University of Italian Speaking Switzerland'"
      ]
     },
     "execution_count": 1,
     "metadata": {},
     "output_type": "execute_result"
    }
   ],
   "source": [
    "#q13\n",
    "change_2019_2021 = Series(institutions_df[\"2019_2021_difference\"])\n",
    "greatest_change = change_2019_2021.abs().max()\n",
    "list(institutions_df[institutions_df[\"2019_2021_difference\"].abs() == greatest_change][\"Institution\"])[0]"
   ]
  },
  {
   "cell_type": "code",
   "execution_count": 21,
   "id": "f812be06",
   "metadata": {
    "execution": {
     "iopub.execute_input": "2021-12-01T01:30:44.033632Z",
     "iopub.status.busy": "2021-12-01T01:30:44.032108Z",
     "iopub.status.idle": "2021-12-01T01:30:44.037383Z",
     "shell.execute_reply": "2021-12-01T01:30:44.037895Z"
    }
   },
   "outputs": [
    {
     "data": {
      "text/plain": [
       "451"
      ]
     },
     "execution_count": 1,
     "metadata": {},
     "output_type": "execute_result"
    }
   ],
   "source": [
    "#q14\n",
    "institutions_df[\"2019_2020_difference\"] = institutions_df[\"2019_ranking\"] - institutions_df[\"2020_ranking\"]\n",
    "institutions_df[\"2020_2021_difference\"] = institutions_df[\"2020_ranking\"] - institutions_df[\"2021_ranking\"]\n",
    "len(institutions_df[(institutions_df[\"2019_2020_difference\"] > 0) & (institutions_df[\"2020_2021_difference\"] > 0)])"
   ]
  },
  {
   "cell_type": "code",
   "execution_count": 22,
   "id": "8d0cd1cc",
   "metadata": {
    "execution": {
     "iopub.execute_input": "2021-12-01T01:30:44.043030Z",
     "iopub.status.busy": "2021-12-01T01:30:44.041911Z",
     "iopub.status.idle": "2021-12-01T01:30:44.051441Z",
     "shell.execute_reply": "2021-12-01T01:30:44.052299Z"
    }
   },
   "outputs": [
    {
     "data": {
      "text/plain": [
       "['International Institute for Management Development',\n",
       " 'Institut Polytechnique de Paris',\n",
       " 'China Europe International Business School',\n",
       " 'INSEAD',\n",
       " \"École nationale d'administration\",\n",
       " 'HEC Paris',\n",
       " 'University of Tokyo']"
      ]
     },
     "execution_count": 1,
     "metadata": {},
     "output_type": "execute_result"
    }
   ],
   "source": [
    "#q15\n",
    "employment_10 = year_2020_ranking_df.sort_values(\"Alumni Employment Rank\").head(10)\n",
    "worldrank_10 = year_2020_ranking_df.sort_values(\"World Rank\").head(10)\n",
    "list(set(employment_10[\"Institution\"]) - set(worldrank_10[\"Institution\"]))"
   ]
  },
  {
   "cell_type": "code",
   "execution_count": 23,
   "id": "c90e8456",
   "metadata": {
    "execution": {
     "iopub.execute_input": "2021-12-01T01:30:44.064244Z",
     "iopub.status.busy": "2021-12-01T01:30:44.063271Z",
     "iopub.status.idle": "2021-12-01T01:30:44.066694Z",
     "shell.execute_reply": "2021-12-01T01:30:44.067087Z"
    }
   },
   "outputs": [
    {
     "data": {
      "text/plain": [
       "['Aarhus University',\n",
       " 'Tufts University',\n",
       " 'University of California San Diego',\n",
       " 'University of Texas MD Anderson Cancer Center',\n",
       " 'University of Groningen',\n",
       " 'École Polytechnique Fédérale de Lausanne',\n",
       " 'Paris-Sud University',\n",
       " 'University of Utah',\n",
       " 'École normale supérieure',\n",
       " 'Paris Diderot University',\n",
       " 'Emory University',\n",
       " 'École Polytechnique']"
      ]
     },
     "execution_count": 1,
     "metadata": {},
     "output_type": "execute_result"
    }
   ],
   "source": [
    "#q16\n",
    "year_2019_top100 = year_2019_ranking_df[year_2019_ranking_df[\"World Rank\"] <= 100][\"Institution\"]\n",
    "year_2021_top100 = year_2021_ranking_df[year_2021_ranking_df[\"World Rank\"] <= 100][\"Institution\"]\n",
    "list(set(year_2019_top100)-set(year_2021_top100))"
   ]
  },
  {
   "cell_type": "code",
   "execution_count": 24,
   "id": "3ff0ba94",
   "metadata": {
    "execution": {
     "iopub.execute_input": "2021-12-01T01:30:44.073601Z",
     "iopub.status.busy": "2021-12-01T01:30:44.072991Z",
     "iopub.status.idle": "2021-12-01T01:30:44.075390Z",
     "shell.execute_reply": "2021-12-01T01:30:44.075771Z"
    }
   },
   "outputs": [
    {
     "data": {
      "text/plain": [
       "['USA', 'United Kingdom']"
      ]
     },
     "execution_count": 1,
     "metadata": {},
     "output_type": "execute_result"
    }
   ],
   "source": [
    "#q17\n",
    "year_2020_top100_df = year_2020_ranking_df[year_2020_ranking_df[\"World Rank\"] <= 100]\n",
    "year_2020_top100_df[\"Country\"].value_counts()[year_2020_top100_df[\"Country\"].value_counts() >= 10].index.tolist()"
   ]
  },
  {
   "cell_type": "code",
   "execution_count": 25,
   "id": "f95b0377",
   "metadata": {
    "execution": {
     "iopub.execute_input": "2021-12-01T01:30:44.080099Z",
     "iopub.status.busy": "2021-12-01T01:30:44.079386Z",
     "iopub.status.idle": "2021-12-01T01:30:44.825893Z",
     "shell.execute_reply": "2021-12-01T01:30:44.826335Z"
    }
   },
   "outputs": [
    {
     "data": {
      "text/plain": [
       "'2019-2020.html created!'"
      ]
     },
     "execution_count": 1,
     "metadata": {},
     "output_type": "execute_result"
    }
   ],
   "source": [
    "download('2019-2020.html', 'https://raw.githubusercontent.com/msyamkumar/cs220-f21-projects/main/p12/2019-2020.html')"
   ]
  },
  {
   "cell_type": "code",
   "execution_count": 26,
   "id": "02ea18ef",
   "metadata": {
    "execution": {
     "iopub.execute_input": "2021-12-01T01:30:44.831285Z",
     "iopub.status.busy": "2021-12-01T01:30:44.830208Z",
     "iopub.status.idle": "2021-12-01T01:30:45.176604Z",
     "shell.execute_reply": "2021-12-01T01:30:45.177060Z"
    }
   },
   "outputs": [
    {
     "data": {
      "text/plain": [
       "'2020-2021.html created!'"
      ]
     },
     "execution_count": 1,
     "metadata": {},
     "output_type": "execute_result"
    }
   ],
   "source": [
    "download('2020-2021.html', 'https://raw.githubusercontent.com/msyamkumar/cs220-f21-projects/main/p12/2020-2021.html')"
   ]
  },
  {
   "cell_type": "code",
   "execution_count": 27,
   "id": "6826cbb2",
   "metadata": {
    "execution": {
     "iopub.execute_input": "2021-12-01T01:30:45.181628Z",
     "iopub.status.busy": "2021-12-01T01:30:45.180630Z",
     "iopub.status.idle": "2021-12-01T01:30:45.353635Z",
     "shell.execute_reply": "2021-12-01T01:30:45.354207Z"
    }
   },
   "outputs": [
    {
     "data": {
      "text/plain": [
       "'2021-2022.html created!'"
      ]
     },
     "execution_count": 1,
     "metadata": {},
     "output_type": "execute_result"
    }
   ],
   "source": [
    "download('2021-2022.html', 'https://raw.githubusercontent.com/msyamkumar/cs220-f21-projects/main/p12/2021-2022.html')"
   ]
  },
  {
   "cell_type": "code",
   "execution_count": 28,
   "id": "7e72f6a9",
   "metadata": {
    "execution": {
     "iopub.execute_input": "2021-12-01T01:30:45.359486Z",
     "iopub.status.busy": "2021-12-01T01:30:45.358914Z",
     "iopub.status.idle": "2021-12-01T01:30:46.211264Z",
     "shell.execute_reply": "2021-12-01T01:30:46.211823Z"
    },
    "scrolled": true
   },
   "outputs": [
    {
     "data": {
      "text/plain": [
       "['World Rank',\n",
       " 'Institution',\n",
       " 'Country',\n",
       " 'National Rank',\n",
       " 'Quality of Education Rank',\n",
       " 'Alumni Employment Rank',\n",
       " 'Quality of Faculty Rank',\n",
       " 'Research Performance Rank',\n",
       " 'Score']"
      ]
     },
     "execution_count": 1,
     "metadata": {},
     "output_type": "execute_result"
    }
   ],
   "source": [
    "#q18\n",
    "f = open(\"2019-2020.html\", encoding='utf-8')\n",
    "rank19_doc = BeautifulSoup(f.read(), 'html.parser')\n",
    "f.close()\n",
    "tables = rank19_doc.find_all(\"table\")\n",
    "assert len(tables) == 1\n",
    "tbl = tables[0]\n",
    "trs = tbl.find_all(\"tr\")\n",
    "assert len(trs) >= 2000\n",
    "tr = trs[0].find_all(\"th\")\n",
    "table_name_list = []\n",
    "for th in tr:\n",
    "    table_name_list.append(th.get_text())\n",
    "table_name_list"
   ]
  },
  {
   "cell_type": "code",
   "execution_count": 29,
   "id": "336f3209",
   "metadata": {
    "execution": {
     "iopub.execute_input": "2021-12-01T01:30:46.218089Z",
     "iopub.status.busy": "2021-12-01T01:30:46.217508Z",
     "iopub.status.idle": "2021-12-01T01:30:47.071381Z",
     "shell.execute_reply": "2021-12-01T01:30:47.072041Z"
    }
   },
   "outputs": [
    {
     "data": {
      "text/plain": [
       "[{'Year': '2019-2020',\n",
       "  'World Rank': 1,\n",
       "  'Institution': 'Harvard University',\n",
       "  'Country': 'USA',\n",
       "  'National Rank': 1,\n",
       "  'Quality of Education Rank': 2,\n",
       "  'Alumni Employment Rank': 1,\n",
       "  'Quality of Faculty Rank': 1,\n",
       "  'Research Performance Rank': 1,\n",
       "  'Score': 100.0},\n",
       " {'Year': '2019-2020',\n",
       "  'World Rank': 2,\n",
       "  'Institution': 'Massachusetts Institute of Technology',\n",
       "  'Country': 'USA',\n",
       "  'National Rank': 2,\n",
       "  'Quality of Education Rank': 1,\n",
       "  'Alumni Employment Rank': 10,\n",
       "  'Quality of Faculty Rank': 2,\n",
       "  'Research Performance Rank': 5,\n",
       "  'Score': 96.7},\n",
       " {'Year': '2019-2020',\n",
       "  'World Rank': 3,\n",
       "  'Institution': 'Stanford University',\n",
       "  'Country': 'USA',\n",
       "  'National Rank': 3,\n",
       "  'Quality of Education Rank': 9,\n",
       "  'Alumni Employment Rank': 3,\n",
       "  'Quality of Faculty Rank': 3,\n",
       "  'Research Performance Rank': 2,\n",
       "  'Score': 95.2},\n",
       " {'Year': '2019-2020',\n",
       "  'World Rank': 4,\n",
       "  'Institution': 'University of Cambridge',\n",
       "  'Country': 'United Kingdom',\n",
       "  'National Rank': 1,\n",
       "  'Quality of Education Rank': 4,\n",
       "  'Alumni Employment Rank': 19,\n",
       "  'Quality of Faculty Rank': 5,\n",
       "  'Research Performance Rank': 11,\n",
       "  'Score': 94.1},\n",
       " {'Year': '2019-2020',\n",
       "  'World Rank': 5,\n",
       "  'Institution': 'University of Oxford',\n",
       "  'Country': 'United Kingdom',\n",
       "  'National Rank': 2,\n",
       "  'Quality of Education Rank': 10,\n",
       "  'Alumni Employment Rank': 24,\n",
       "  'Quality of Faculty Rank': 10,\n",
       "  'Research Performance Rank': 4,\n",
       "  'Score': 93.3}]"
      ]
     },
     "execution_count": 1,
     "metadata": {},
     "output_type": "execute_result"
    }
   ],
   "source": [
    "#q19\n",
    "def parsing(filename):\n",
    "    f = open(filename, encoding = 'utf-8')\n",
    "    rank_doc = BeautifulSoup(f.read(), 'html.parser')\n",
    "    f.close()\n",
    "    file_list = []\n",
    "    trs = rank_doc.find_all(\"tr\")\n",
    "    year = filename[:-5]\n",
    "    for tr in trs:\n",
    "        info = tr.find_all(\"td\")\n",
    "        if info != []:\n",
    "            cell = {}\n",
    "            cell[\"Year\"] = year\n",
    "            for i in range(len(info)):\n",
    "                if info[i].get_text() != '-':\n",
    "                    if table_name_list[i] in ['World Rank', 'National Rank', 'Quality of Education Rank', 'Alumni Employment Rank', 'Quality of Faculty Rank', 'Research Performance Rank']:\n",
    "                        cell[table_name_list[i]] = int(info[i].get_text())\n",
    "                    elif table_name_list[i] == \"Score\":\n",
    "                        cell[table_name_list[i]] = float(info[i].get_text())\n",
    "                    else:\n",
    "                        cell[table_name_list[i]] = info[i].get_text()\n",
    "                else:\n",
    "                    cell[table_name_list[i]] = None\n",
    "            file_list.append(cell)\n",
    "    return file_list \n",
    "\n",
    "content_2019 = parsing(\"2019-2020.html\")\n",
    "content_2019[:5]"
   ]
  },
  {
   "cell_type": "code",
   "execution_count": 30,
   "id": "c44a6f03",
   "metadata": {
    "execution": {
     "iopub.execute_input": "2021-12-01T01:30:47.078104Z",
     "iopub.status.busy": "2021-12-01T01:30:47.077228Z",
     "iopub.status.idle": "2021-12-01T01:30:49.012086Z",
     "shell.execute_reply": "2021-12-01T01:30:49.012600Z"
    }
   },
   "outputs": [],
   "source": [
    "#q20\n",
    "content_2020 = parsing(\"2020-2021.html\")\n",
    "content_2021 = parsing(\"2021-2022.html\")\n",
    "\n",
    "content_2019.extend(content_2020)\n",
    "content_2019.extend(content_2021)\n",
    "def write_json(path, data):\n",
    "    with open(path, 'w', encoding = 'utf-8') as f:\n",
    "        json.dump(data, f, indent = 2)\n",
    "write_json(\"my_rankings.json\", content_2019)"
   ]
  }
 ],
 "metadata": {
  "kernelspec": {
   "display_name": "Python 3",
   "language": "python",
   "name": "python3"
  },
  "language_info": {
   "codemirror_mode": {
    "name": "ipython",
    "version": 3
   },
   "file_extension": ".py",
   "mimetype": "text/x-python",
   "name": "python",
   "nbconvert_exporter": "python",
   "pygments_lexer": "ipython3",
   "version": "3.8.8"
  }
 },
 "nbformat": 4,
 "nbformat_minor": 5
}
