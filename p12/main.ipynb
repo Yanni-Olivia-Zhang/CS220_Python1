{
 "cells": [
  {
   "cell_type": "code",
   "execution_count": 1,
   "id": "b546c97e",
   "metadata": {},
   "outputs": [],
   "source": [
    "# project: p12\n",
    "# submitter: yzhang2232\n",
    "# partner: none\n",
    "# hours: 4"
   ]
  },
  {
   "cell_type": "code",
   "execution_count": 1,
   "id": "f8418e37",
   "metadata": {},
   "outputs": [],
   "source": [
    "import os\n",
    "import requests\n",
    "import pandas as pd\n",
    "from pandas import DataFrame, Series\n",
    "from bs4 import BeautifulSoup \n",
    "import json"
   ]
  },
  {
   "cell_type": "code",
   "execution_count": 2,
   "id": "11d031ca",
   "metadata": {},
   "outputs": [],
   "source": [
    "def download(filename, url):\n",
    "    # We do not download again if the file already exists\n",
    "    if os.path.exists(filename):\n",
    "        return (str(filename) + \" already exists!\")\n",
    "    \n",
    "    r = requests.get(url)\n",
    "    assert(r.status_code == 200)\n",
    "    data = r.text\n",
    "    f = open(filename, \"w\", encoding = \"utf-8\")\n",
    "    f.write(data)\n",
    "    # TODO: Write the code to download the file from URL\n",
    "    # and save it in `filename`\n",
    "    # Make sure to call the function that checks for 200 status_code\n",
    "\n",
    "    return (str(filename) + \" created!\")\n"
   ]
  },
  {
   "cell_type": "code",
   "execution_count": 3,
   "id": "06c5b058",
   "metadata": {},
   "outputs": [
    {
     "data": {
      "text/plain": [
       "'rankings.json already exists!'"
      ]
     },
     "execution_count": 3,
     "metadata": {},
     "output_type": "execute_result"
    }
   ],
   "source": [
    "download(\"rankings.json\", \"https://raw.githubusercontent.com/msyamkumar/cs220-f21-projects/main/p12/rankings.json\")"
   ]
  },
  {
   "cell_type": "code",
   "execution_count": 4,
   "id": "aec2a2b1",
   "metadata": {},
   "outputs": [
    {
     "data": {
      "text/html": [
       "<div>\n",
       "<style scoped>\n",
       "    .dataframe tbody tr th:only-of-type {\n",
       "        vertical-align: middle;\n",
       "    }\n",
       "\n",
       "    .dataframe tbody tr th {\n",
       "        vertical-align: top;\n",
       "    }\n",
       "\n",
       "    .dataframe thead th {\n",
       "        text-align: right;\n",
       "    }\n",
       "</style>\n",
       "<table border=\"1\" class=\"dataframe\">\n",
       "  <thead>\n",
       "    <tr style=\"text-align: right;\">\n",
       "      <th></th>\n",
       "      <th>World Rank</th>\n",
       "      <th>Year</th>\n",
       "      <th>Institution</th>\n",
       "      <th>Country</th>\n",
       "      <th>National Rank</th>\n",
       "      <th>Quality of Education Rank</th>\n",
       "      <th>Alumni Employment Rank</th>\n",
       "      <th>Quality of Faculty Rank</th>\n",
       "      <th>Research Performance Rank</th>\n",
       "      <th>Score</th>\n",
       "    </tr>\n",
       "  </thead>\n",
       "  <tbody>\n",
       "    <tr>\n",
       "      <th>0</th>\n",
       "      <td>1</td>\n",
       "      <td>2019-2020</td>\n",
       "      <td>Harvard University</td>\n",
       "      <td>USA</td>\n",
       "      <td>1</td>\n",
       "      <td>2.0</td>\n",
       "      <td>1.0</td>\n",
       "      <td>1.0</td>\n",
       "      <td>1.0</td>\n",
       "      <td>100.0</td>\n",
       "    </tr>\n",
       "    <tr>\n",
       "      <th>1</th>\n",
       "      <td>2</td>\n",
       "      <td>2019-2020</td>\n",
       "      <td>Massachusetts Institute of Technology</td>\n",
       "      <td>USA</td>\n",
       "      <td>2</td>\n",
       "      <td>1.0</td>\n",
       "      <td>10.0</td>\n",
       "      <td>2.0</td>\n",
       "      <td>5.0</td>\n",
       "      <td>96.7</td>\n",
       "    </tr>\n",
       "    <tr>\n",
       "      <th>2</th>\n",
       "      <td>3</td>\n",
       "      <td>2019-2020</td>\n",
       "      <td>Stanford University</td>\n",
       "      <td>USA</td>\n",
       "      <td>3</td>\n",
       "      <td>9.0</td>\n",
       "      <td>3.0</td>\n",
       "      <td>3.0</td>\n",
       "      <td>2.0</td>\n",
       "      <td>95.2</td>\n",
       "    </tr>\n",
       "    <tr>\n",
       "      <th>3</th>\n",
       "      <td>4</td>\n",
       "      <td>2019-2020</td>\n",
       "      <td>University of Cambridge</td>\n",
       "      <td>United Kingdom</td>\n",
       "      <td>1</td>\n",
       "      <td>4.0</td>\n",
       "      <td>19.0</td>\n",
       "      <td>5.0</td>\n",
       "      <td>11.0</td>\n",
       "      <td>94.1</td>\n",
       "    </tr>\n",
       "    <tr>\n",
       "      <th>4</th>\n",
       "      <td>5</td>\n",
       "      <td>2019-2020</td>\n",
       "      <td>University of Oxford</td>\n",
       "      <td>United Kingdom</td>\n",
       "      <td>2</td>\n",
       "      <td>10.0</td>\n",
       "      <td>24.0</td>\n",
       "      <td>10.0</td>\n",
       "      <td>4.0</td>\n",
       "      <td>93.3</td>\n",
       "    </tr>\n",
       "  </tbody>\n",
       "</table>\n",
       "</div>"
      ],
      "text/plain": [
       "   World Rank       Year                            Institution  \\\n",
       "0           1  2019-2020                     Harvard University   \n",
       "1           2  2019-2020  Massachusetts Institute of Technology   \n",
       "2           3  2019-2020                    Stanford University   \n",
       "3           4  2019-2020                University of Cambridge   \n",
       "4           5  2019-2020                   University of Oxford   \n",
       "\n",
       "          Country  National Rank  Quality of Education Rank  \\\n",
       "0             USA              1                        2.0   \n",
       "1             USA              2                        1.0   \n",
       "2             USA              3                        9.0   \n",
       "3  United Kingdom              1                        4.0   \n",
       "4  United Kingdom              2                       10.0   \n",
       "\n",
       "   Alumni Employment Rank  Quality of Faculty Rank  Research Performance Rank  \\\n",
       "0                     1.0                      1.0                        1.0   \n",
       "1                    10.0                      2.0                        5.0   \n",
       "2                     3.0                      3.0                        2.0   \n",
       "3                    19.0                      5.0                       11.0   \n",
       "4                    24.0                     10.0                        4.0   \n",
       "\n",
       "   Score  \n",
       "0  100.0  \n",
       "1   96.7  \n",
       "2   95.2  \n",
       "3   94.1  \n",
       "4   93.3  "
      ]
     },
     "execution_count": 4,
     "metadata": {},
     "output_type": "execute_result"
    }
   ],
   "source": [
    "rankings = pd.read_json(\"rankings.json\")\n",
    "rankings.head()"
   ]
  },
  {
   "cell_type": "code",
   "execution_count": 6,
   "id": "9c4dda39",
   "metadata": {},
   "outputs": [
    {
     "data": {
      "text/plain": [
       "103"
      ]
     },
     "execution_count": 6,
     "metadata": {},
     "output_type": "execute_result"
    }
   ],
   "source": [
    "#q1\n",
    "country = rankings[\"Country\"]\n",
    "len(set(list(country)))"
   ]
  },
  {
   "cell_type": "code",
   "execution_count": 7,
   "id": "26fda122",
   "metadata": {},
   "outputs": [
    {
     "data": {
      "text/html": [
       "<div>\n",
       "<style scoped>\n",
       "    .dataframe tbody tr th:only-of-type {\n",
       "        vertical-align: middle;\n",
       "    }\n",
       "\n",
       "    .dataframe tbody tr th {\n",
       "        vertical-align: top;\n",
       "    }\n",
       "\n",
       "    .dataframe thead th {\n",
       "        text-align: right;\n",
       "    }\n",
       "</style>\n",
       "<table border=\"1\" class=\"dataframe\">\n",
       "  <thead>\n",
       "    <tr style=\"text-align: right;\">\n",
       "      <th></th>\n",
       "      <th>World Rank</th>\n",
       "      <th>Year</th>\n",
       "      <th>Institution</th>\n",
       "      <th>Country</th>\n",
       "      <th>National Rank</th>\n",
       "      <th>Quality of Education Rank</th>\n",
       "      <th>Alumni Employment Rank</th>\n",
       "      <th>Quality of Faculty Rank</th>\n",
       "      <th>Research Performance Rank</th>\n",
       "      <th>Score</th>\n",
       "    </tr>\n",
       "  </thead>\n",
       "  <tbody>\n",
       "    <tr>\n",
       "      <th>0</th>\n",
       "      <td>1</td>\n",
       "      <td>2019-2020</td>\n",
       "      <td>Harvard University</td>\n",
       "      <td>USA</td>\n",
       "      <td>1</td>\n",
       "      <td>2.0</td>\n",
       "      <td>1.0</td>\n",
       "      <td>1.0</td>\n",
       "      <td>1.0</td>\n",
       "      <td>100.0</td>\n",
       "    </tr>\n",
       "    <tr>\n",
       "      <th>2000</th>\n",
       "      <td>1</td>\n",
       "      <td>2020-2021</td>\n",
       "      <td>Harvard University</td>\n",
       "      <td>USA</td>\n",
       "      <td>1</td>\n",
       "      <td>3.0</td>\n",
       "      <td>1.0</td>\n",
       "      <td>1.0</td>\n",
       "      <td>1.0</td>\n",
       "      <td>100.0</td>\n",
       "    </tr>\n",
       "    <tr>\n",
       "      <th>4000</th>\n",
       "      <td>1</td>\n",
       "      <td>2021-2022</td>\n",
       "      <td>Harvard University</td>\n",
       "      <td>USA</td>\n",
       "      <td>1</td>\n",
       "      <td>1.0</td>\n",
       "      <td>1.0</td>\n",
       "      <td>1.0</td>\n",
       "      <td>1.0</td>\n",
       "      <td>100.0</td>\n",
       "    </tr>\n",
       "  </tbody>\n",
       "</table>\n",
       "</div>"
      ],
      "text/plain": [
       "      World Rank       Year         Institution Country  National Rank  \\\n",
       "0              1  2019-2020  Harvard University     USA              1   \n",
       "2000           1  2020-2021  Harvard University     USA              1   \n",
       "4000           1  2021-2022  Harvard University     USA              1   \n",
       "\n",
       "      Quality of Education Rank  Alumni Employment Rank  \\\n",
       "0                           2.0                     1.0   \n",
       "2000                        3.0                     1.0   \n",
       "4000                        1.0                     1.0   \n",
       "\n",
       "      Quality of Faculty Rank  Research Performance Rank  Score  \n",
       "0                         1.0                        1.0  100.0  \n",
       "2000                      1.0                        1.0  100.0  \n",
       "4000                      1.0                        1.0  100.0  "
      ]
     },
     "execution_count": 7,
     "metadata": {},
     "output_type": "execute_result"
    }
   ],
   "source": [
    "#q2\n",
    "rankings[rankings[\"World Rank\"] == 1]"
   ]
  },
  {
   "cell_type": "code",
   "execution_count": 8,
   "id": "46d2101a",
   "metadata": {},
   "outputs": [
    {
     "data": {
      "text/html": [
       "<div>\n",
       "<style scoped>\n",
       "    .dataframe tbody tr th:only-of-type {\n",
       "        vertical-align: middle;\n",
       "    }\n",
       "\n",
       "    .dataframe tbody tr th {\n",
       "        vertical-align: top;\n",
       "    }\n",
       "\n",
       "    .dataframe thead th {\n",
       "        text-align: right;\n",
       "    }\n",
       "</style>\n",
       "<table border=\"1\" class=\"dataframe\">\n",
       "  <thead>\n",
       "    <tr style=\"text-align: right;\">\n",
       "      <th></th>\n",
       "      <th>World Rank</th>\n",
       "      <th>Year</th>\n",
       "      <th>Institution</th>\n",
       "      <th>Country</th>\n",
       "      <th>National Rank</th>\n",
       "      <th>Quality of Education Rank</th>\n",
       "      <th>Alumni Employment Rank</th>\n",
       "      <th>Quality of Faculty Rank</th>\n",
       "      <th>Research Performance Rank</th>\n",
       "      <th>Score</th>\n",
       "    </tr>\n",
       "  </thead>\n",
       "  <tbody>\n",
       "    <tr>\n",
       "      <th>24</th>\n",
       "      <td>25</td>\n",
       "      <td>2019-2020</td>\n",
       "      <td>University of Wisconsin–Madison</td>\n",
       "      <td>USA</td>\n",
       "      <td>19</td>\n",
       "      <td>28.0</td>\n",
       "      <td>80.0</td>\n",
       "      <td>35.0</td>\n",
       "      <td>27.0</td>\n",
       "      <td>87.3</td>\n",
       "    </tr>\n",
       "    <tr>\n",
       "      <th>2025</th>\n",
       "      <td>26</td>\n",
       "      <td>2020-2021</td>\n",
       "      <td>University of Wisconsin–Madison</td>\n",
       "      <td>USA</td>\n",
       "      <td>20</td>\n",
       "      <td>34.0</td>\n",
       "      <td>93.0</td>\n",
       "      <td>34.0</td>\n",
       "      <td>31.0</td>\n",
       "      <td>87.2</td>\n",
       "    </tr>\n",
       "    <tr>\n",
       "      <th>4024</th>\n",
       "      <td>25</td>\n",
       "      <td>2021-2022</td>\n",
       "      <td>University of Wisconsin–Madison</td>\n",
       "      <td>USA</td>\n",
       "      <td>19</td>\n",
       "      <td>33.0</td>\n",
       "      <td>97.0</td>\n",
       "      <td>29.0</td>\n",
       "      <td>32.0</td>\n",
       "      <td>87.3</td>\n",
       "    </tr>\n",
       "  </tbody>\n",
       "</table>\n",
       "</div>"
      ],
      "text/plain": [
       "      World Rank       Year                      Institution Country  \\\n",
       "24            25  2019-2020  University of Wisconsin–Madison     USA   \n",
       "2025          26  2020-2021  University of Wisconsin–Madison     USA   \n",
       "4024          25  2021-2022  University of Wisconsin–Madison     USA   \n",
       "\n",
       "      National Rank  Quality of Education Rank  Alumni Employment Rank  \\\n",
       "24               19                       28.0                    80.0   \n",
       "2025             20                       34.0                    93.0   \n",
       "4024             19                       33.0                    97.0   \n",
       "\n",
       "      Quality of Faculty Rank  Research Performance Rank  Score  \n",
       "24                       35.0                       27.0   87.3  \n",
       "2025                     34.0                       31.0   87.2  \n",
       "4024                     29.0                       32.0   87.3  "
      ]
     },
     "execution_count": 8,
     "metadata": {},
     "output_type": "execute_result"
    }
   ],
   "source": [
    "#q3\n",
    "uwmadison = rankings[rankings[\"Institution\"] == \"University of Wisconsin–Madison\"]\n",
    "uwmadison"
   ]
  },
  {
   "cell_type": "code",
   "execution_count": 9,
   "id": "9acfca7d",
   "metadata": {},
   "outputs": [
    {
     "data": {
      "text/plain": [
       "19"
      ]
     },
     "execution_count": 9,
     "metadata": {},
     "output_type": "execute_result"
    }
   ],
   "source": [
    "#q4\n",
    "uwmadison[uwmadison[\"Year\"] == \"2021-2022\"].iloc[0,4]"
   ]
  },
  {
   "cell_type": "code",
   "execution_count": 10,
   "id": "898af8f8",
   "metadata": {},
   "outputs": [
    {
     "data": {
      "text/plain": [
       "87.26666666666667"
      ]
     },
     "execution_count": 10,
     "metadata": {},
     "output_type": "execute_result"
    }
   ],
   "source": [
    "#q5\n",
    "Series(uwmadison[\"Score\"]).mean()"
   ]
  },
  {
   "cell_type": "code",
   "execution_count": 11,
   "id": "cc321f1e",
   "metadata": {},
   "outputs": [
    {
     "data": {
      "text/html": [
       "<div>\n",
       "<style scoped>\n",
       "    .dataframe tbody tr th:only-of-type {\n",
       "        vertical-align: middle;\n",
       "    }\n",
       "\n",
       "    .dataframe tbody tr th {\n",
       "        vertical-align: top;\n",
       "    }\n",
       "\n",
       "    .dataframe thead th {\n",
       "        text-align: right;\n",
       "    }\n",
       "</style>\n",
       "<table border=\"1\" class=\"dataframe\">\n",
       "  <thead>\n",
       "    <tr style=\"text-align: right;\">\n",
       "      <th></th>\n",
       "      <th>World Rank</th>\n",
       "      <th>Year</th>\n",
       "      <th>Institution</th>\n",
       "      <th>Country</th>\n",
       "      <th>National Rank</th>\n",
       "      <th>Quality of Education Rank</th>\n",
       "      <th>Alumni Employment Rank</th>\n",
       "      <th>Quality of Faculty Rank</th>\n",
       "      <th>Research Performance Rank</th>\n",
       "      <th>Score</th>\n",
       "    </tr>\n",
       "  </thead>\n",
       "  <tbody>\n",
       "    <tr>\n",
       "      <th>2094</th>\n",
       "      <td>95</td>\n",
       "      <td>2020-2021</td>\n",
       "      <td>National University of Singapore</td>\n",
       "      <td>Singapore</td>\n",
       "      <td>1</td>\n",
       "      <td>330.0</td>\n",
       "      <td>165.0</td>\n",
       "      <td>NaN</td>\n",
       "      <td>41.0</td>\n",
       "      <td>82.0</td>\n",
       "    </tr>\n",
       "    <tr>\n",
       "      <th>2139</th>\n",
       "      <td>140</td>\n",
       "      <td>2020-2021</td>\n",
       "      <td>Nanyang Technological University</td>\n",
       "      <td>Singapore</td>\n",
       "      <td>2</td>\n",
       "      <td>NaN</td>\n",
       "      <td>996.0</td>\n",
       "      <td>NaN</td>\n",
       "      <td>75.0</td>\n",
       "      <td>80.3</td>\n",
       "    </tr>\n",
       "    <tr>\n",
       "      <th>3150</th>\n",
       "      <td>1151</td>\n",
       "      <td>2020-2021</td>\n",
       "      <td>Singapore University of Technology and Design</td>\n",
       "      <td>Singapore</td>\n",
       "      <td>3</td>\n",
       "      <td>NaN</td>\n",
       "      <td>NaN</td>\n",
       "      <td>NaN</td>\n",
       "      <td>1092.0</td>\n",
       "      <td>69.4</td>\n",
       "    </tr>\n",
       "    <tr>\n",
       "      <th>3286</th>\n",
       "      <td>1287</td>\n",
       "      <td>2020-2021</td>\n",
       "      <td>Singapore Management University</td>\n",
       "      <td>Singapore</td>\n",
       "      <td>4</td>\n",
       "      <td>NaN</td>\n",
       "      <td>NaN</td>\n",
       "      <td>NaN</td>\n",
       "      <td>1225.0</td>\n",
       "      <td>68.7</td>\n",
       "    </tr>\n",
       "  </tbody>\n",
       "</table>\n",
       "</div>"
      ],
      "text/plain": [
       "      World Rank       Year                                    Institution  \\\n",
       "2094          95  2020-2021               National University of Singapore   \n",
       "2139         140  2020-2021               Nanyang Technological University   \n",
       "3150        1151  2020-2021  Singapore University of Technology and Design   \n",
       "3286        1287  2020-2021                Singapore Management University   \n",
       "\n",
       "        Country  National Rank  Quality of Education Rank  \\\n",
       "2094  Singapore              1                      330.0   \n",
       "2139  Singapore              2                        NaN   \n",
       "3150  Singapore              3                        NaN   \n",
       "3286  Singapore              4                        NaN   \n",
       "\n",
       "      Alumni Employment Rank  Quality of Faculty Rank  \\\n",
       "2094                   165.0                      NaN   \n",
       "2139                   996.0                      NaN   \n",
       "3150                     NaN                      NaN   \n",
       "3286                     NaN                      NaN   \n",
       "\n",
       "      Research Performance Rank  Score  \n",
       "2094                       41.0   82.0  \n",
       "2139                       75.0   80.3  \n",
       "3150                     1092.0   69.4  \n",
       "3286                     1225.0   68.7  "
      ]
     },
     "execution_count": 11,
     "metadata": {},
     "output_type": "execute_result"
    }
   ],
   "source": [
    "#q6\n",
    "rankings[(rankings[\"Country\"] == \"Singapore\") & (rankings[\"Year\"] == \"2020-2021\")]"
   ]
  },
  {
   "cell_type": "code",
   "execution_count": 12,
   "id": "964a4694",
   "metadata": {},
   "outputs": [
    {
     "data": {
      "text/plain": [
       "'Ludwig Maximilian University of Munich'"
      ]
     },
     "execution_count": 12,
     "metadata": {},
     "output_type": "execute_result"
    }
   ],
   "source": [
    "#q7\n",
    "germany_top = rankings[(rankings[\"Country\"] == \"Germany\") \\\n",
    "        & (rankings[\"Year\"] == \"2019-2020\") \\\n",
    "        & (rankings[\"National Rank\"] == 1)]\n",
    "germany_top.iloc[0,2]"
   ]
  },
  {
   "cell_type": "code",
   "execution_count": 13,
   "id": "3ade1f74",
   "metadata": {},
   "outputs": [
    {
     "data": {
      "text/plain": [
       "['Harvard University',\n",
       " 'Massachusetts Institute of Technology',\n",
       " 'Stanford University',\n",
       " 'Columbia University',\n",
       " 'Princeton University',\n",
       " 'University of California, Berkeley',\n",
       " 'University of Pennsylvania',\n",
       " 'University of Chicago',\n",
       " 'California Institute of Technology',\n",
       " 'Yale University',\n",
       " 'Cornell University',\n",
       " 'Northwestern University',\n",
       " 'University of California, Los Angeles',\n",
       " 'University of Michigan, Ann Arbor',\n",
       " 'Johns Hopkins University',\n",
       " 'University of Washington - Seattle',\n",
       " 'University of Illinois at Urbana–Champaign',\n",
       " 'Duke University',\n",
       " 'University of Wisconsin–Madison',\n",
       " 'New York University',\n",
       " 'University of California San Diego',\n",
       " 'University of Texas at Austin',\n",
       " 'University of California, San Francisco',\n",
       " 'University of North Carolina at Chapel Hill',\n",
       " 'University of Minnesota - Twin Cities',\n",
       " 'University of Texas Southwestern Medical Center',\n",
       " 'Washington University in St. Louis',\n",
       " 'University of Southern California',\n",
       " 'Brown University',\n",
       " 'Vanderbilt University',\n",
       " 'Pennsylvania State University',\n",
       " 'Rutgers University–New Brunswick',\n",
       " 'Dartmouth College',\n",
       " 'University of California, Davis']"
      ]
     },
     "execution_count": 13,
     "metadata": {},
     "output_type": "execute_result"
    }
   ],
   "source": [
    "#q8\n",
    "world_rank = germany_top.iloc[0,0]\n",
    "better_rank = rankings[(rankings[\"Country\"] == \"USA\") \\\n",
    "        & (rankings[\"Year\"] == \"2019-2020\") \\\n",
    "        & (rankings[\"World Rank\"] < world_rank)]\n",
    "list(better_rank[\"Institution\"])"
   ]
  },
  {
   "cell_type": "code",
   "execution_count": 14,
   "id": "c529f392",
   "metadata": {
    "scrolled": true
   },
   "outputs": [
    {
     "data": {
      "text/plain": [
       "'Fudan University'"
      ]
     },
     "execution_count": 14,
     "metadata": {},
     "output_type": "execute_result"
    }
   ],
   "source": [
    "#q9\n",
    "china_2021_2022 = rankings[(rankings[\"Country\"] == \"China\") \\\n",
    "        & (rankings[\"Year\"] == \"2021-2022\")]\n",
    "highest = Series(china_2021_2022[\"Quality of Education Rank\"]).min()\n",
    "china_2021_2022[china_2021_2022[\"Quality of Education Rank\"] == highest].iloc[0,2]"
   ]
  },
  {
   "cell_type": "code",
   "execution_count": 15,
   "id": "ff0526b2",
   "metadata": {},
   "outputs": [
    {
     "data": {
      "text/plain": [
       "['Indian Institute of Science',\n",
       " 'Tata Institute of Fundamental Research',\n",
       " 'Indian Institute of Technology Bombay',\n",
       " 'University of Delhi',\n",
       " 'Indian Institute of Technology Madras']"
      ]
     },
     "execution_count": 15,
     "metadata": {},
     "output_type": "execute_result"
    }
   ],
   "source": [
    "#q10\n",
    "india_2020_2021 = rankings[(rankings[\"Country\"] == \"India\") \\\n",
    "        & (rankings[\"Year\"] == \"2020-2021\")]\n",
    "head_5 = india_2020_2021.sort_values(by = \"Research Performance Rank\").head(5)\n",
    "list(head_5[\"Institution\"])"
   ]
  },
  {
   "cell_type": "code",
   "execution_count": 16,
   "id": "ffe53a43",
   "metadata": {},
   "outputs": [
    {
     "data": {
      "text/plain": [
       "1856"
      ]
     },
     "execution_count": 16,
     "metadata": {},
     "output_type": "execute_result"
    }
   ],
   "source": [
    "#q11\n",
    "year_2019_ranking_df = rankings[rankings[\"Year\"] == \"2019-2020\"]\n",
    "year_2020_ranking_df = rankings[rankings[\"Year\"] == \"2020-2021\"]\n",
    "year_2021_ranking_df = rankings[rankings[\"Year\"] == \"2021-2022\"]\n",
    "\n",
    "set_2019 = set(year_2019_ranking_df[\"Institution\"])\n",
    "set_2020 = set(year_2020_ranking_df[\"Institution\"])\n",
    "set_2021 = set(year_2021_ranking_df[\"Institution\"])\n",
    "\n",
    "institution_2019_2020_2021 = set_2019.intersection(set_2020, set_2021) # TODO: find a list of all institutions which appear in all three DataFrames. See below Note.\n",
    "len(institution_2019_2020_2021)"
   ]
  },
  {
   "cell_type": "code",
   "execution_count": 17,
   "id": "8609087d",
   "metadata": {
    "scrolled": true
   },
   "outputs": [
    {
     "data": {
      "text/html": [
       "<div>\n",
       "<style scoped>\n",
       "    .dataframe tbody tr th:only-of-type {\n",
       "        vertical-align: middle;\n",
       "    }\n",
       "\n",
       "    .dataframe tbody tr th {\n",
       "        vertical-align: top;\n",
       "    }\n",
       "\n",
       "    .dataframe thead th {\n",
       "        text-align: right;\n",
       "    }\n",
       "</style>\n",
       "<table border=\"1\" class=\"dataframe\">\n",
       "  <thead>\n",
       "    <tr style=\"text-align: right;\">\n",
       "      <th></th>\n",
       "      <th>Institution</th>\n",
       "      <th>2019_ranking</th>\n",
       "      <th>2020_ranking</th>\n",
       "      <th>2021_ranking</th>\n",
       "    </tr>\n",
       "  </thead>\n",
       "  <tbody>\n",
       "    <tr>\n",
       "      <th>0</th>\n",
       "      <td>Medical University of Lodz</td>\n",
       "      <td>901</td>\n",
       "      <td>966</td>\n",
       "      <td>1014</td>\n",
       "    </tr>\n",
       "    <tr>\n",
       "      <th>1</th>\n",
       "      <td>University of Peradeniya</td>\n",
       "      <td>1312</td>\n",
       "      <td>1555</td>\n",
       "      <td>1600</td>\n",
       "    </tr>\n",
       "    <tr>\n",
       "      <th>2</th>\n",
       "      <td>University of Brasília</td>\n",
       "      <td>824</td>\n",
       "      <td>845</td>\n",
       "      <td>872</td>\n",
       "    </tr>\n",
       "    <tr>\n",
       "      <th>3</th>\n",
       "      <td>University of Bordeaux</td>\n",
       "      <td>488</td>\n",
       "      <td>244</td>\n",
       "      <td>243</td>\n",
       "    </tr>\n",
       "    <tr>\n",
       "      <th>4</th>\n",
       "      <td>Toho University</td>\n",
       "      <td>1069</td>\n",
       "      <td>1097</td>\n",
       "      <td>1095</td>\n",
       "    </tr>\n",
       "    <tr>\n",
       "      <th>...</th>\n",
       "      <td>...</td>\n",
       "      <td>...</td>\n",
       "      <td>...</td>\n",
       "      <td>...</td>\n",
       "    </tr>\n",
       "    <tr>\n",
       "      <th>1851</th>\n",
       "      <td>University of Idaho</td>\n",
       "      <td>697</td>\n",
       "      <td>741</td>\n",
       "      <td>751</td>\n",
       "    </tr>\n",
       "    <tr>\n",
       "      <th>1852</th>\n",
       "      <td>National Taiwan University</td>\n",
       "      <td>75</td>\n",
       "      <td>86</td>\n",
       "      <td>90</td>\n",
       "    </tr>\n",
       "    <tr>\n",
       "      <th>1853</th>\n",
       "      <td>Northwest Normal University</td>\n",
       "      <td>1458</td>\n",
       "      <td>1428</td>\n",
       "      <td>1414</td>\n",
       "    </tr>\n",
       "    <tr>\n",
       "      <th>1854</th>\n",
       "      <td>University of Göttingen</td>\n",
       "      <td>154</td>\n",
       "      <td>108</td>\n",
       "      <td>92</td>\n",
       "    </tr>\n",
       "    <tr>\n",
       "      <th>1855</th>\n",
       "      <td>National Chung Hsing University</td>\n",
       "      <td>597</td>\n",
       "      <td>662</td>\n",
       "      <td>696</td>\n",
       "    </tr>\n",
       "  </tbody>\n",
       "</table>\n",
       "<p>1856 rows × 4 columns</p>\n",
       "</div>"
      ],
      "text/plain": [
       "                          Institution  2019_ranking  2020_ranking  \\\n",
       "0          Medical University of Lodz           901           966   \n",
       "1            University of Peradeniya          1312          1555   \n",
       "2              University of Brasília           824           845   \n",
       "3              University of Bordeaux           488           244   \n",
       "4                     Toho University          1069          1097   \n",
       "...                               ...           ...           ...   \n",
       "1851              University of Idaho           697           741   \n",
       "1852       National Taiwan University            75            86   \n",
       "1853      Northwest Normal University          1458          1428   \n",
       "1854          University of Göttingen           154           108   \n",
       "1855  National Chung Hsing University           597           662   \n",
       "\n",
       "      2021_ranking  \n",
       "0             1014  \n",
       "1             1600  \n",
       "2              872  \n",
       "3              243  \n",
       "4             1095  \n",
       "...            ...  \n",
       "1851           751  \n",
       "1852            90  \n",
       "1853          1414  \n",
       "1854            92  \n",
       "1855           696  \n",
       "\n",
       "[1856 rows x 4 columns]"
      ]
     },
     "execution_count": 17,
     "metadata": {},
     "output_type": "execute_result"
    }
   ],
   "source": [
    "institutions = []\n",
    "\n",
    "for institution in institution_2019_2020_2021: # use your output list from Q11 here\n",
    "    year_2019_ranking = list(year_2019_ranking_df[year_2019_ranking_df[\"Institution\"] == institution][\"World Rank\"])[0] # TODO: use boolean indexing to find the \"World Rank\" for current institution in the year 2019\n",
    "    year_2020_ranking = list(year_2020_ranking_df[year_2020_ranking_df[\"Institution\"] == institution][\"World Rank\"])[0]# TODO: use boolean indexing to find the \"World Rank\" for current institution in the year 2020\n",
    "    year_2021_ranking = list(year_2021_ranking_df[year_2021_ranking_df[\"Institution\"] == institution][\"World Rank\"])[0] # TODO: use boolean indexing to find the \"World Rank\" for current institution in the year 2021\n",
    "    # now let's create a dictionary representation of the institution\n",
    "    # each key corresponds to the column of the DataFrame we want to build\n",
    "    institutions.append({'Institution': institution, '2019_ranking': year_2019_ranking, '2020_ranking': year_2020_ranking, '2021_ranking': year_2021_ranking})\n",
    "    \n",
    "institutions_df = pd.DataFrame(institutions)\n",
    "institutions_df"
   ]
  },
  {
   "cell_type": "code",
   "execution_count": 18,
   "id": "617c548b",
   "metadata": {},
   "outputs": [],
   "source": [
    "#Q11.5\n",
    "# set_index function enables us to set any column in the DataFrame as row indices\n",
    "# to_json function enables us to convert the DataFrame into a JSON data structure\n",
    "institutions_df.set_index('Institution').to_json('my_institutions.json')"
   ]
  },
  {
   "cell_type": "code",
   "execution_count": 19,
   "id": "33bbc513",
   "metadata": {},
   "outputs": [
    {
     "data": {
      "text/plain": [
       "['Antioch College',\n",
       " 'Federal University of Mato Grosso do Sul',\n",
       " 'Tôn Đức Thắng University',\n",
       " 'International Institute for Management Development',\n",
       " 'Academy of Scientific & Innovative Research',\n",
       " 'USI - University of Italian Speaking Switzerland',\n",
       " 'École nationale supérieure de chimie de Montpellier',\n",
       " 'SOAS University of London',\n",
       " 'Haverford College']"
      ]
     },
     "execution_count": 19,
     "metadata": {},
     "output_type": "execute_result"
    }
   ],
   "source": [
    "#q12\n",
    "institutions_df[\"2019_2021_difference\"] = institutions_df[\"2019_ranking\"] - institutions_df[\"2021_ranking\"]\n",
    "list(institutions_df[institutions_df[\"2019_2021_difference\"] > 500][\"Institution\"])"
   ]
  },
  {
   "cell_type": "code",
   "execution_count": 20,
   "id": "0315735e",
   "metadata": {},
   "outputs": [
    {
     "data": {
      "text/plain": [
       "'USI - University of Italian Speaking Switzerland'"
      ]
     },
     "execution_count": 20,
     "metadata": {},
     "output_type": "execute_result"
    }
   ],
   "source": [
    "#q13\n",
    "change_2019_2021 = Series(institutions_df[\"2019_2021_difference\"])\n",
    "greatest_change = change_2019_2021.abs().max()\n",
    "list(institutions_df[institutions_df[\"2019_2021_difference\"].abs() == greatest_change][\"Institution\"])[0]"
   ]
  },
  {
   "cell_type": "code",
   "execution_count": 21,
   "id": "e3625b53",
   "metadata": {},
   "outputs": [
    {
     "data": {
      "text/plain": [
       "451"
      ]
     },
     "execution_count": 21,
     "metadata": {},
     "output_type": "execute_result"
    }
   ],
   "source": [
    "#q14\n",
    "institutions_df[\"2019_2020_difference\"] = institutions_df[\"2019_ranking\"] - institutions_df[\"2020_ranking\"]\n",
    "institutions_df[\"2020_2021_difference\"] = institutions_df[\"2020_ranking\"] - institutions_df[\"2021_ranking\"]\n",
    "len(institutions_df[(institutions_df[\"2019_2020_difference\"] > 0) & (institutions_df[\"2020_2021_difference\"] > 0)])"
   ]
  },
  {
   "cell_type": "code",
   "execution_count": 22,
   "id": "ce23b540",
   "metadata": {},
   "outputs": [
    {
     "data": {
      "text/plain": [
       "[\"École nationale d'administration\",\n",
       " 'University of Tokyo',\n",
       " 'Institut Polytechnique de Paris',\n",
       " 'China Europe International Business School',\n",
       " 'International Institute for Management Development',\n",
       " 'INSEAD',\n",
       " 'HEC Paris']"
      ]
     },
     "execution_count": 22,
     "metadata": {},
     "output_type": "execute_result"
    }
   ],
   "source": [
    "#q15\n",
    "employment_10 = year_2020_ranking_df.sort_values(\"Alumni Employment Rank\").head(10)\n",
    "worldrank_10 = year_2020_ranking_df.sort_values(\"World Rank\").head(10)\n",
    "list(set(employment_10[\"Institution\"]) - set(worldrank_10[\"Institution\"]))"
   ]
  },
  {
   "cell_type": "code",
   "execution_count": 23,
   "id": "5f8d4370",
   "metadata": {},
   "outputs": [
    {
     "data": {
      "text/plain": [
       "['University of Groningen',\n",
       " 'École Polytechnique Fédérale de Lausanne',\n",
       " 'École normale supérieure',\n",
       " 'University of Utah',\n",
       " 'Paris-Sud University',\n",
       " 'Tufts University',\n",
       " 'Aarhus University',\n",
       " 'University of California San Diego',\n",
       " 'École Polytechnique',\n",
       " 'Emory University',\n",
       " 'University of Texas MD Anderson Cancer Center',\n",
       " 'Paris Diderot University']"
      ]
     },
     "execution_count": 23,
     "metadata": {},
     "output_type": "execute_result"
    }
   ],
   "source": [
    "#q16\n",
    "year_2019_top100 = year_2019_ranking_df[year_2019_ranking_df[\"World Rank\"] <= 100][\"Institution\"]\n",
    "year_2021_top100 = year_2021_ranking_df[year_2021_ranking_df[\"World Rank\"] <= 100][\"Institution\"]\n",
    "list(set(year_2019_top100)-set(year_2021_top100))"
   ]
  },
  {
   "cell_type": "code",
   "execution_count": 24,
   "id": "98fca033",
   "metadata": {},
   "outputs": [
    {
     "data": {
      "text/plain": [
       "['USA', 'United Kingdom']"
      ]
     },
     "execution_count": 24,
     "metadata": {},
     "output_type": "execute_result"
    }
   ],
   "source": [
    "#q17\n",
    "year_2020_top100_df = year_2020_ranking_df[year_2020_ranking_df[\"World Rank\"] <= 100]\n",
    "year_2020_top100_df[\"Country\"].value_counts()[year_2020_top100_df[\"Country\"].value_counts() >= 10].index.tolist()"
   ]
  },
  {
   "cell_type": "code",
   "execution_count": 25,
   "id": "fdcfe5f0",
   "metadata": {},
   "outputs": [
    {
     "data": {
      "text/plain": [
       "'2019-2020.html already exists!'"
      ]
     },
     "execution_count": 25,
     "metadata": {},
     "output_type": "execute_result"
    }
   ],
   "source": [
    "download('2019-2020.html', 'https://raw.githubusercontent.com/msyamkumar/cs220-f21-projects/main/p12/2019-2020.html')"
   ]
  },
  {
   "cell_type": "code",
   "execution_count": 26,
   "id": "735011d6",
   "metadata": {},
   "outputs": [
    {
     "data": {
      "text/plain": [
       "'2020-2021.html already exists!'"
      ]
     },
     "execution_count": 26,
     "metadata": {},
     "output_type": "execute_result"
    }
   ],
   "source": [
    "download('2020-2021.html', 'https://raw.githubusercontent.com/msyamkumar/cs220-f21-projects/main/p12/2020-2021.html')"
   ]
  },
  {
   "cell_type": "code",
   "execution_count": 27,
   "id": "edba5ec2",
   "metadata": {},
   "outputs": [
    {
     "data": {
      "text/plain": [
       "'2021-2022.html already exists!'"
      ]
     },
     "execution_count": 27,
     "metadata": {},
     "output_type": "execute_result"
    }
   ],
   "source": [
    "download('2021-2022.html', 'https://raw.githubusercontent.com/msyamkumar/cs220-f21-projects/main/p12/2021-2022.html')"
   ]
  },
  {
   "cell_type": "code",
   "execution_count": 28,
   "id": "ad4ce459",
   "metadata": {
    "scrolled": true
   },
   "outputs": [
    {
     "data": {
      "text/plain": [
       "['World Rank',\n",
       " 'Institution',\n",
       " 'Country',\n",
       " 'National Rank',\n",
       " 'Quality of Education Rank',\n",
       " 'Alumni Employment Rank',\n",
       " 'Quality of Faculty Rank',\n",
       " 'Research Performance Rank',\n",
       " 'Score']"
      ]
     },
     "execution_count": 28,
     "metadata": {},
     "output_type": "execute_result"
    }
   ],
   "source": [
    "#q18\n",
    "f = open(\"2019-2020.html\", encoding='utf-8')\n",
    "rank19_doc = BeautifulSoup(f.read(), 'html.parser')\n",
    "f.close()\n",
    "tables = rank19_doc.find_all(\"table\")\n",
    "assert len(tables) == 1\n",
    "tbl = tables[0]\n",
    "trs = tbl.find_all(\"tr\")\n",
    "assert len(trs) >= 2000\n",
    "tr = trs[0].find_all(\"th\")\n",
    "table_name_list = []\n",
    "for th in tr:\n",
    "    table_name_list.append(th.get_text())\n",
    "table_name_list"
   ]
  },
  {
   "cell_type": "code",
   "execution_count": 29,
   "id": "fe946f4a",
   "metadata": {},
   "outputs": [
    {
     "data": {
      "text/plain": [
       "[{'Year': '2019-2020',\n",
       "  'World Rank': 1,\n",
       "  'Institution': 'Harvard University',\n",
       "  'Country': 'USA',\n",
       "  'National Rank': 1,\n",
       "  'Quality of Education Rank': 2,\n",
       "  'Alumni Employment Rank': 1,\n",
       "  'Quality of Faculty Rank': 1,\n",
       "  'Research Performance Rank': 1,\n",
       "  'Score': 100.0},\n",
       " {'Year': '2019-2020',\n",
       "  'World Rank': 2,\n",
       "  'Institution': 'Massachusetts Institute of Technology',\n",
       "  'Country': 'USA',\n",
       "  'National Rank': 2,\n",
       "  'Quality of Education Rank': 1,\n",
       "  'Alumni Employment Rank': 10,\n",
       "  'Quality of Faculty Rank': 2,\n",
       "  'Research Performance Rank': 5,\n",
       "  'Score': 96.7},\n",
       " {'Year': '2019-2020',\n",
       "  'World Rank': 3,\n",
       "  'Institution': 'Stanford University',\n",
       "  'Country': 'USA',\n",
       "  'National Rank': 3,\n",
       "  'Quality of Education Rank': 9,\n",
       "  'Alumni Employment Rank': 3,\n",
       "  'Quality of Faculty Rank': 3,\n",
       "  'Research Performance Rank': 2,\n",
       "  'Score': 95.2},\n",
       " {'Year': '2019-2020',\n",
       "  'World Rank': 4,\n",
       "  'Institution': 'University of Cambridge',\n",
       "  'Country': 'United Kingdom',\n",
       "  'National Rank': 1,\n",
       "  'Quality of Education Rank': 4,\n",
       "  'Alumni Employment Rank': 19,\n",
       "  'Quality of Faculty Rank': 5,\n",
       "  'Research Performance Rank': 11,\n",
       "  'Score': 94.1},\n",
       " {'Year': '2019-2020',\n",
       "  'World Rank': 5,\n",
       "  'Institution': 'University of Oxford',\n",
       "  'Country': 'United Kingdom',\n",
       "  'National Rank': 2,\n",
       "  'Quality of Education Rank': 10,\n",
       "  'Alumni Employment Rank': 24,\n",
       "  'Quality of Faculty Rank': 10,\n",
       "  'Research Performance Rank': 4,\n",
       "  'Score': 93.3}]"
      ]
     },
     "execution_count": 29,
     "metadata": {},
     "output_type": "execute_result"
    }
   ],
   "source": [
    "#q19\n",
    "def parsing(filename):\n",
    "    f = open(filename, encoding = 'utf-8')\n",
    "    rank_doc = BeautifulSoup(f.read(), 'html.parser')\n",
    "    f.close()\n",
    "    file_list = []\n",
    "    trs = rank_doc.find_all(\"tr\")\n",
    "    year = filename[:-5]\n",
    "    for tr in trs:\n",
    "        info = tr.find_all(\"td\")\n",
    "        if info != []:\n",
    "            cell = {}\n",
    "            cell[\"Year\"] = year\n",
    "            for i in range(len(info)):\n",
    "                if info[i].get_text() != '-':\n",
    "                    if table_name_list[i] in ['World Rank', 'National Rank', 'Quality of Education Rank', 'Alumni Employment Rank', 'Quality of Faculty Rank', 'Research Performance Rank']:\n",
    "                        cell[table_name_list[i]] = int(info[i].get_text())\n",
    "                    elif table_name_list[i] == \"Score\":\n",
    "                        cell[table_name_list[i]] = float(info[i].get_text())\n",
    "                    else:\n",
    "                        cell[table_name_list[i]] = info[i].get_text()\n",
    "                else:\n",
    "                    cell[table_name_list[i]] = None\n",
    "            file_list.append(cell)\n",
    "    return file_list \n",
    "\n",
    "content_2019 = parsing(\"2019-2020.html\")\n",
    "content_2019[:5]"
   ]
  },
  {
   "cell_type": "code",
   "execution_count": 30,
   "id": "5bbd4bec",
   "metadata": {},
   "outputs": [],
   "source": [
    "#q20\n",
    "content_2020 = parsing(\"2020-2021.html\")\n",
    "content_2021 = parsing(\"2021-2022.html\")\n",
    "\n",
    "content_2019.extend(content_2020)\n",
    "content_2019.extend(content_2021)\n",
    "def write_json(path, data):\n",
    "    with open(path, 'w', encoding = 'utf-8') as f:\n",
    "        json.dump(data, f, indent = 2)\n",
    "write_json(\"my_rankings.json\", content_2019)"
   ]
  }
 ],
 "metadata": {
  "kernelspec": {
   "display_name": "Python 3",
   "language": "python",
   "name": "python3"
  },
  "language_info": {
   "codemirror_mode": {
    "name": "ipython",
    "version": 3
   },
   "file_extension": ".py",
   "mimetype": "text/x-python",
   "name": "python",
   "nbconvert_exporter": "python",
   "pygments_lexer": "ipython3",
   "version": "3.8.8"
  }
 },
 "nbformat": 4,
 "nbformat_minor": 5
}
