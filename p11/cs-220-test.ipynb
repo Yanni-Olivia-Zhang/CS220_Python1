{
 "cells": [
  {
   "cell_type": "code",
   "execution_count": 1,
   "id": "d0511ac9",
   "metadata": {
    "execution": {
     "iopub.execute_input": "2021-11-23T17:35:02.576385Z",
     "iopub.status.busy": "2021-11-23T17:35:02.575337Z",
     "iopub.status.idle": "2021-11-23T17:35:02.578268Z",
     "shell.execute_reply": "2021-11-23T17:35:02.579111Z"
    }
   },
   "outputs": [],
   "source": [
    "# project: p11\n",
    "# submitter: yzhang2232\n",
    "# partner: none\n",
    "# hours: 3"
   ]
  },
  {
   "cell_type": "code",
   "execution_count": 2,
   "id": "ca309dc6",
   "metadata": {
    "execution": {
     "iopub.execute_input": "2021-11-23T17:35:02.585007Z",
     "iopub.status.busy": "2021-11-23T17:35:02.583755Z",
     "iopub.status.idle": "2021-11-23T17:35:03.362685Z",
     "shell.execute_reply": "2021-11-23T17:35:03.363133Z"
    }
   },
   "outputs": [],
   "source": [
    "%matplotlib inline"
   ]
  },
  {
   "cell_type": "code",
   "execution_count": 3,
   "id": "7f7f3257",
   "metadata": {
    "execution": {
     "iopub.execute_input": "2021-11-23T17:35:03.370334Z",
     "iopub.status.busy": "2021-11-23T17:35:03.369644Z",
     "iopub.status.idle": "2021-11-23T17:35:03.833540Z",
     "shell.execute_reply": "2021-11-23T17:35:03.833030Z"
    }
   },
   "outputs": [],
   "source": [
    "import pandas as pd\n",
    "import os\n",
    "import json\n",
    "import csv\n",
    "from collections import namedtuple\n",
    "\n",
    "def scatter(x, y, xlabel=\"please label me!\", ylabel=\"please label me!\"):\n",
    "    df = pd.DataFrame({\"x\":x, \"y\":y})\n",
    "    ax = df.plot.scatter(x=\"x\", y=\"y\", color=\"black\", fontsize=16, xlim=0, ylim=0)\n",
    "    ax.set_xlabel(xlabel, fontsize=16)\n",
    "    ax.set_ylabel(ylabel, fontsize=16)\n",
    "    ax.get_xaxis().get_major_formatter().set_scientific(False)\n",
    "    ax.get_yaxis().get_major_formatter().set_scientific(False)"
   ]
  },
  {
   "cell_type": "code",
   "execution_count": 4,
   "id": "54f98393",
   "metadata": {
    "execution": {
     "iopub.execute_input": "2021-11-23T17:35:03.847847Z",
     "iopub.status.busy": "2021-11-23T17:35:03.847176Z",
     "iopub.status.idle": "2021-11-23T17:35:03.849197Z",
     "shell.execute_reply": "2021-11-23T17:35:03.849581Z"
    }
   },
   "outputs": [],
   "source": [
    "def process_csv(filename):\n",
    "    example_file = open(filename, encoding=\"utf-8\")\n",
    "    example_reader = csv.reader(example_file)\n",
    "    example_data = list(example_reader)\n",
    "    example_file.close()\n",
    "    return example_data\n",
    "\n",
    "def transform(header, data):\n",
    "    dict_list = []\n",
    "    for row in data:\n",
    "        new_row = {}\n",
    "        for i in range(len(row)):\n",
    "            new_row[header[i]] = row[i]\n",
    "        dict_list.append(new_row)\n",
    "    return dict_list\n",
    "\n",
    "Tweet = namedtuple('Tweet', ['tweet_id', 'username', 'num_liked', 'length'])\n",
    "\n",
    "def get_csv_tweets(csv_path):\n",
    "    csv_file = process_csv(csv_path)\n",
    "    header = csv_file[0]\n",
    "    data = csv_file[1:]\n",
    "    files = transform(header,data)\n",
    "    tweets = []\n",
    "    for file in files:\n",
    "        if len(file) != 6:\n",
    "            pass\n",
    "        else:\n",
    "            if file[\"num_liked\"][-1].upper() == 'M':\n",
    "                tweet = Tweet(file['tweet_id'], file['username'], int(file['num_liked'].replace(file['num_liked'][-1], '000000')), len(file['tweet_text']))\n",
    "            elif file[\"num_liked\"][-1].upper() == 'k':\n",
    "                tweet = Tweet(file['tweet_id'], file['username'], int(file['num_liked'].replace(file['num_liked'][-1], '000')), len(file['tweet_text']))\n",
    "            else:\n",
    "                tweet = Tweet(file['tweet_id'], file['username'], int(file['num_liked']), len(file['tweet_text']))\n",
    "            tweets.append(tweet)\n",
    "    return tweets\n",
    "\n",
    "def get_json_tweets(json_path):\n",
    "    try:\n",
    "        t = open(json_path, encoding = \"utf-8\")\n",
    "        json_str = t.read()\n",
    "        t.close()\n",
    "        data = json.loads(json_str)\n",
    "    except:\n",
    "        return []\n",
    "    tweets = []\n",
    "    for d in data:\n",
    "        try:\n",
    "            assert type(data[d]['num_liked']) == int\n",
    "            tweet = Tweet(d,data[d]['username'],data[d]['num_liked'],len(data[d]['tweet_text']))\n",
    "        except:\n",
    "            if type(data[d]['num_liked']) == str:\n",
    "                if data[d]['num_liked'][-1].upper() == 'M':\n",
    "                    tweet = Tweet(d,data[d]['username'],int(data[d]['num_liked'].replace(data[d]['num_liked'][-1],'000000')),len(data[d]['tweet_text']))\n",
    "                elif data[d]['num_liked'][-1].upper() == 'K':\n",
    "                    tweet = Tweet(d,data[d]['username'],int(data[d]['num_liked'].replace(data[d]['num_liked'][-1],'000')),len(data[d]['tweet_text']))\n",
    "                else:\n",
    "                    tweet = Tweet(d,data[d]['username'],0,len(data[d]['tweet_text']))\n",
    "            else:\n",
    "                tweet = Tweet(d,data[d]['username'],0,len(data[d]['tweet_text']))\n",
    "        tweets.append(tweet)\n",
    "    return tweets\n",
    "\n",
    "def find_all(dic):\n",
    "    file_list = os.listdir(dic)\n",
    "    all_tweets = []\n",
    "    for file in file_list:\n",
    "        path = os.path.join(dic,file)\n",
    "        if '.CSV' in file.upper():\n",
    "            tweets = get_csv_tweets(path)\n",
    "        else:\n",
    "            tweets = get_json_tweets(path)\n",
    "        all_tweets.extend(tweets)\n",
    "    return all_tweets"
   ]
  },
  {
   "cell_type": "code",
   "execution_count": 5,
   "id": "8a27f37a",
   "metadata": {
    "execution": {
     "iopub.execute_input": "2021-11-23T17:35:03.853509Z",
     "iopub.status.busy": "2021-11-23T17:35:03.852902Z",
     "iopub.status.idle": "2021-11-23T17:35:03.867101Z",
     "shell.execute_reply": "2021-11-23T17:35:03.867543Z"
    }
   },
   "outputs": [
    {
     "data": {
      "text/plain": [
       "131"
      ]
     },
     "execution_count": 1,
     "metadata": {},
     "output_type": "execute_result"
    }
   ],
   "source": [
    "#q1\n",
    "full_data = find_all(\"full_data\")\n",
    "unique_length = {}\n",
    "for data in full_data:\n",
    "    if data.length not in unique_length:\n",
    "        unique_length[data.length] = 1\n",
    "    unique_length[data.length] += 1\n",
    "\n",
    "len(unique_length)"
   ]
  },
  {
   "cell_type": "code",
   "execution_count": 6,
   "id": "0d04e613",
   "metadata": {
    "execution": {
     "iopub.execute_input": "2021-11-23T17:35:03.871959Z",
     "iopub.status.busy": "2021-11-23T17:35:03.871342Z",
     "iopub.status.idle": "2021-11-23T17:35:03.873705Z",
     "shell.execute_reply": "2021-11-23T17:35:03.874086Z"
    }
   },
   "outputs": [
    {
     "data": {
      "text/plain": [
       "['USERID_1',\n",
       " 'USERID_2',\n",
       " 'USERID_6',\n",
       " 'USERID_7',\n",
       " 'USERID_4',\n",
       " 'USERID_8',\n",
       " 'USERID_5',\n",
       " 'USERID_10',\n",
       " 'USERID_9',\n",
       " 'USERID_3']"
      ]
     },
     "execution_count": 1,
     "metadata": {},
     "output_type": "execute_result"
    }
   ],
   "source": [
    "#q2\n",
    "username_list = []\n",
    "for data in full_data:\n",
    "    if data.username not in username_list:\n",
    "        username_list.append(data.username)\n",
    "username_list"
   ]
  },
  {
   "cell_type": "code",
   "execution_count": 7,
   "id": "e274fb8d",
   "metadata": {
    "execution": {
     "iopub.execute_input": "2021-11-23T17:35:03.879323Z",
     "iopub.status.busy": "2021-11-23T17:35:03.878744Z",
     "iopub.status.idle": "2021-11-23T17:35:03.881073Z",
     "shell.execute_reply": "2021-11-23T17:35:03.881522Z"
    }
   },
   "outputs": [
    {
     "data": {
      "text/plain": [
       "{'USERID_1': 52,\n",
       " 'USERID_2': 47,\n",
       " 'USERID_6': 51,\n",
       " 'USERID_7': 55,\n",
       " 'USERID_4': 35,\n",
       " 'USERID_8': 31,\n",
       " 'USERID_5': 46,\n",
       " 'USERID_10': 45,\n",
       " 'USERID_9': 44,\n",
       " 'USERID_3': 39}"
      ]
     },
     "execution_count": 1,
     "metadata": {},
     "output_type": "execute_result"
    }
   ],
   "source": [
    "#q3\n",
    "user_num_tweet_dic = {}\n",
    "for data in full_data:\n",
    "    if data.username not in user_num_tweet_dic:\n",
    "        user_num_tweet_dic[data.username] = 0\n",
    "    user_num_tweet_dic[data.username] += 1\n",
    "user_num_tweet_dic"
   ]
  },
  {
   "cell_type": "code",
   "execution_count": 8,
   "id": "adb572d5",
   "metadata": {
    "execution": {
     "iopub.execute_input": "2021-11-23T17:35:03.888477Z",
     "iopub.status.busy": "2021-11-23T17:35:03.887796Z",
     "iopub.status.idle": "2021-11-23T17:35:03.890400Z",
     "shell.execute_reply": "2021-11-23T17:35:03.890779Z"
    }
   },
   "outputs": [
    {
     "data": {
      "text/plain": [
       "{'USERID_1': 150,\n",
       " 'USERID_2': 138,\n",
       " 'USERID_6': 145,\n",
       " 'USERID_7': 144,\n",
       " 'USERID_4': 138,\n",
       " 'USERID_8': 145,\n",
       " 'USERID_5': 146,\n",
       " 'USERID_10': 136,\n",
       " 'USERID_9': 137,\n",
       " 'USERID_3': 138}"
      ]
     },
     "execution_count": 1,
     "metadata": {},
     "output_type": "execute_result"
    }
   ],
   "source": [
    "#q4\n",
    "def bucketize(dictionary, category):\n",
    "    buckets = {}\n",
    "    for data in dictionary:\n",
    "        if category == 'tweet_id':\n",
    "            tweet_id = data.tweet_id\n",
    "            if tweet_id not in buckets:\n",
    "                buckets[tweet_id] = []\n",
    "            buckets[tweet_id].append(data)\n",
    "        elif category == 'username':\n",
    "            username = data.username\n",
    "            if username not in buckets:\n",
    "                buckets[username] = []\n",
    "            buckets[username].append(data)\n",
    "        elif category == 'num_liked':\n",
    "            liked = data.num_liked\n",
    "            if liked not in buckets:\n",
    "                buckets[liked] = []\n",
    "            buckets[liked].append(data)\n",
    "        elif category == 'length':\n",
    "            length = data.length\n",
    "            if length not in buckets:\n",
    "                buckets[length] = []\n",
    "            buckets[length].append(data)\n",
    "    return buckets\n",
    "\n",
    "user_dic = bucketize(full_data, \"username\")\n",
    "user_to_length = {}\n",
    "for username in user_dic:\n",
    "    longest = 0\n",
    "    user = user_dic[username]\n",
    "    for i in range(len(user)):\n",
    "        if longest == 0 or user[i].length > longest:\n",
    "            longest = user[i].length\n",
    "    user_to_length[username] = longest\n",
    "user_to_length"
   ]
  },
  {
   "cell_type": "code",
   "execution_count": 9,
   "id": "fd318f4d",
   "metadata": {
    "execution": {
     "iopub.execute_input": "2021-11-23T17:35:03.895623Z",
     "iopub.status.busy": "2021-11-23T17:35:03.895034Z",
     "iopub.status.idle": "2021-11-23T17:35:03.897601Z",
     "shell.execute_reply": "2021-11-23T17:35:03.897985Z"
    }
   },
   "outputs": [
    {
     "data": {
      "text/plain": [
       "{'USERID_1': 9393,\n",
       " 'USERID_2': 869000000,\n",
       " 'USERID_6': 9149,\n",
       " 'USERID_7': 9851,\n",
       " 'USERID_4': 9618,\n",
       " 'USERID_8': 915000,\n",
       " 'USERID_5': 9608,\n",
       " 'USERID_10': 9936,\n",
       " 'USERID_9': 9728,\n",
       " 'USERID_3': 9678}"
      ]
     },
     "execution_count": 1,
     "metadata": {},
     "output_type": "execute_result"
    }
   ],
   "source": [
    "#q5\n",
    "largest_like = {}\n",
    "for username in user_dic:\n",
    "    largest = 0\n",
    "    user = user_dic[username]\n",
    "    for i in range(len(user)):\n",
    "        if largest == 0 or user[i].num_liked > largest:\n",
    "            largest = user[i].num_liked\n",
    "    largest_like[username] = largest\n",
    "largest_like"
   ]
  },
  {
   "cell_type": "code",
   "execution_count": 10,
   "id": "032b520d",
   "metadata": {
    "execution": {
     "iopub.execute_input": "2021-11-23T17:35:03.902379Z",
     "iopub.status.busy": "2021-11-23T17:35:03.901605Z",
     "iopub.status.idle": "2021-11-23T17:35:04.066269Z",
     "shell.execute_reply": "2021-11-23T17:35:04.067057Z"
    }
   },
   "outputs": [
    {
     "data": {
      "image/png": "[encoded data removed]",
      "text/plain": [
       "<Figure size 432x288 with 1 Axes>"
      ]
     },
     "metadata": {
      "needs_background": "light"
     },
     "output_type": "display_data"
    }
   ],
   "source": [
    "#q6\n",
    "scatter(user_num_tweet_dic, user_to_length, xlabel = \"Number of tweets\", ylabel = \"Longest length\")"
   ]
  },
  {
   "cell_type": "code",
   "execution_count": 11,
   "id": "e21644e6",
   "metadata": {
    "execution": {
     "iopub.execute_input": "2021-11-23T17:35:04.105256Z",
     "iopub.status.busy": "2021-11-23T17:35:04.084963Z",
     "iopub.status.idle": "2021-11-23T17:35:04.175267Z",
     "shell.execute_reply": "2021-11-23T17:35:04.175650Z"
    }
   },
   "outputs": [
    {
     "data": {
      "image/png": "[encoded data removed]",
      "text/plain": [
       "<Figure size 432x288 with 1 Axes>"
      ]
     },
     "metadata": {
      "needs_background": "light"
     },
     "output_type": "display_data"
    }
   ],
   "source": [
    "#q7\n",
    "scatter(user_num_tweet_dic, largest_like, xlabel = \"Number of tweets\", ylabel = \"Largest likes\")"
   ]
  },
  {
   "cell_type": "code",
   "execution_count": 12,
   "id": "36b7b3e4",
   "metadata": {
    "execution": {
     "iopub.execute_input": "2021-11-23T17:35:04.208322Z",
     "iopub.status.busy": "2021-11-23T17:35:04.190260Z",
     "iopub.status.idle": "2021-11-23T17:35:04.289688Z",
     "shell.execute_reply": "2021-11-23T17:35:04.290076Z"
    }
   },
   "outputs": [
    {
     "data": {
      "image/png": "[encoded data removed]",
      "text/plain": [
       "<Figure size 432x288 with 1 Axes>"
      ]
     },
     "metadata": {
      "needs_background": "light"
     },
     "output_type": "display_data"
    }
   ],
   "source": [
    "#q8\n",
    "scatter(user_to_length, largest_like, xlabel = \"Longest length\", ylabel = \"Largest likes\")"
   ]
  },
  {
   "cell_type": "code",
   "execution_count": 13,
   "id": "23e29c0e",
   "metadata": {
    "execution": {
     "iopub.execute_input": "2021-11-23T17:35:04.294040Z",
     "iopub.status.busy": "2021-11-23T17:35:04.293382Z",
     "iopub.status.idle": "2021-11-23T17:35:04.296448Z",
     "shell.execute_reply": "2021-11-23T17:35:04.295963Z"
    }
   },
   "outputs": [
    {
     "data": {
      "text/plain": [
       "'USERID_2'"
      ]
     },
     "execution_count": 1,
     "metadata": {},
     "output_type": "execute_result"
    }
   ],
   "source": [
    "#q9\n",
    "sorted(largest_like.items(), key = lambda u:u[1])[-1][0]"
   ]
  },
  {
   "cell_type": "code",
   "execution_count": 14,
   "id": "0c7d8da5",
   "metadata": {
    "execution": {
     "iopub.execute_input": "2021-11-23T17:35:04.301415Z",
     "iopub.status.busy": "2021-11-23T17:35:04.300815Z",
     "iopub.status.idle": "2021-11-23T17:35:04.303856Z",
     "shell.execute_reply": "2021-11-23T17:35:04.303417Z"
    }
   },
   "outputs": [
    {
     "data": {
      "text/plain": [
       "[Tweet(tweet_id='1467894593', username='USERID_2', num_liked=869000000, length=136),\n",
       " Tweet(tweet_id='1467875163', username='USERID_2', num_liked=9891, length=69),\n",
       " Tweet(tweet_id='1467862806', username='USERID_2', num_liked=9465, length=68),\n",
       " Tweet(tweet_id='1467907751', username='USERID_2', num_liked=9048, length=110),\n",
       " Tweet(tweet_id='1467928764', username='USERID_2', num_liked=9026, length=41),\n",
       " Tweet(tweet_id='1467943007', username='USERID_2', num_liked=9000, length=130),\n",
       " Tweet(tweet_id='1467918682', username='USERID_2', num_liked=8884, length=102),\n",
       " Tweet(tweet_id='1467935121', username='USERID_2', num_liked=8740, length=37),\n",
       " Tweet(tweet_id='1467947913', username='USERID_2', num_liked=8578, length=36),\n",
       " Tweet(tweet_id='1467892667', username='USERID_2', num_liked=8270, length=20),\n",
       " Tweet(tweet_id='1467897316', username='USERID_2', num_liked=7890, length=64),\n",
       " Tweet(tweet_id='1467854917', username='USERID_2', num_liked=7741, length=30),\n",
       " Tweet(tweet_id='1467961106', username='USERID_2', num_liked=7552, length=65),\n",
       " Tweet(tweet_id='1467951252', username='USERID_2', num_liked=7515, length=48),\n",
       " Tweet(tweet_id='1467889988', username='USERID_2', num_liked=7394, length=51),\n",
       " Tweet(tweet_id='1467916959', username='USERID_2', num_liked=7081, length=69),\n",
       " Tweet(tweet_id='1467874916', username='USERID_2', num_liked=6935, length=23),\n",
       " Tweet(tweet_id='1467855981', username='USERID_2', num_liked=6455, length=92),\n",
       " Tweet(tweet_id='1467872247', username='USERID_2', num_liked=6316, length=137),\n",
       " Tweet(tweet_id='1467918850', username='USERID_2', num_liked=5383, length=103),\n",
       " Tweet(tweet_id='1467919055', username='USERID_2', num_liked=5370, length=68),\n",
       " Tweet(tweet_id='1467915670', username='USERID_2', num_liked=5287, length=138),\n",
       " Tweet(tweet_id='1467880442', username='USERID_2', num_liked=5125, length=96),\n",
       " Tweet(tweet_id='1467896253', username='USERID_2', num_liked=4906, length=91),\n",
       " Tweet(tweet_id='1467962897', username='USERID_2', num_liked=4898, length=98),\n",
       " Tweet(tweet_id='1467855812', username='USERID_2', num_liked=4806, length=28),\n",
       " Tweet(tweet_id='1467930220', username='USERID_2', num_liked=4770, length=94),\n",
       " Tweet(tweet_id='1467852031', username='USERID_2', num_liked=4565, length=63),\n",
       " Tweet(tweet_id='1467905378', username='USERID_2', num_liked=4420, length=111),\n",
       " Tweet(tweet_id='1467877833', username='USERID_2', num_liked=4270, length=89),\n",
       " Tweet(tweet_id='1467870866', username='USERID_2', num_liked=4166, length=82),\n",
       " Tweet(tweet_id='1467879984', username='USERID_2', num_liked=3694, length=69),\n",
       " Tweet(tweet_id='1467898511', username='USERID_2', num_liked=3477, length=99),\n",
       " Tweet(tweet_id='1467926632', username='USERID_2', num_liked=2602, length=98),\n",
       " Tweet(tweet_id='1467862213', username='USERID_2', num_liked=2455, length=138),\n",
       " Tweet(tweet_id='1467878633', username='USERID_2', num_liked=2351, length=33),\n",
       " Tweet(tweet_id='1467878971', username='USERID_2', num_liked=2238, length=27),\n",
       " Tweet(tweet_id='1467953090', username='USERID_2', num_liked=1896, length=64),\n",
       " Tweet(tweet_id='1467908798', username='USERID_2', num_liked=1659, length=51),\n",
       " Tweet(tweet_id='1467918015', username='USERID_2', num_liked=1508, length=97),\n",
       " Tweet(tweet_id='1467926444', username='USERID_2', num_liked=1394, length=61),\n",
       " Tweet(tweet_id='1467914499', username='USERID_2', num_liked=910, length=138),\n",
       " Tweet(tweet_id='1467968584', username='USERID_2', num_liked=777, length=132),\n",
       " Tweet(tweet_id='1467933102', username='USERID_2', num_liked=625, length=135),\n",
       " Tweet(tweet_id='1467953277', username='USERID_2', num_liked=494, length=31),\n",
       " Tweet(tweet_id='1467890222', username='USERID_2', num_liked=227, length=107),\n",
       " Tweet(tweet_id='1467871956', username='USERID_2', num_liked=110, length=68)]"
      ]
     },
     "execution_count": 1,
     "metadata": {},
     "output_type": "execute_result"
    }
   ],
   "source": [
    "#q10\n",
    "outlier = sorted(largest_like.items(), key = lambda u:u[1])[-1][0]\n",
    "def get_num_liked(tweet):\n",
    "    return tweet.num_liked\n",
    "sorted(user_dic[outlier], key = get_num_liked, reverse = True)"
   ]
  },
  {
   "cell_type": "code",
   "execution_count": 15,
   "id": "bb73fce5",
   "metadata": {
    "execution": {
     "iopub.execute_input": "2021-11-23T17:35:04.308432Z",
     "iopub.status.busy": "2021-11-23T17:35:04.307847Z",
     "iopub.status.idle": "2021-11-23T17:35:04.310218Z",
     "shell.execute_reply": "2021-11-23T17:35:04.310622Z"
    }
   },
   "outputs": [
    {
     "data": {
      "text/plain": [
       "5003.565217391304"
      ]
     },
     "execution_count": 1,
     "metadata": {},
     "output_type": "execute_result"
    }
   ],
   "source": [
    "#q11\n",
    "no_outlier = sorted(user_dic[outlier], key = get_num_liked, reverse = True)[1:]\n",
    "total = 0\n",
    "for tweet in no_outlier:\n",
    "    total += tweet.num_liked\n",
    "total / len(no_outlier)"
   ]
  },
  {
   "cell_type": "code",
   "execution_count": 16,
   "id": "9415acdf",
   "metadata": {
    "execution": {
     "iopub.execute_input": "2021-11-23T17:35:04.344963Z",
     "iopub.status.busy": "2021-11-23T17:35:04.344259Z",
     "iopub.status.idle": "2021-11-23T17:35:04.417521Z",
     "shell.execute_reply": "2021-11-23T17:35:04.417910Z"
    }
   },
   "outputs": [
    {
     "data": {
      "image/png": "[encoded data removed]",
      "text/plain": [
       "<Figure size 432x288 with 1 Axes>"
      ]
     },
     "metadata": {
      "needs_background": "light"
     },
     "output_type": "display_data"
    }
   ],
   "source": [
    "#q12\n",
    "no_top_3 = sorted(full_data, key = get_num_liked, reverse = True)[3:]\n",
    "no_top_3_dic = bucketize(no_top_3, \"username\")\n",
    "\n",
    "user_num_tweet = {}\n",
    "for data in no_top_3:\n",
    "    if data.username not in user_num_tweet:\n",
    "        user_num_tweet[data.username] = 0\n",
    "    user_num_tweet[data.username] += 1\n",
    "x_axis = user_num_tweet\n",
    "\n",
    "largest_liked = {}\n",
    "for username in no_top_3_dic:\n",
    "    largest = 0\n",
    "    user = no_top_3_dic[username]\n",
    "    for i in range(len(user)):\n",
    "        if largest == 0 or user[i].num_liked > largest:\n",
    "            largest = user[i].num_liked\n",
    "    largest_liked[username] = largest\n",
    "y_axis = largest_liked\n",
    "scatter(x_axis, y_axis, xlabel = \"Number of tweets\", ylabel = \"Largest likes\")"
   ]
  },
  {
   "cell_type": "code",
   "execution_count": 17,
   "id": "a9fd6f09",
   "metadata": {
    "execution": {
     "iopub.execute_input": "2021-11-23T17:35:04.502572Z",
     "iopub.status.busy": "2021-11-23T17:35:04.501934Z",
     "iopub.status.idle": "2021-11-23T17:35:04.574520Z",
     "shell.execute_reply": "2021-11-23T17:35:04.574908Z"
    }
   },
   "outputs": [
    {
     "data": {
      "image/png": "[encoded data removed]",
      "text/plain": [
       "<Figure size 432x288 with 1 Axes>"
      ]
     },
     "metadata": {
      "needs_background": "light"
     },
     "output_type": "display_data"
    }
   ],
   "source": [
    "#q13\n",
    "no_top_20 = sorted(full_data, key = get_num_liked, reverse = True)[20:]\n",
    "no_top_20_dic = bucketize(no_top_20, \"username\")\n",
    "\n",
    "user_num_tweet2 = {}\n",
    "for data in no_top_20:\n",
    "    if data.username not in user_num_tweet2:\n",
    "        user_num_tweet2[data.username] = 0\n",
    "    user_num_tweet2[data.username] += 1\n",
    "x_axis = user_num_tweet2\n",
    "\n",
    "largest_liked2 = {}\n",
    "for username in no_top_20_dic:\n",
    "    largest = 0\n",
    "    user = no_top_20_dic[username]\n",
    "    for i in range(len(user)):\n",
    "        if largest == 0 or user[i].num_liked > largest:\n",
    "            largest = user[i].num_liked\n",
    "    largest_liked2[username] = largest\n",
    "y_axis = largest_liked2\n",
    "scatter(x_axis, y_axis, xlabel = \"Number of tweets\", ylabel = \"Largest likes\")"
   ]
  },
  {
   "cell_type": "code",
   "execution_count": 18,
   "id": "d2743418",
   "metadata": {
    "execution": {
     "iopub.execute_input": "2021-11-23T17:35:04.579585Z",
     "iopub.status.busy": "2021-11-23T17:35:04.578897Z",
     "iopub.status.idle": "2021-11-23T17:35:04.582144Z",
     "shell.execute_reply": "2021-11-23T17:35:04.582597Z"
    }
   },
   "outputs": [
    {
     "data": {
      "text/plain": [
       "['play/rb/ppt.ppt', 'play/rb/rb9/12.xls', 'play/rb/rb9/89.csv']"
      ]
     },
     "execution_count": 1,
     "metadata": {},
     "output_type": "execute_result"
    }
   ],
   "source": [
    "#q14\n",
    "def recursive_find(dir_path):\n",
    "    files = os.listdir(dir_path)\n",
    "    path_list = []\n",
    "    for file in files:\n",
    "        if not file.startswith('.'):\n",
    "            path = os.path.join(dir_path,file)\n",
    "            if not os.path.isdir(path):\n",
    "                path_list.append(path)\n",
    "            else:\n",
    "                path_list.extend(recursive_find(path))\n",
    "    return sorted(path_list)\n",
    "\n",
    "play_rb = os.path.join('play','rb')\n",
    "recursive_find(play_rb)"
   ]
  },
  {
   "cell_type": "code",
   "execution_count": 19,
   "id": "ccc3b84c",
   "metadata": {
    "execution": {
     "iopub.execute_input": "2021-11-23T17:35:04.586116Z",
     "iopub.status.busy": "2021-11-23T17:35:04.585446Z",
     "iopub.status.idle": "2021-11-23T17:35:04.588631Z",
     "shell.execute_reply": "2021-11-23T17:35:04.589085Z"
    }
   },
   "outputs": [
    {
     "data": {
      "text/plain": [
       "['play/ls/qwe/iuqwe.json', 'play/ls/qwe/usun.pdf']"
      ]
     },
     "execution_count": 1,
     "metadata": {},
     "output_type": "execute_result"
    }
   ],
   "source": [
    "#q15\n",
    "play_ls_qwe = os.path.join('play','ls','qwe')\n",
    "recursive_find(play_ls_qwe)"
   ]
  },
  {
   "cell_type": "code",
   "execution_count": 20,
   "id": "33277be8",
   "metadata": {
    "execution": {
     "iopub.execute_input": "2021-11-23T17:35:04.592178Z",
     "iopub.status.busy": "2021-11-23T17:35:04.591622Z",
     "iopub.status.idle": "2021-11-23T17:35:04.595623Z",
     "shell.execute_reply": "2021-11-23T17:35:04.596019Z"
    }
   },
   "outputs": [
    {
     "data": {
      "text/plain": [
       "['play/ls/lu.txt',\n",
       " 'play/ls/mf.py',\n",
       " 'play/ls/qwe/iuqwe.json',\n",
       " 'play/ls/qwe/usun.pdf',\n",
       " 'play/ou/a',\n",
       " 'play/ou/b',\n",
       " 'play/ou/quap/aoq/aqnsa',\n",
       " 'play/ou/quap/aoq/qsonj',\n",
       " 'play/ou/quap/qonxu.txt',\n",
       " 'play/ou/quap/uikwe',\n",
       " 'play/ou/v',\n",
       " 'play/rb/ppt.ppt',\n",
       " 'play/rb/rb9/12.xls',\n",
       " 'play/rb/rb9/89.csv']"
      ]
     },
     "execution_count": 1,
     "metadata": {},
     "output_type": "execute_result"
    }
   ],
   "source": [
    "#q16\n",
    "recursive_find('play')"
   ]
  },
  {
   "cell_type": "code",
   "execution_count": 21,
   "id": "fa4cab8b",
   "metadata": {
    "execution": {
     "iopub.execute_input": "2021-11-23T17:35:04.599481Z",
     "iopub.status.busy": "2021-11-23T17:35:04.598803Z",
     "iopub.status.idle": "2021-11-23T17:35:04.602115Z",
     "shell.execute_reply": "2021-11-23T17:35:04.602503Z"
    }
   },
   "outputs": [
    {
     "data": {
      "text/plain": [
       "['recursive/others/USERID_10.json',\n",
       " 'recursive/others/USERID_5.json',\n",
       " 'recursive/others/USERID_6.json',\n",
       " 'recursive/others/USERID_7.json',\n",
       " 'recursive/others/USERID_8.json',\n",
       " 'recursive/others/USERID_9.json']"
      ]
     },
     "execution_count": 1,
     "metadata": {},
     "output_type": "execute_result"
    }
   ],
   "source": [
    "#q17\n",
    "rec_others = os.path.join('recursive', 'others')\n",
    "recursive_find(rec_others)"
   ]
  },
  {
   "cell_type": "code",
   "execution_count": 22,
   "id": "c646f594",
   "metadata": {
    "execution": {
     "iopub.execute_input": "2021-11-23T17:35:04.605966Z",
     "iopub.status.busy": "2021-11-23T17:35:04.605073Z",
     "iopub.status.idle": "2021-11-23T17:35:04.609329Z",
     "shell.execute_reply": "2021-11-23T17:35:04.609734Z"
    }
   },
   "outputs": [
    {
     "data": {
      "text/plain": [
       "['recursive/USERID_1/tweets.json',\n",
       " 'recursive/USERID_2/tweets.json',\n",
       " 'recursive/USERID_3/tweets.json',\n",
       " 'recursive/USERID_4/1.csv',\n",
       " 'recursive/USERID_4/1.json',\n",
       " 'recursive/USERID_4/2.csv',\n",
       " 'recursive/USERID_4/2.json',\n",
       " 'recursive/USERID_4/false/tweets.json',\n",
       " 'recursive/USERID_4/true/tweets.json',\n",
       " 'recursive/others/USERID_10.json',\n",
       " 'recursive/others/USERID_5.json',\n",
       " 'recursive/others/USERID_6.json',\n",
       " 'recursive/others/USERID_7.json',\n",
       " 'recursive/others/USERID_8.json',\n",
       " 'recursive/others/USERID_9.json']"
      ]
     },
     "execution_count": 1,
     "metadata": {},
     "output_type": "execute_result"
    }
   ],
   "source": [
    "#q18\n",
    "rec = recursive_find('recursive')\n",
    "rec"
   ]
  },
  {
   "cell_type": "code",
   "execution_count": 23,
   "id": "043647dd",
   "metadata": {
    "execution": {
     "iopub.execute_input": "2021-11-23T17:35:04.613642Z",
     "iopub.status.busy": "2021-11-23T17:35:04.613088Z",
     "iopub.status.idle": "2021-11-23T17:35:04.628568Z",
     "shell.execute_reply": "2021-11-23T17:35:04.629099Z"
    }
   },
   "outputs": [
    {
     "data": {
      "text/plain": [
       "37"
      ]
     },
     "execution_count": 1,
     "metadata": {},
     "output_type": "execute_result"
    }
   ],
   "source": [
    "#q19\n",
    "userid_4 = recursive_find(os.path.join('recursive', 'USERID_4'))\n",
    "userid_4_tweets = []\n",
    "for file in userid_4:\n",
    "    if \".CSV\" in file.upper():\n",
    "        userid_4_tweets.extend(get_csv_tweets(file))\n",
    "    elif \".JSON\" in file.upper():\n",
    "        userid_4_tweets.extend(get_json_tweets(file))\n",
    "len(userid_4_tweets)"
   ]
  },
  {
   "cell_type": "code",
   "execution_count": 24,
   "id": "99ee7c29",
   "metadata": {
    "execution": {
     "iopub.execute_input": "2021-11-23T17:35:04.634362Z",
     "iopub.status.busy": "2021-11-23T17:35:04.633624Z",
     "iopub.status.idle": "2021-11-23T17:35:04.643219Z",
     "shell.execute_reply": "2021-11-23T17:35:04.643654Z"
    }
   },
   "outputs": [
    {
     "data": {
      "text/plain": [
       "220"
      ]
     },
     "execution_count": 1,
     "metadata": {},
     "output_type": "execute_result"
    }
   ],
   "source": [
    "#q20\n",
    "rec_tweets = []\n",
    "for file in rec:\n",
    "    if \".CSV\" in file.upper():\n",
    "        rec_tweets.extend(get_csv_tweets(file))\n",
    "    elif \".JSON\" in file.upper():\n",
    "        rec_tweets.extend(get_json_tweets(file))\n",
    "len(rec_tweets)"
   ]
  }
 ],
 "metadata": {
  "kernelspec": {
   "display_name": "Python 3",
   "language": "python",
   "name": "python3"
  },
  "language_info": {
   "codemirror_mode": {
    "name": "ipython",
    "version": 3
   },
   "file_extension": ".py",
   "mimetype": "text/x-python",
   "name": "python",
   "nbconvert_exporter": "python",
   "pygments_lexer": "ipython3",
   "version": "3.8.8"
  }
 },
 "nbformat": 4,
 "nbformat_minor": 5
}
