{
 "cells": [
  {
   "cell_type": "code",
   "execution_count": 1,
   "id": "cc2547db",
   "metadata": {},
   "outputs": [],
   "source": [
    "# project: p3\n",
    "# submitter: yzhang2232\n",
    "# partner: none\n",
    "# hours: 2"
   ]
  },
  {
   "cell_type": "code",
   "execution_count": 2,
   "id": "2e5bcfbc",
   "metadata": {},
   "outputs": [
    {
     "data": {
      "text/plain": [
       "['__DictReader',\n",
       " '__builtins__',\n",
       " '__cached__',\n",
       " '__data',\n",
       " '__doc__',\n",
       " '__energy_to_idx',\n",
       " '__file__',\n",
       " '__loader__',\n",
       " '__name__',\n",
       " '__package__',\n",
       " '__spec__',\n",
       " 'dump',\n",
       " 'get_consumption',\n",
       " 'get_idx',\n",
       " 'init']"
      ]
     },
     "execution_count": 2,
     "metadata": {},
     "output_type": "execute_result"
    }
   ],
   "source": [
    "import project\n",
    "import math\n",
    "dir(project)"
   ]
  },
  {
   "cell_type": "code",
   "execution_count": 3,
   "id": "a7221eb9",
   "metadata": {},
   "outputs": [],
   "source": [
    "project.init(\"energy.csv\")"
   ]
  },
  {
   "cell_type": "code",
   "execution_count": 4,
   "id": "35112c1e",
   "metadata": {},
   "outputs": [
    {
     "name": "stdout",
     "output_type": "stream",
     "text": [
      "Biomass Energy [Index 7]\n",
      "  2015: 524.879000 Trillion Btu\n",
      "  2016: 505.069000 Trillion Btu\n",
      "  2017: 509.541000 Trillion Btu\n",
      "  2018: 496.085000 Trillion Btu\n",
      "  2019: 448.137000 Trillion Btu\n",
      "  2020: 423.513000 Trillion Btu\n",
      "\n",
      "Conventional Hydroelectric Power [Index 1]\n",
      "  2015: 2307.717000 Trillion Btu\n",
      "  2016: 2458.721000 Trillion Btu\n",
      "  2017: 2752.024000 Trillion Btu\n",
      "  2018: 2650.608000 Trillion Btu\n",
      "  2019: 2552.636000 Trillion Btu\n",
      "  2020: 2581.291000 Trillion Btu\n",
      "\n",
      "Solar Energy [Index 3]\n",
      "  2015: 227.901000 Trillion Btu\n",
      "  2016: 327.712000 Trillion Btu\n",
      "  2017: 485.742000 Trillion Btu\n",
      "  2018: 575.854000 Trillion Btu\n",
      "  2019: 634.613000 Trillion Btu\n",
      "  2020: 802.317000 Trillion Btu\n",
      "\n",
      "Wind Energy [Index 4]\n",
      "  2015: 1775.705000 Trillion Btu\n",
      "  2016: 2093.728000 Trillion Btu\n",
      "  2017: 2340.784000 Trillion Btu\n",
      "  2018: 2479.897000 Trillion Btu\n",
      "  2019: 2632.354000 Trillion Btu\n",
      "  2020: 2998.142000 Trillion Btu\n",
      "\n",
      "Wood Energy [Index 5]\n",
      "  2015: 243.857000 Trillion Btu\n",
      "  2016: 224.407000 Trillion Btu\n",
      "  2017: 229.324000 Trillion Btu\n",
      "  2018: 221.063000 Trillion Btu\n",
      "  2019: 200.524000 Trillion Btu\n",
      "  2020: 185.145000 Trillion Btu\n",
      "\n"
     ]
    }
   ],
   "source": [
    "project.dump()"
   ]
  },
  {
   "cell_type": "code",
   "execution_count": 5,
   "id": "b7b1e77c",
   "metadata": {},
   "outputs": [],
   "source": [
    "hydro_idx = project.get_idx(\"Conventional Hydroelectric Power\")\n",
    "solar_idx = project.get_idx(\"Solar Energy\")\n",
    "biomass_idx = project.get_idx(\"Biomass Energy\")\n",
    "wind_idx = project.get_idx(\"Wind Energy\")\n",
    "wood_idx = project.get_idx(\"Wood Energy\")"
   ]
  },
  {
   "cell_type": "code",
   "execution_count": 6,
   "id": "ecc848db",
   "metadata": {},
   "outputs": [
    {
     "data": {
      "text/plain": [
       "7"
      ]
     },
     "execution_count": 6,
     "metadata": {},
     "output_type": "execute_result"
    }
   ],
   "source": [
    "# q1\n",
    "project.get_idx(\"Biomass Energy\")"
   ]
  },
  {
   "cell_type": "code",
   "execution_count": 7,
   "id": "cf144288",
   "metadata": {},
   "outputs": [
    {
     "data": {
      "text/plain": [
       "509.541"
      ]
     },
     "execution_count": 7,
     "metadata": {},
     "output_type": "execute_result"
    }
   ],
   "source": [
    "# q2\n",
    "project.get_consumption(7,2017)"
   ]
  },
  {
   "cell_type": "code",
   "execution_count": 8,
   "id": "3776ef50",
   "metadata": {},
   "outputs": [
    {
     "data": {
      "text/plain": [
       "634.613"
      ]
     },
     "execution_count": 8,
     "metadata": {},
     "output_type": "execute_result"
    }
   ],
   "source": [
    "# q3\n",
    "project.get_consumption(solar_idx,2019)"
   ]
  },
  {
   "cell_type": "code",
   "execution_count": 9,
   "id": "338031aa",
   "metadata": {},
   "outputs": [],
   "source": [
    "def year_max(year):\n",
    "    hydro_consumption = project.get_consumption(project.get_idx(\"Conventional Hydroelectric Power\"), year)\n",
    "    solar_consumption = project.get_consumption(project.get_idx(\"Solar Energy\"), year)\n",
    "    wind_consumption = project.get_consumption(project.get_idx(\"Wind Energy\"), year)\n",
    "    wood_consumption = project.get_consumption(project.get_idx(\"Wood Energy\"), year)    \n",
    "    biomass_consumption = project.get_consumption(project.get_idx(\"Biomass Energy\"), year)\n",
    "\n",
    "    return max(hydro_consumption, solar_consumption, wind_consumption, wood_consumption, biomass_consumption)"
   ]
  },
  {
   "cell_type": "code",
   "execution_count": 10,
   "id": "1e297ca7",
   "metadata": {},
   "outputs": [
    {
     "data": {
      "text/plain": [
       "2307.717"
      ]
     },
     "execution_count": 10,
     "metadata": {},
     "output_type": "execute_result"
    }
   ],
   "source": [
    "# q4\n",
    "year_max(2015)"
   ]
  },
  {
   "cell_type": "code",
   "execution_count": 11,
   "id": "d29286bd",
   "metadata": {},
   "outputs": [
    {
     "data": {
      "text/plain": [
       "2752.024"
      ]
     },
     "execution_count": 11,
     "metadata": {},
     "output_type": "execute_result"
    }
   ],
   "source": [
    "# q5\n",
    "year_max(2017)"
   ]
  },
  {
   "cell_type": "code",
   "execution_count": 12,
   "id": "417572a7",
   "metadata": {},
   "outputs": [],
   "source": [
    "def energy_min(source):\n",
    "    source_idx = project.get_idx(source)    \n",
    "    y15 = project.get_consumption(source_idx, 2015)\n",
    "    y16 = project.get_consumption(source_idx, 2016)\n",
    "    y17 = project.get_consumption(source_idx, 2017)\n",
    "    y18 = project.get_consumption(source_idx, 2018)\n",
    "    y19 = project.get_consumption(source_idx, 2019)\n",
    "    y20 = project.get_consumption(source_idx, 2020)\n",
    "\n",
    "    return min(y15,y16,y17,y18,y19,y20)"
   ]
  },
  {
   "cell_type": "code",
   "execution_count": 13,
   "id": "1ec296c2",
   "metadata": {},
   "outputs": [
    {
     "data": {
      "text/plain": [
       "185.145"
      ]
     },
     "execution_count": 13,
     "metadata": {},
     "output_type": "execute_result"
    }
   ],
   "source": [
    "# q6\n",
    "energy_min(\"Wood Energy\")"
   ]
  },
  {
   "cell_type": "code",
   "execution_count": 14,
   "id": "d7245a34",
   "metadata": {},
   "outputs": [
    {
     "data": {
      "text/plain": [
       "2307.717"
      ]
     },
     "execution_count": 14,
     "metadata": {},
     "output_type": "execute_result"
    }
   ],
   "source": [
    "# q7\n",
    "energy_min(\"Conventional Hydroelectric Power\")"
   ]
  },
  {
   "cell_type": "code",
   "execution_count": 15,
   "id": "9a456f09",
   "metadata": {},
   "outputs": [],
   "source": [
    "def energy_avg(source):\n",
    "    source_idx = project.get_idx(source)    \n",
    "    y15 = project.get_consumption(source_idx, 2015)\n",
    "    y16 = project.get_consumption(source_idx, 2016)\n",
    "    y17 = project.get_consumption(source_idx, 2017)\n",
    "    y18 = project.get_consumption(source_idx, 2018)\n",
    "    y19 = project.get_consumption(source_idx, 2019)\n",
    "    y20 = project.get_consumption(source_idx, 2020)\n",
    "    x = (y15 + y16 + y17 + y18 + y19 + y20)/6\n",
    "    \n",
    "    return x"
   ]
  },
  {
   "cell_type": "code",
   "execution_count": 16,
   "id": "fb470f5d",
   "metadata": {},
   "outputs": [
    {
     "data": {
      "text/plain": [
       "509.02316666666667"
      ]
     },
     "execution_count": 16,
     "metadata": {},
     "output_type": "execute_result"
    }
   ],
   "source": [
    "# q8\n",
    "energy_avg(\"Solar Energy\")"
   ]
  },
  {
   "cell_type": "code",
   "execution_count": 17,
   "id": "1e9339e0",
   "metadata": {},
   "outputs": [
    {
     "data": {
      "text/plain": [
       "2386.7683333333334"
      ]
     },
     "execution_count": 17,
     "metadata": {},
     "output_type": "execute_result"
    }
   ],
   "source": [
    "# q9\n",
    "energy_avg(\"Wind Energy\")"
   ]
  },
  {
   "cell_type": "code",
   "execution_count": 18,
   "id": "649009d5",
   "metadata": {},
   "outputs": [
    {
     "data": {
      "text/plain": [
       "2.3832356915050092"
      ]
     },
     "execution_count": 18,
     "metadata": {},
     "output_type": "execute_result"
    }
   ],
   "source": [
    "# q10\n",
    "x = project.get_consumption(biomass_idx,2018)\n",
    "y = energy_avg(\"Biomass Energy\")\n",
    "(x-y)/y*100"
   ]
  },
  {
   "cell_type": "code",
   "execution_count": 19,
   "id": "b422bf75",
   "metadata": {},
   "outputs": [],
   "source": [
    "def year_sum(year=2016):\n",
    "    hydro = project.get_consumption(project.get_idx(\"Conventional Hydroelectric Power\"), year)\n",
    "    solar = project.get_consumption(project.get_idx(\"Solar Energy\"), year)\n",
    "    wind = project.get_consumption(project.get_idx(\"Wind Energy\"), year)\n",
    "    wood = project.get_consumption(project.get_idx(\"Wood Energy\"), year)    \n",
    "    biomass = project.get_consumption(project.get_idx(\"Biomass Energy\"), year)\n",
    "    \n",
    "    return hydro+solar+wind+wood+biomass"
   ]
  },
  {
   "cell_type": "code",
   "execution_count": 20,
   "id": "0c465d82",
   "metadata": {},
   "outputs": [
    {
     "data": {
      "text/plain": [
       "5609.637000000001"
      ]
     },
     "execution_count": 20,
     "metadata": {},
     "output_type": "execute_result"
    }
   ],
   "source": [
    "# q11\n",
    "year_sum()"
   ]
  },
  {
   "cell_type": "code",
   "execution_count": 21,
   "id": "32f1f466",
   "metadata": {},
   "outputs": [
    {
     "data": {
      "text/plain": [
       "6990.408"
      ]
     },
     "execution_count": 21,
     "metadata": {},
     "output_type": "execute_result"
    }
   ],
   "source": [
    "# q12\n",
    "year_sum(2020)"
   ]
  },
  {
   "cell_type": "code",
   "execution_count": 22,
   "id": "fb66f962",
   "metadata": {},
   "outputs": [],
   "source": [
    "def change_per_year(energy, start_year=2015, end_year=2020):\n",
    "    start_consumption = project.get_consumption(project.get_idx(energy),start_year)\n",
    "    end_consumption = project.get_consumption(project.get_idx(energy),end_year)\n",
    "    years = end_year - start_year\n",
    "    \n",
    "    return (end_consumption-start_consumption)/years"
   ]
  },
  {
   "cell_type": "code",
   "execution_count": 23,
   "id": "b98ddea9",
   "metadata": {},
   "outputs": [
    {
     "data": {
      "text/plain": [
       "114.88319999999999"
      ]
     },
     "execution_count": 23,
     "metadata": {},
     "output_type": "execute_result"
    }
   ],
   "source": [
    "# q13\n",
    "change_per_year(\"Solar Energy\")"
   ]
  },
  {
   "cell_type": "code",
   "execution_count": 24,
   "id": "6c93a01e",
   "metadata": {},
   "outputs": [
    {
     "data": {
      "text/plain": [
       "226.10349999999994"
      ]
     },
     "execution_count": 24,
     "metadata": {},
     "output_type": "execute_result"
    }
   ],
   "source": [
    "# q14\n",
    "change_per_year(\"Wind Energy\",2016)"
   ]
  },
  {
   "cell_type": "code",
   "execution_count": 25,
   "id": "847c97f1",
   "metadata": {},
   "outputs": [],
   "source": [
    "def find_threshold_year(energy, threshold=0):\n",
    "     # TODO: compute the average change in consumption from 2015 to 2020\n",
    "     # TODO: assume that the energy consumption keeps decreasing at same rate\n",
    "     # TODO: compute the required decrease in energy consumption from 2020 to cross threshold\n",
    "     # TODO: estimate the number of years it will take from 2020 to cross threshold\n",
    "     # TODO: use math.ceil() to round it up.\n",
    "    rate = change_per_year(energy, start_year=2015, end_year=2020)\n",
    "    required_decrease = project.get_consumption(project.get_idx(energy), 2020)-threshold\n",
    "    number_years = required_decrease / abs(rate) + 2020\n",
    "    \n",
    "    return math.ceil(number_years)   "
   ]
  },
  {
   "cell_type": "code",
   "execution_count": 26,
   "id": "9da7f209",
   "metadata": {},
   "outputs": [
    {
     "data": {
      "text/plain": [
       "2036"
      ]
     },
     "execution_count": 26,
     "metadata": {},
     "output_type": "execute_result"
    }
   ],
   "source": [
    "# q15\n",
    "find_threshold_year(\"Wood Energy\")"
   ]
  },
  {
   "cell_type": "code",
   "execution_count": 27,
   "id": "2f6b8977",
   "metadata": {},
   "outputs": [
    {
     "data": {
      "text/plain": [
       "2041"
      ]
     },
     "execution_count": 27,
     "metadata": {},
     "output_type": "execute_result"
    }
   ],
   "source": [
    "# q16\n",
    "find_threshold_year(\"Biomass Energy\")"
   ]
  },
  {
   "cell_type": "code",
   "execution_count": 28,
   "id": "89255505",
   "metadata": {},
   "outputs": [
    {
     "data": {
      "text/plain": [
       "2032"
      ]
     },
     "execution_count": 28,
     "metadata": {},
     "output_type": "execute_result"
    }
   ],
   "source": [
    "# q17\n",
    "thre_wood = project.get_consumption(wood_idx, 2020)\n",
    "find_threshold_year(\"Biomass Energy\", thre_wood)"
   ]
  },
  {
   "cell_type": "code",
   "execution_count": 29,
   "id": "82f428c2",
   "metadata": {},
   "outputs": [],
   "source": [
    "def find_overtake_year(energy1, energy2):\n",
    "    pass\n",
    "    # TODO: compute the average change in consumption for both energy sources from 2015 to 2020.\n",
    "    # TODO: assume both energy consumptions keep changing at the same rate.\n",
    "    # TODO: compute the initial gap between consumption of energy1 and energy2 in 2020.    \n",
    "    # TODO: estimate the number of years it will take from 2020 for this gap to decrease to 0.\n",
    "    # TODO: use math.ceil() to round it up.\n",
    "    rate1 = change_per_year(energy1, start_year=2015, end_year=2020)\n",
    "    rate2 = change_per_year(energy2, start_year=2015, end_year=2020)\n",
    "    initial_gap = project.get_consumption(project.get_idx(energy1), 2020)-project.get_consumption(project.get_idx(energy2), 2020)\n",
    "    estimate_years = abs(initial_gap) / abs(rate2-rate1) + 2020\n",
    "    \n",
    "    return math.ceil(estimate_years)"
   ]
  },
  {
   "cell_type": "code",
   "execution_count": 30,
   "id": "bd6855dd",
   "metadata": {},
   "outputs": [
    {
     "data": {
      "text/plain": [
       "2048"
      ]
     },
     "execution_count": 30,
     "metadata": {},
     "output_type": "execute_result"
    }
   ],
   "source": [
    "# q18\n",
    "find_overtake_year(\"Biomass Energy\", \"Wood Energy\")"
   ]
  },
  {
   "cell_type": "code",
   "execution_count": 31,
   "id": "080624ab",
   "metadata": {},
   "outputs": [
    {
     "data": {
      "text/plain": [
       "2050"
      ]
     },
     "execution_count": 31,
     "metadata": {},
     "output_type": "execute_result"
    }
   ],
   "source": [
    "# q19\n",
    "find_overtake_year(\"Solar Energy\",\"Conventional Hydroelectric Power\")"
   ]
  },
  {
   "cell_type": "code",
   "execution_count": 32,
   "id": "27bda396",
   "metadata": {},
   "outputs": [
    {
     "data": {
      "text/plain": [
       "1.6662191138389897"
      ]
     },
     "execution_count": 32,
     "metadata": {},
     "output_type": "execute_result"
    }
   ],
   "source": [
    "# q20\n",
    "unit2019 = 100 * project.get_consumption(solar_idx, 2019) / year_sum(2019)\n",
    "unit2020 = 100 * project.get_consumption(solar_idx, 2020) / year_sum(2020)\n",
    "unit2020-unit2019"
   ]
  }
 ],
 "metadata": {
  "kernelspec": {
   "display_name": "Python 3",
   "language": "python",
   "name": "python3"
  },
  "language_info": {
   "codemirror_mode": {
    "name": "ipython",
    "version": 3
   },
   "file_extension": ".py",
   "mimetype": "text/x-python",
   "name": "python",
   "nbconvert_exporter": "python",
   "pygments_lexer": "ipython3",
   "version": "3.8.8"
  }
 },
 "nbformat": 4,
 "nbformat_minor": 5
}
