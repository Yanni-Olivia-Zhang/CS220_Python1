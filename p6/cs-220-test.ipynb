{
 "cells": [
  {
   "cell_type": "code",
   "execution_count": 1,
   "id": "71f0362e",
   "metadata": {
    "execution": {
     "iopub.execute_input": "2021-10-21T04:44:12.117532Z",
     "iopub.status.busy": "2021-10-21T04:44:12.116631Z",
     "iopub.status.idle": "2021-10-21T04:44:12.119167Z",
     "shell.execute_reply": "2021-10-21T04:44:12.119710Z"
    }
   },
   "outputs": [],
   "source": [
    "# project: p6\n",
    "# submitter: yzhang2232\n",
    "# partner: none\n",
    "# hours: 5"
   ]
  },
  {
   "cell_type": "code",
   "execution_count": 2,
   "id": "c50e8f2b",
   "metadata": {
    "execution": {
     "iopub.execute_input": "2021-10-21T04:44:12.125534Z",
     "iopub.status.busy": "2021-10-21T04:44:12.124861Z",
     "iopub.status.idle": "2021-10-21T04:44:12.304891Z",
     "shell.execute_reply": "2021-10-21T04:44:12.305465Z"
    }
   },
   "outputs": [],
   "source": [
    "import csv\n",
    "\n",
    "# Modified from https://automatetheboringstuff.com/chapter14/\n",
    "def process_csv(filename):\n",
    "    example_file = open(filename, encoding=\"utf-8\")\n",
    "    example_reader = csv.reader(example_file)\n",
    "    example_data = list(example_reader)\n",
    "    example_file.close()\n",
    "    return example_data\n",
    "\n",
    "# Use process_csv to pull out the header and data rows\n",
    "csv_rows = process_csv(\"airbnb.csv\")\n",
    "csv_header = csv_rows[0] # A list of the column headers\n",
    "csv_data = csv_rows[1:] # The entire CSV data set besides the headers"
   ]
  },
  {
   "cell_type": "code",
   "execution_count": 3,
   "id": "798361a0",
   "metadata": {
    "execution": {
     "iopub.execute_input": "2021-10-21T04:44:12.314763Z",
     "iopub.status.busy": "2021-10-21T04:44:12.313594Z",
     "iopub.status.idle": "2021-10-21T04:44:12.316835Z",
     "shell.execute_reply": "2021-10-21T04:44:12.317212Z"
    },
    "scrolled": true
   },
   "outputs": [
    {
     "data": {
      "text/plain": [
       "['room_id',\n",
       " 'name',\n",
       " 'host_id',\n",
       " 'host_name',\n",
       " 'neighborhood_group',\n",
       " 'neighborhood',\n",
       " 'latitude',\n",
       " 'longitude',\n",
       " 'room_type',\n",
       " 'price',\n",
       " 'minimum_nights',\n",
       " 'number_of_reviews',\n",
       " 'last_review',\n",
       " 'reviews_per_month',\n",
       " 'calculated_host_listings_count',\n",
       " 'availability_365']"
      ]
     },
     "execution_count": 1,
     "metadata": {},
     "output_type": "execute_result"
    }
   ],
   "source": [
    "csv_header"
   ]
  },
  {
   "cell_type": "code",
   "execution_count": 4,
   "id": "024c0cb9",
   "metadata": {
    "execution": {
     "iopub.execute_input": "2021-10-21T04:44:12.321405Z",
     "iopub.status.busy": "2021-10-21T04:44:12.320664Z",
     "iopub.status.idle": "2021-10-21T04:44:12.323594Z",
     "shell.execute_reply": "2021-10-21T04:44:12.324141Z"
    }
   },
   "outputs": [
    {
     "data": {
      "text/plain": [
       "48895"
      ]
     },
     "execution_count": 1,
     "metadata": {},
     "output_type": "execute_result"
    }
   ],
   "source": [
    "len(csv_data)"
   ]
  },
  {
   "cell_type": "code",
   "execution_count": 5,
   "id": "7b9ea969",
   "metadata": {
    "execution": {
     "iopub.execute_input": "2021-10-21T04:44:12.328429Z",
     "iopub.status.busy": "2021-10-21T04:44:12.327782Z",
     "iopub.status.idle": "2021-10-21T04:44:12.330654Z",
     "shell.execute_reply": "2021-10-21T04:44:12.330253Z"
    }
   },
   "outputs": [
    {
     "data": {
      "text/plain": [
       "list"
      ]
     },
     "execution_count": 1,
     "metadata": {},
     "output_type": "execute_result"
    }
   ],
   "source": [
    "type(csv_data)"
   ]
  },
  {
   "cell_type": "code",
   "execution_count": 6,
   "id": "48e39a33",
   "metadata": {
    "execution": {
     "iopub.execute_input": "2021-10-21T04:44:12.335409Z",
     "iopub.status.busy": "2021-10-21T04:44:12.334850Z",
     "iopub.status.idle": "2021-10-21T04:44:12.336798Z",
     "shell.execute_reply": "2021-10-21T04:44:12.337185Z"
    }
   },
   "outputs": [],
   "source": [
    "def cell(row_idx, col_name):\n",
    "    col_idx = csv_header.index(col_name)\n",
    "    val = csv_data[row_idx][col_idx]\n",
    "    if val == \"\":\n",
    "        return None\n",
    "    if col_idx == csv_header.index(\"latitude\") or col_idx == csv_header.index(\"longitude\") or col_idx == csv_header.index(\"reviews_per_month\"):\n",
    "        return float(val)\n",
    "    elif col_idx == csv_header.index(\"price\") or col_idx == csv_header.index(\"minimum_nights\") or col_idx == csv_header.index(\"number_of_reviews\") or col_idx == csv_header.index(\"calculated_host_listings_count\") or col_idx == csv_header.index(\"availability_365\"):\n",
    "        return int(val)\n",
    "    # optional: convert types based on column name, \n",
    "    # ensuring that the float and int values are appropriately converted\n",
    "    return val"
   ]
  },
  {
   "cell_type": "code",
   "execution_count": 7,
   "id": "a9251a26",
   "metadata": {
    "execution": {
     "iopub.execute_input": "2021-10-21T04:44:12.424237Z",
     "iopub.status.busy": "2021-10-21T04:44:12.381109Z",
     "iopub.status.idle": "2021-10-21T04:44:12.449435Z",
     "shell.execute_reply": "2021-10-21T04:44:12.449816Z"
    },
    "scrolled": false
   },
   "outputs": [
    {
     "data": {
      "text/plain": [
       "['Staten Island', 'Queens', 'Bronx', 'Brooklyn', 'Manhattan']"
      ]
     },
     "execution_count": 1,
     "metadata": {},
     "output_type": "execute_result"
    }
   ],
   "source": [
    "#q1\n",
    "def neighbor_groups():\n",
    "    neighborhood_groups = []\n",
    "    for idx in range(len(csv_data)):\n",
    "        neighborhood_groups.append(cell(idx,\"neighborhood_group\"))\n",
    "    return list(set(neighborhood_groups))\n",
    "#TODO: remove duplicates from `neighborhood_groups`\n",
    "neighbor_groups()"
   ]
  },
  {
   "cell_type": "code",
   "execution_count": 8,
   "id": "a4dcac82",
   "metadata": {
    "execution": {
     "iopub.execute_input": "2021-10-21T04:44:12.532388Z",
     "iopub.status.busy": "2021-10-21T04:44:12.493885Z",
     "iopub.status.idle": "2021-10-21T04:44:12.535299Z",
     "shell.execute_reply": "2021-10-21T04:44:12.534799Z"
    }
   },
   "outputs": [
    {
     "data": {
      "text/plain": [
       "23"
      ]
     },
     "execution_count": 1,
     "metadata": {},
     "output_type": "execute_result"
    }
   ],
   "source": [
    "#q2\n",
    "def total_reviews():\n",
    "    total_reviews = 0\n",
    "    for i in range(len(csv_data)):\n",
    "        total_reviews += cell(i,\"number_of_reviews\")\n",
    "    average_reviews = int(total_reviews/len(csv_data))\n",
    "    return average_reviews\n",
    "total_reviews()"
   ]
  },
  {
   "cell_type": "code",
   "execution_count": 9,
   "id": "b5433b0b",
   "metadata": {
    "execution": {
     "iopub.execute_input": "2021-10-21T04:44:12.619013Z",
     "iopub.status.busy": "2021-10-21T04:44:12.578380Z",
     "iopub.status.idle": "2021-10-21T04:44:12.642536Z",
     "shell.execute_reply": "2021-10-21T04:44:12.642967Z"
    }
   },
   "outputs": [
    {
     "data": {
      "text/plain": [
       "358"
      ]
     },
     "execution_count": 1,
     "metadata": {},
     "output_type": "execute_result"
    }
   ],
   "source": [
    "#q3\n",
    "def neighborhood_soho():\n",
    "    neighborhood_soho = 0\n",
    "    for i in range(len(csv_data)):\n",
    "        if cell(i,\"neighborhood\") == \"SoHo\":\n",
    "            neighborhood_soho += 1\n",
    "    return neighborhood_soho\n",
    "neighborhood_soho()"
   ]
  },
  {
   "cell_type": "code",
   "execution_count": 10,
   "id": "1dc915a2",
   "metadata": {
    "execution": {
     "iopub.execute_input": "2021-10-21T04:44:12.728890Z",
     "iopub.status.busy": "2021-10-21T04:44:12.686692Z",
     "iopub.status.idle": "2021-10-21T04:44:12.848642Z",
     "shell.execute_reply": "2021-10-21T04:44:12.849025Z"
    }
   },
   "outputs": [
    {
     "data": {
      "text/plain": [
       "['The Epic: Right by MSG',\n",
       " 'Lavish 3 bedroom near Penn Station / MSG',\n",
       " 'Stately Midtown Studio w/ Doorman, Gym, near MSG by Blueground',\n",
       " 'Room Near Times Square/Javits/Hells Kitchen/MSG',\n",
       " 'Cheery Midtown 1BR w/ Doorman + Gym, near MSG by Blueground',\n",
       " 'Homey Hudson Yards w/ Gym + Doorman, near MSG by Blueground',\n",
       " 'Private Room With Kitchen Across From MSG',\n",
       " 'Accessible Two Bedded Suite With Kitchen near MSG',\n",
       " 'Two Beds in Private Room near Times Square and MSG',\n",
       " 'Private and Spacious Queen Room Across From MSG',\n",
       " 'Comfy Kips Bay 1BR w/ Gym, Doorman + Sundecks, walk to MSG by Blueground',\n",
       " 'A+ Chelsea Location! MSG, Javits, Penn!',\n",
       " 'Heart of Williamsburg living for 1-5 msg!',\n",
       " '3 Bedroom by MSG + Empire State',\n",
       " 'Next to Times Square/Javits/MSG! Amazing 1BR!']"
      ]
     },
     "execution_count": 1,
     "metadata": {},
     "output_type": "execute_result"
    }
   ],
   "source": [
    "#q4\n",
    "def find_room_names(contained):\n",
    "    name_list = []\n",
    "    for i in range(len(csv_data)):\n",
    "        if cell(i,\"name\") != None:\n",
    "            if cell(i,\"name\").lower().find(contained) != -1:\n",
    "                name_list.append(cell(i,\"name\"))\n",
    "    return name_list\n",
    "find_room_names(\"msg\")            \n",
    "    # TODO: create a list\n",
    "    # TODO: check if the room contains the `contained` parameter (case insensitive)\n",
    "    # TODO: add every unmodified room name to the return list\n",
    "    # TODO: return your list of room names"
   ]
  },
  {
   "cell_type": "code",
   "execution_count": 11,
   "id": "3e6baca6",
   "metadata": {
    "execution": {
     "iopub.execute_input": "2021-10-21T04:44:12.933052Z",
     "iopub.status.busy": "2021-10-21T04:44:12.891275Z",
     "iopub.status.idle": "2021-10-21T04:44:13.157448Z",
     "shell.execute_reply": "2021-10-21T04:44:13.157879Z"
    }
   },
   "outputs": [
    {
     "data": {
      "text/plain": [
       "['Sunny private room featured in film',\n",
       " \"Downtown Filmmaker's Loft by WTC\",\n",
       " 'HUGE LUX 2FLOOR 2 BDRMSOHO LOFTw/HOME CINEMA',\n",
       " 'Film Location',\n",
       " 'Brooklyn townhouse for filming',\n",
       " 'WoodyAllen FilmSet-Like Digs (Apt)',\n",
       " 'WoodyAllen FilmSet-Like Digs (Room)',\n",
       " 'Film / photography location in unique apartment',\n",
       " 'The Otheroom Bar/Event/Filming Space -read details',\n",
       " 'Victorian Film location',\n",
       " 'Modern Townhouse for Photo, Film &  Daytime Events',\n",
       " 'Cinema Studio on Duplex Apt.',\n",
       " 'Cool apartment in Brooklyn with free cinema & gym',\n",
       " 'Cinema + gym included with room',\n",
       " 'Shoot. Film. Sleep. Unique Loft Space in Brooklyn.',\n",
       " 'TV-PHOTO-FILM-CINEMA-ART GALLERY-MUSIC STUDIO-LOFT',\n",
       " 'Clean music/film themed bedroom',\n",
       " 'Music Recording Mixing Film Photography Art',\n",
       " 'Premium Chelsea 1BR w/ Gym, W/D, Doorman, Sundeck, Cinema, by Blueground',\n",
       " 'Stunning Chelsea 1BR w/ Gym, W/D, Doorman, Sundeck, Cinema, by Blueground']"
      ]
     },
     "execution_count": 1,
     "metadata": {},
     "output_type": "execute_result"
    }
   ],
   "source": [
    "#q5\n",
    "def find_room_names_or(word1,word2):\n",
    "    name_list = []\n",
    "    for i in range(len(csv_data)):\n",
    "        if cell(i,\"name\") != None:\n",
    "            if cell(i,\"name\").lower().find(word1) != -1 or cell(i,\"name\").lower().find(word2) != -1:\n",
    "                name_list.append(cell(i,\"name\"))\n",
    "    return name_list\n",
    "find_room_names_or(\"cinema\",\"film\")"
   ]
  },
  {
   "cell_type": "code",
   "execution_count": 12,
   "id": "d6e3c819",
   "metadata": {
    "execution": {
     "iopub.execute_input": "2021-10-21T04:44:13.245064Z",
     "iopub.status.busy": "2021-10-21T04:44:13.201591Z",
     "iopub.status.idle": "2021-10-21T04:44:13.396953Z",
     "shell.execute_reply": "2021-10-21T04:44:13.397337Z"
    }
   },
   "outputs": [
    {
     "data": {
      "text/plain": [
       "['Leisa', 'Elias', 'Elisa']"
      ]
     },
     "execution_count": 1,
     "metadata": {},
     "output_type": "execute_result"
    }
   ],
   "source": [
    "#q6\n",
    "def find_anagrams(word):\n",
    "    host_name_list = []\n",
    "    w = list(word.lower())\n",
    "    for i in range(len(csv_data)):\n",
    "        if cell(i,\"host_name\") != None:\n",
    "            l = list(cell(i,\"host_name\").lower())\n",
    "            if sorted(l) == sorted(w):\n",
    "                host_name_list.append(cell(i,\"host_name\"))\n",
    "    return list(set(host_name_list))\n",
    "find_anagrams(\"aisle\")"
   ]
  },
  {
   "cell_type": "code",
   "execution_count": 13,
   "id": "548cd5b7",
   "metadata": {
    "execution": {
     "iopub.execute_input": "2021-10-21T04:44:13.483309Z",
     "iopub.status.busy": "2021-10-21T04:44:13.441800Z",
     "iopub.status.idle": "2021-10-21T04:44:13.493574Z",
     "shell.execute_reply": "2021-10-21T04:44:13.493956Z"
    }
   },
   "outputs": [
    {
     "data": {
      "text/plain": [
       "['16276632',\n",
       " '18173787',\n",
       " '21550302',\n",
       " '22176831',\n",
       " '22750161',\n",
       " '28826608',\n",
       " '30423106',\n",
       " '31090222',\n",
       " '31249784',\n",
       " '32678719',\n",
       " '32678720']"
      ]
     },
     "execution_count": 1,
     "metadata": {},
     "output_type": "execute_result"
    }
   ],
   "source": [
    "#q7\n",
    "def review_number_15():\n",
    "    room_id_list = []\n",
    "    for i in range(len(csv_data)):\n",
    "        if cell(i,\"reviews_per_month\") != None:\n",
    "            if cell(i,\"reviews_per_month\") > 15:\n",
    "                room_id_list.append((cell(i,\"room_id\"))) \n",
    "    return room_id_list\n",
    "review_number_15()"
   ]
  },
  {
   "cell_type": "code",
   "execution_count": 14,
   "id": "d7e0a202",
   "metadata": {
    "execution": {
     "iopub.execute_input": "2021-10-21T04:44:13.581174Z",
     "iopub.status.busy": "2021-10-21T04:44:13.539197Z",
     "iopub.status.idle": "2021-10-21T04:44:13.695138Z",
     "shell.execute_reply": "2021-10-21T04:44:13.694665Z"
    }
   },
   "outputs": [
    {
     "data": {
      "text/plain": [
       "51.96645873811229"
      ]
     },
     "execution_count": 1,
     "metadata": {},
     "output_type": "execute_result"
    }
   ],
   "source": [
    "#q8\n",
    "def percent_home_apart():\n",
    "    room = 0\n",
    "    for i in range(len(csv_data)):\n",
    "        if cell(i,\"room_type\") != None:\n",
    "            if cell(i,\"room_type\") == \"Entire home/apt\":\n",
    "                room += 1\n",
    "    percent = 100 * (room / len(csv_data)) \n",
    "    return percent\n",
    "percent_home_apart()"
   ]
  },
  {
   "cell_type": "code",
   "execution_count": 15,
   "id": "a6e59023",
   "metadata": {
    "execution": {
     "iopub.execute_input": "2021-10-21T04:44:13.781465Z",
     "iopub.status.busy": "2021-10-21T04:44:13.738002Z",
     "iopub.status.idle": "2021-10-21T04:44:13.897347Z",
     "shell.execute_reply": "2021-10-21T04:44:13.896894Z"
    }
   },
   "outputs": [
    {
     "data": {
      "text/plain": [
       "['712136',\n",
       " '738588',\n",
       " '826307',\n",
       " '1598033',\n",
       " '2794725',\n",
       " '8253376',\n",
       " '9045427',\n",
       " '12914239',\n",
       " '15949915',\n",
       " '15988392',\n",
       " '17475711']"
      ]
     },
     "execution_count": 1,
     "metadata": {},
     "output_type": "execute_result"
    }
   ],
   "source": [
    "#q9\n",
    "def get_year(date):\n",
    "    if date != None:\n",
    "        return int(date[:4])\n",
    "\n",
    "def room_ids_review():\n",
    "    id_list = []\n",
    "    for i in range(len(csv_data)):\n",
    "        if cell(i,\"neighborhood_group\") != None:\n",
    "            if cell(i,\"neighborhood_group\") == \"Staten Island\" and cell(i,\"last_review\") != None:\n",
    "                if get_year(cell(i,\"last_review\")) == 2017 or get_year(cell(i,\"last_review\")) < 2017:\n",
    "                    id_list.append(cell(i,\"room_id\"))\n",
    "    return id_list\n",
    "room_ids_review()"
   ]
  },
  {
   "cell_type": "code",
   "execution_count": 16,
   "id": "8542d033",
   "metadata": {
    "execution": {
     "iopub.execute_input": "2021-10-21T04:44:13.987527Z",
     "iopub.status.busy": "2021-10-21T04:44:13.943008Z",
     "iopub.status.idle": "2021-10-21T04:44:14.198939Z",
     "shell.execute_reply": "2021-10-21T04:44:14.199422Z"
    }
   },
   "outputs": [
    {
     "data": {
      "text/plain": [
       "[360, 353, 348, 333, 321, 308, 264, 106, 15, 0]"
      ]
     },
     "execution_count": 1,
     "metadata": {},
     "output_type": "execute_result"
    }
   ],
   "source": [
    "#q10\n",
    "def availability_per_host_name(host_name, neighborhood_group=None):\n",
    "    availability_list = []\n",
    "    for i in range(len(csv_data)):\n",
    "        if cell(i,\"availability_365\") != None and cell(i,\"host_name\") != None:\n",
    "            if cell(i,\"host_name\").lower() == host_name.lower() and cell(i,\"neighborhood_group\") == neighborhood_group:\n",
    "                availability_list.append(cell(i,\"availability_365\"))\n",
    "    return sorted(list(set(availability_list)), reverse = True)\n",
    "availability_per_host_name(\"Stanley\", \"Brooklyn\")\n",
    "    # TODO: create a list\n",
    "    # TODO: add every availability matching the host_name and neighborhood_group to the list as an int\n",
    "    # TODO: return your list of availabilities"
   ]
  },
  {
   "cell_type": "code",
   "execution_count": 17,
   "id": "ec679373",
   "metadata": {
    "execution": {
     "iopub.execute_input": "2021-10-21T04:44:14.287238Z",
     "iopub.status.busy": "2021-10-21T04:44:14.245050Z",
     "iopub.status.idle": "2021-10-21T04:44:14.804999Z",
     "shell.execute_reply": "2021-10-21T04:44:14.805459Z"
    }
   },
   "outputs": [
    {
     "data": {
      "text/plain": [
       "253"
      ]
     },
     "execution_count": 1,
     "metadata": {},
     "output_type": "execute_result"
    }
   ],
   "source": [
    "#q11\n",
    "def availability_per_host_name_total(host_name):\n",
    "    availability_list = []\n",
    "    for i in range(len(csv_data)):\n",
    "        if cell(i,\"availability_365\") != None and cell(i,\"host_name\") != None:\n",
    "            if cell(i,\"host_name\").lower() == host_name.lower():\n",
    "                availability_list.append(cell(i,\"availability_365\"))\n",
    "    return sorted(list(set(availability_list)), reverse = True)\n",
    "\n",
    "def difference():\n",
    "    largest = availability_per_host_name_total(\"helena\")[0]\n",
    "    smallest = availability_per_host_name_total(\"helena\")[-1]\n",
    "    return largest-smallest\n",
    "\n",
    "difference()"
   ]
  },
  {
   "cell_type": "code",
   "execution_count": 18,
   "id": "cd7e725a",
   "metadata": {
    "execution": {
     "iopub.execute_input": "2021-10-21T04:44:14.890882Z",
     "iopub.status.busy": "2021-10-21T04:44:14.849324Z",
     "iopub.status.idle": "2021-10-21T04:44:14.968047Z",
     "shell.execute_reply": "2021-10-21T04:44:14.968401Z"
    }
   },
   "outputs": [
    {
     "data": {
      "text/plain": [
       "169.4356387798248"
      ]
     },
     "execution_count": 1,
     "metadata": {},
     "output_type": "execute_result"
    }
   ],
   "source": [
    "#q12\n",
    "def find_prices_within(lat_min, lat_max, long_min, long_max):\n",
    "    price_list = []\n",
    "    am = float(lat_min)\n",
    "    ax = float(lat_max)\n",
    "    om = float(long_min)\n",
    "    ox = float(long_max)\n",
    "    for i in range(len(csv_data)):\n",
    "        if am <= cell(i,\"latitude\") <= ax and om <= cell(i,\"longitude\") <= ox:\n",
    "            price_list.append(cell(i,\"price\"))\n",
    "    return price_list\n",
    "\n",
    "def total_price(lat_min, lat_max, long_min, long_max):\n",
    "    total = 0\n",
    "    alist = find_prices_within(lat_min, lat_max, long_min, long_max)\n",
    "    for i in range(len(alist)):\n",
    "        total += alist[i]\n",
    "    return total\n",
    "total_price(40.50,40.75,-74.00,-73.95)/len(find_prices_within(40.50,40.75,-74.00,-73.95))"
   ]
  },
  {
   "cell_type": "code",
   "execution_count": 19,
   "id": "9ea979a9",
   "metadata": {
    "execution": {
     "iopub.execute_input": "2021-10-21T04:44:15.027146Z",
     "iopub.status.busy": "2021-10-21T04:44:15.014373Z",
     "iopub.status.idle": "2021-10-21T04:44:15.030571Z",
     "shell.execute_reply": "2021-10-21T04:44:15.030980Z"
    }
   },
   "outputs": [
    {
     "data": {
      "text/plain": [
       "10000"
      ]
     },
     "execution_count": 1,
     "metadata": {},
     "output_type": "execute_result"
    }
   ],
   "source": [
    "#q13\n",
    "sorted(find_prices_within(40.75,41.00,-73.95,-73.85),reverse = True)[0]"
   ]
  },
  {
   "cell_type": "code",
   "execution_count": 20,
   "id": "d0e7b0ed",
   "metadata": {
    "execution": {
     "iopub.execute_input": "2021-10-21T04:44:15.116816Z",
     "iopub.status.busy": "2021-10-21T04:44:15.074248Z",
     "iopub.status.idle": "2021-10-21T04:44:15.289352Z",
     "shell.execute_reply": "2021-10-21T04:44:15.290110Z"
    }
   },
   "outputs": [
    {
     "data": {
      "text/plain": [
       "45.27971221694415"
      ]
     },
     "execution_count": 1,
     "metadata": {},
     "output_type": "execute_result"
    }
   ],
   "source": [
    "#q14\n",
    "def less_than_100():\n",
    "    a = sorted(find_prices_within(40.50,41.00,-74.00,-73.85))\n",
    "    num = 0\n",
    "    for i in range(len(a)):\n",
    "        if a[i] < 100:\n",
    "            num += 1\n",
    "    return num\n",
    "less_than_100() / len(find_prices_within(40.50,41.00,-74.00,-73.85)) * 100"
   ]
  },
  {
   "cell_type": "code",
   "execution_count": 21,
   "id": "e87b9386",
   "metadata": {
    "execution": {
     "iopub.execute_input": "2021-10-21T04:44:15.379425Z",
     "iopub.status.busy": "2021-10-21T04:44:15.336313Z",
     "iopub.status.idle": "2021-10-21T04:44:15.515052Z",
     "shell.execute_reply": "2021-10-21T04:44:15.515442Z"
    }
   },
   "outputs": [
    {
     "data": {
      "text/plain": [
       "0.27323293295076073"
      ]
     },
     "execution_count": 1,
     "metadata": {},
     "output_type": "execute_result"
    }
   ],
   "source": [
    "#q15\n",
    "def ratio_num_review_to_avail(neighborhood):\n",
    "    total_num_to_avail = 0\n",
    "    count = 0\n",
    "    for i in range(len(csv_data)):\n",
    "        if cell(i,\"availability_365\") != 0 and cell(i,\"number_of_reviews\") != None:\n",
    "            if cell(i,\"neighborhood\") == neighborhood:\n",
    "                total_num_to_avail += (cell(i,\"number_of_reviews\")/cell(i,\"availability_365\"))\n",
    "                count += 1\n",
    "    return total_num_to_avail/count\n",
    "ratio_num_review_to_avail(\"Manhattan Beach\")"
   ]
  },
  {
   "cell_type": "code",
   "execution_count": 22,
   "id": "4c026a01",
   "metadata": {
    "execution": {
     "iopub.execute_input": "2021-10-21T04:44:15.600370Z",
     "iopub.status.busy": "2021-10-21T04:44:15.559996Z",
     "iopub.status.idle": "2021-10-21T04:44:15.740730Z",
     "shell.execute_reply": "2021-10-21T04:44:15.741157Z"
    }
   },
   "outputs": [
    {
     "data": {
      "text/plain": [
       "0.04373233413721522"
      ]
     },
     "execution_count": 1,
     "metadata": {},
     "output_type": "execute_result"
    }
   ],
   "source": [
    "#q16\n",
    "ratio_num_review_to_avail(\"Riverdale\")"
   ]
  },
  {
   "cell_type": "code",
   "execution_count": 23,
   "id": "8b7f56a3",
   "metadata": {
    "execution": {
     "iopub.execute_input": "2021-10-21T04:44:15.828613Z",
     "iopub.status.busy": "2021-10-21T04:44:15.787158Z",
     "iopub.status.idle": "2021-10-21T04:44:28.073074Z",
     "shell.execute_reply": "2021-10-21T04:44:28.073541Z"
    }
   },
   "outputs": [
    {
     "data": {
      "text/plain": [
       "'Fresh Meadows'"
      ]
     },
     "execution_count": 1,
     "metadata": {},
     "output_type": "execute_result"
    }
   ],
   "source": [
    "#q17\n",
    "def neighborhood(neighborhood_group):\n",
    "    hood_list = []\n",
    "    for i in range(len(csv_data)):\n",
    "        if cell(i,\"neighborhood_group\") == neighborhood_group:\n",
    "            hood_list.append(cell(i,\"neighborhood\"))\n",
    "    return list(set(hood_list))\n",
    "def highest_ava_ratio():\n",
    "    list_queens = neighborhood(\"Queens\")\n",
    "    max_ratio = 0\n",
    "    max_name = None\n",
    "    for i in range(len(list_queens)):\n",
    "        if ratio_num_review_to_avail(list_queens[i]) > max_ratio:\n",
    "            max_ratio = ratio_num_review_to_avail(list_queens[i])\n",
    "            max_name = list_queens[i]\n",
    "    return max_name\n",
    "highest_ava_ratio()"
   ]
  },
  {
   "cell_type": "code",
   "execution_count": 24,
   "id": "723f22bf",
   "metadata": {
    "execution": {
     "iopub.execute_input": "2021-10-21T04:44:28.163752Z",
     "iopub.status.busy": "2021-10-21T04:44:28.118702Z",
     "iopub.status.idle": "2021-10-21T04:44:28.492932Z",
     "shell.execute_reply": "2021-10-21T04:44:28.493327Z"
    }
   },
   "outputs": [
    {
     "data": {
      "text/plain": [
       "3.9522598317354727"
      ]
     },
     "execution_count": 1,
     "metadata": {},
     "output_type": "execute_result"
    }
   ],
   "source": [
    "#q18\n",
    "def secondary_word_in_found_rooms(find_room_word, secondary_word):\n",
    "    name_list = []\n",
    "    for i in range(len(csv_data)):\n",
    "        if cell(i,\"name\") != None:\n",
    "            if cell(i,\"name\").lower().find(find_room_word) != -1:\n",
    "                if cell(i,\"name\").lower().find(secondary_word) != -1:\n",
    "                    name_list.append(cell(i,\"name\"))\n",
    "    return len(name_list)\n",
    "secondary_word_in_found_rooms(\"cozy\",\"home\") / len(find_room_names(\"cozy\")) * 100"
   ]
  },
  {
   "cell_type": "code",
   "execution_count": 25,
   "id": "01dfb091",
   "metadata": {
    "execution": {
     "iopub.execute_input": "2021-10-21T04:44:28.583171Z",
     "iopub.status.busy": "2021-10-21T04:44:28.539092Z",
     "iopub.status.idle": "2021-10-21T04:44:28.886387Z",
     "shell.execute_reply": "2021-10-21T04:44:28.886767Z"
    }
   },
   "outputs": [
    {
     "data": {
      "text/plain": [
       "48.92086330935252"
      ]
     },
     "execution_count": 1,
     "metadata": {},
     "output_type": "execute_result"
    }
   ],
   "source": [
    "#q19\n",
    "secondary_word_in_found_rooms(\"pool\",\"gym\") / len(find_room_names(\"pool\")) * 100"
   ]
  },
  {
   "cell_type": "code",
   "execution_count": 26,
   "id": "b1a8ba58",
   "metadata": {
    "execution": {
     "iopub.execute_input": "2021-10-21T04:44:28.975500Z",
     "iopub.status.busy": "2021-10-21T04:44:28.931027Z",
     "iopub.status.idle": "2021-10-21T04:44:29.242425Z",
     "shell.execute_reply": "2021-10-21T04:44:29.242020Z"
    }
   },
   "outputs": [
    {
     "data": {
      "text/plain": [
       "175"
      ]
     },
     "execution_count": 1,
     "metadata": {},
     "output_type": "execute_result"
    }
   ],
   "source": [
    "#q20\n",
    "def lowest_price(neighborhood_group,nights):\n",
    "    min_money = 0\n",
    "    for i in range(len(csv_data)):\n",
    "        if cell(i,\"neighborhood_group\") == neighborhood_group:\n",
    "            if cell(i,\"availability_365\") != None and cell(i,\"minimum_nights\") != None:\n",
    "                if cell(i,\"availability_365\") >= int(nights) and cell(i,\"minimum_nights\") <= int(nights):\n",
    "                    if min_money == 0 or cell(i,\"price\") < min_money:\n",
    "                        min_money = cell(i, \"price\")\n",
    "    return min_money\n",
    "def total_cost():\n",
    "    man = lowest_price(\"Manhattan\", \"10\")\n",
    "    sta = lowest_price(\"Staten Island\", \"5\")\n",
    "    return (man * 10) + (sta * 5)\n",
    "total_cost()"
   ]
  }
 ],
 "metadata": {
  "kernelspec": {
   "display_name": "Python 3",
   "language": "python",
   "name": "python3"
  },
  "language_info": {
   "codemirror_mode": {
    "name": "ipython",
    "version": 3
   },
   "file_extension": ".py",
   "mimetype": "text/x-python",
   "name": "python",
   "nbconvert_exporter": "python",
   "pygments_lexer": "ipython3",
   "version": "3.8.8"
  }
 },
 "nbformat": 4,
 "nbformat_minor": 5
}
