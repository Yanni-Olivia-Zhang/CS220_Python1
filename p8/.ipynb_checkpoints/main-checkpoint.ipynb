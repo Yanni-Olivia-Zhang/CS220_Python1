{
 "cells": [
  {
   "cell_type": "code",
   "execution_count": 1,
   "id": "b110e25c",
   "metadata": {},
   "outputs": [],
   "source": [
    "# project: p8\n",
    "# submitter: yzhang2232\n",
    "# partner: none\n",
    "# hours: 3 hours"
   ]
  },
  {
   "cell_type": "code",
   "execution_count": 2,
   "id": "388eef0a",
   "metadata": {},
   "outputs": [
    {
     "data": {
      "text/plain": [
       "[['title', 'year', 'genres', 'duration', 'directors', 'actors', 'rating'],\n",
       " ['tt1950186',\n",
       "  '2019',\n",
       "  'Action, Biography, Drama',\n",
       "  '152',\n",
       "  'nm0003506',\n",
       "  'nm0000354, nm0000288, nm1256532',\n",
       "  '8.1'],\n",
       " ['tt2267998',\n",
       "  '2014',\n",
       "  'Drama, Mystery, Thriller',\n",
       "  '149',\n",
       "  'nm0000399',\n",
       "  'nm0000255, nm0683253',\n",
       "  '8.1']]"
      ]
     },
     "execution_count": 2,
     "metadata": {},
     "output_type": "execute_result"
    }
   ],
   "source": [
    "import csv\n",
    "import copy\n",
    "\n",
    "# Modified from https://automatetheboringstuff.com/chapter14/\n",
    "def process_csv(filename):\n",
    "    example_file = open(filename, encoding=\"utf-8\")\n",
    "    example_reader = csv.reader(example_file)\n",
    "    example_data = list(example_reader)\n",
    "    example_file.close()\n",
    "    return example_data\n",
    "process_csv(\"small_movies.csv\")"
   ]
  },
  {
   "cell_type": "code",
   "execution_count": 3,
   "id": "2afc132c",
   "metadata": {},
   "outputs": [
    {
     "data": {
      "text/plain": [
       "{'tt1950186': 'Ford v Ferrari',\n",
       " 'tt2267998': 'Gone Girl',\n",
       " 'nm0000255': 'Ben Affleck',\n",
       " 'nm0003506': 'James Mangold',\n",
       " 'nm0000354': 'Matt Damon',\n",
       " 'nm1256532': 'Jon Bernthal',\n",
       " 'nm0683253': 'Rosamund Pike',\n",
       " 'nm0000288': 'Christian Bale',\n",
       " 'nm0000399': 'David Fincher'}"
      ]
     },
     "execution_count": 3,
     "metadata": {},
     "output_type": "execute_result"
    }
   ],
   "source": [
    "def get_mapping(path):\n",
    "    csv_data = process_csv(path) # you can use this function from p7\n",
    "    mapping_dict = {}\n",
    "    for data in csv_data:\n",
    "        key = data[0]\n",
    "        value = data[1]\n",
    "        mapping_dict[key] = value\n",
    "    return mapping_dict\n",
    "\n",
    "mapping = get_mapping(\"small_mapping.csv\")\n",
    "mapping\n",
    "    # TODO: make a dictionary where keys are the ID's and values are the names"
   ]
  },
  {
   "cell_type": "code",
   "execution_count": 4,
   "id": "60618503",
   "metadata": {},
   "outputs": [
    {
     "data": {
      "text/plain": [
       "{'tt1950186': 'Ford v Ferrari',\n",
       " 'tt2267998': 'Gone Girl',\n",
       " 'nm0000255': 'Ben Affleck',\n",
       " 'nm0003506': 'James Mangold',\n",
       " 'nm0000354': 'Matt Damon',\n",
       " 'nm1256532': 'Jon Bernthal',\n",
       " 'nm0683253': 'Rosamund Pike',\n",
       " 'nm0000288': 'Christian Bale',\n",
       " 'nm0000399': 'David Fincher'}"
      ]
     },
     "execution_count": 4,
     "metadata": {},
     "output_type": "execute_result"
    }
   ],
   "source": [
    "#q1\n",
    "mapping = get_mapping(\"small_mapping.csv\")\n",
    "mapping"
   ]
  },
  {
   "cell_type": "code",
   "execution_count": 5,
   "id": "f08611be",
   "metadata": {},
   "outputs": [
    {
     "data": {
      "text/plain": [
       "'Christian Bale'"
      ]
     },
     "execution_count": 5,
     "metadata": {},
     "output_type": "execute_result"
    }
   ],
   "source": [
    "#q2\n",
    "mapping[\"nm0000288\"]"
   ]
  },
  {
   "cell_type": "code",
   "execution_count": 6,
   "id": "cc7d997f",
   "metadata": {},
   "outputs": [
    {
     "data": {
      "text/plain": [
       "['Ben Affleck',\n",
       " 'James Mangold',\n",
       " 'Matt Damon',\n",
       " 'Jon Bernthal',\n",
       " 'Rosamund Pike',\n",
       " 'Christian Bale',\n",
       " 'David Fincher']"
      ]
     },
     "execution_count": 6,
     "metadata": {},
     "output_type": "execute_result"
    }
   ],
   "source": [
    "#q3\n",
    "keys_with_nm = []\n",
    "for val in mapping:\n",
    "    if val.startswith(\"nm\"):\n",
    "        keys_with_nm.append(mapping[val])\n",
    "keys_with_nm"
   ]
  },
  {
   "cell_type": "code",
   "execution_count": 7,
   "id": "96c0623c",
   "metadata": {},
   "outputs": [
    {
     "data": {
      "text/plain": [
       "['nm0683253']"
      ]
     },
     "execution_count": 7,
     "metadata": {},
     "output_type": "execute_result"
    }
   ],
   "source": [
    "#q4\n",
    "last_name_pike = []\n",
    "for val in mapping:\n",
    "    if val.startswith(\"nm\"):\n",
    "        if mapping[val].lower().endswith(\"pike\"):\n",
    "            last_name_pike.append(val)\n",
    "last_name_pike"
   ]
  },
  {
   "cell_type": "code",
   "execution_count": 8,
   "id": "2166745b",
   "metadata": {},
   "outputs": [],
   "source": [
    "def get_raw_movies(path):\n",
    "    csv_data = process_csv(path)[1:]\n",
    "    movie_list = []\n",
    "    for data in csv_data:\n",
    "        movie_dict = {}\n",
    "        movie_dict['title'] = data[0]\n",
    "        movie_dict['year'] = int(data[1])\n",
    "        movie_dict['genres'] = data[2].split(\", \")\n",
    "        movie_dict['duration'] = int(data[3])\n",
    "        movie_dict['directors'] = data[4].split(\", \")\n",
    "        movie_dict['actors'] = data[5].split(\", \")\n",
    "        movie_dict['rating'] = float(data[6])\n",
    "        movie_list.append(movie_dict)\n",
    "    return movie_list"
   ]
  },
  {
   "cell_type": "code",
   "execution_count": 9,
   "id": "bc5ab572",
   "metadata": {},
   "outputs": [
    {
     "data": {
      "text/plain": [
       "[{'title': 'tt1950186',\n",
       "  'year': 2019,\n",
       "  'genres': ['Action', 'Biography', 'Drama'],\n",
       "  'duration': 152,\n",
       "  'directors': ['nm0003506'],\n",
       "  'actors': ['nm0000354', 'nm0000288', 'nm1256532'],\n",
       "  'rating': 8.1},\n",
       " {'title': 'tt2267998',\n",
       "  'year': 2014,\n",
       "  'genres': ['Drama', 'Mystery', 'Thriller'],\n",
       "  'duration': 149,\n",
       "  'directors': ['nm0000399'],\n",
       "  'actors': ['nm0000255', 'nm0683253'],\n",
       "  'rating': 8.1}]"
      ]
     },
     "execution_count": 9,
     "metadata": {},
     "output_type": "execute_result"
    }
   ],
   "source": [
    "#q5\n",
    "raw_movies = get_raw_movies(\"small_movies.csv\")\n",
    "raw_movies"
   ]
  },
  {
   "cell_type": "code",
   "execution_count": 10,
   "id": "d9b34aff",
   "metadata": {},
   "outputs": [
    {
     "data": {
      "text/plain": [
       "2"
      ]
     },
     "execution_count": 10,
     "metadata": {},
     "output_type": "execute_result"
    }
   ],
   "source": [
    "#q6\n",
    "len(raw_movies[1][\"actors\"])"
   ]
  },
  {
   "cell_type": "code",
   "execution_count": 11,
   "id": "7f115008",
   "metadata": {},
   "outputs": [
    {
     "data": {
      "text/plain": [
       "'nm0000354'"
      ]
     },
     "execution_count": 11,
     "metadata": {},
     "output_type": "execute_result"
    }
   ],
   "source": [
    "#q7\n",
    "raw_movies[0][\"actors\"][0]"
   ]
  },
  {
   "cell_type": "code",
   "execution_count": 12,
   "id": "b3947801",
   "metadata": {},
   "outputs": [
    {
     "data": {
      "text/plain": [
       "[{'title': 'Ford v Ferrari',\n",
       "  'year': 2019,\n",
       "  'genres': ['Action', 'Biography', 'Drama'],\n",
       "  'duration': 152,\n",
       "  'directors': ['James Mangold'],\n",
       "  'actors': ['Matt Damon', 'Christian Bale', 'Jon Bernthal'],\n",
       "  'rating': 8.1},\n",
       " {'title': 'Gone Girl',\n",
       "  'year': 2014,\n",
       "  'genres': ['Drama', 'Mystery', 'Thriller'],\n",
       "  'duration': 149,\n",
       "  'directors': ['David Fincher'],\n",
       "  'actors': ['Ben Affleck', 'Rosamund Pike'],\n",
       "  'rating': 8.1}]"
      ]
     },
     "execution_count": 12,
     "metadata": {},
     "output_type": "execute_result"
    }
   ],
   "source": [
    "#q8\n",
    "def get_movies(movies_path, mapping_path):\n",
    "    movie_list = get_raw_movies(movies_path)\n",
    "    mapping_dict = get_mapping(mapping_path)\n",
    "    for data in movie_list:\n",
    "        title = data[\"title\"]\n",
    "        director = data[\"directors\"]\n",
    "        actor = data[\"actors\"]\n",
    "        if title in mapping_dict:\n",
    "            data[\"title\"] = mapping_dict[title]\n",
    "        for i in range(len(director)):\n",
    "            if director[i] in mapping_dict:\n",
    "                director[i] = mapping_dict[director[i]]\n",
    "        for j in range(len(actor)):\n",
    "            if actor[j] in mapping_dict:\n",
    "                actor[j] = mapping_dict[actor[j]]\n",
    "    return movie_list\n",
    "\n",
    "small_data = get_movies(\"small_movies.csv\", \"small_mapping.csv\")\n",
    "small_data"
   ]
  },
  {
   "cell_type": "code",
   "execution_count": 13,
   "id": "3d519f75",
   "metadata": {},
   "outputs": [
    {
     "data": {
      "text/plain": [
       "'Gone Girl'"
      ]
     },
     "execution_count": 13,
     "metadata": {},
     "output_type": "execute_result"
    }
   ],
   "source": [
    "#q9\n",
    "small_data[1][\"title\"]"
   ]
  },
  {
   "cell_type": "code",
   "execution_count": 14,
   "id": "1b081ff8",
   "metadata": {},
   "outputs": [
    {
     "data": {
      "text/plain": [
       "['Matt Damon', 'Christian Bale', 'Jon Bernthal']"
      ]
     },
     "execution_count": 14,
     "metadata": {},
     "output_type": "execute_result"
    }
   ],
   "source": [
    "#q10\n",
    "small_data[0][\"actors\"]"
   ]
  },
  {
   "cell_type": "code",
   "execution_count": 15,
   "id": "3ebe9b37",
   "metadata": {},
   "outputs": [
    {
     "data": {
      "text/plain": [
       "['David Fincher']"
      ]
     },
     "execution_count": 15,
     "metadata": {},
     "output_type": "execute_result"
    }
   ],
   "source": [
    "#q11\n",
    "small_data[-1][\"directors\"]"
   ]
  },
  {
   "cell_type": "code",
   "execution_count": 16,
   "id": "dc66f8dd",
   "metadata": {},
   "outputs": [],
   "source": [
    "movies = get_movies(\"movies.csv\", \"mapping.csv\")"
   ]
  },
  {
   "cell_type": "code",
   "execution_count": 17,
   "id": "d0983b2c",
   "metadata": {},
   "outputs": [
    {
     "data": {
      "text/plain": [
       "[{'title': 'Ambassador Bill',\n",
       "  'year': 1931,\n",
       "  'genres': ['Comedy'],\n",
       "  'duration': 70,\n",
       "  'directors': ['Sam Taylor'],\n",
       "  'actors': ['Will Rogers',\n",
       "   'Marguerite Churchill',\n",
       "   'Greta Nissen',\n",
       "   'Tad Alexander'],\n",
       "  'rating': 6.2},\n",
       " {'title': 'The Etruscan Smile',\n",
       "  'year': 2018,\n",
       "  'genres': ['Drama'],\n",
       "  'duration': 107,\n",
       "  'directors': ['Oded Binnun', 'Mihal Brezis'],\n",
       "  'actors': ['Brian Cox', 'JJ Feild', 'Thora Birch', 'Rosanna Arquette'],\n",
       "  'rating': 6.8},\n",
       " {'title': 'In Old Oklahoma',\n",
       "  'year': 1943,\n",
       "  'genres': ['Romance', 'Western'],\n",
       "  'duration': 102,\n",
       "  'directors': ['Albert S. Rogell'],\n",
       "  'actors': ['John Wayne',\n",
       "   'Martha Scott',\n",
       "   'Albert Dekker',\n",
       "   \"George 'Gabby' Hayes\",\n",
       "   'Marjorie Rambeau'],\n",
       "  'rating': 6.5}]"
      ]
     },
     "execution_count": 17,
     "metadata": {},
     "output_type": "execute_result"
    }
   ],
   "source": [
    "#q12\n",
    "movies[2017:2020]"
   ]
  },
  {
   "cell_type": "code",
   "execution_count": 18,
   "id": "7fd49489",
   "metadata": {},
   "outputs": [
    {
     "data": {
      "text/plain": [
       "[{'title': 'Battle Bots',\n",
       "  'year': 2018,\n",
       "  'genres': ['Action', 'Adventure', 'Sci-Fi'],\n",
       "  'duration': 67,\n",
       "  'directors': ['Mark Polonia'],\n",
       "  'actors': ['Danielle Donahue', 'Jeff Kirkendall', 'Marie DeLorenzo'],\n",
       "  'rating': 1.9},\n",
       " {'title': 'Inescapable',\n",
       "  'year': 2003,\n",
       "  'genres': ['Drama'],\n",
       "  'duration': 82,\n",
       "  'directors': ['Helen Lesnick'],\n",
       "  'actors': ['Natalie Anderson', 'Tanna Frederick', 'Athena Demos'],\n",
       "  'rating': 4.2}]"
      ]
     },
     "execution_count": 18,
     "metadata": {},
     "output_type": "execute_result"
    }
   ],
   "source": [
    "#q13\n",
    "movies[-2:]"
   ]
  },
  {
   "cell_type": "code",
   "execution_count": 19,
   "id": "be0de431",
   "metadata": {},
   "outputs": [],
   "source": [
    "# You are *not* allowed to change this function\n",
    "\n",
    "def search_bar(movies, keyword):\n",
    "    '''given a list of movie dictionaries and a keyword, \n",
    "    returns a list of movies that contains the keyword'''\n",
    "    idx = 0\n",
    "    while idx < len(movies):\n",
    "        movie = movies[idx]\n",
    "        if (keyword not in movie['title']) and (keyword not in movie[\"genres\"]) and  (keyword not in movie[\"directors\"]) and (keyword not in movie[\"actors\"]):\n",
    "            movies.pop(idx)\n",
    "        else:\n",
    "            idx += 1\n",
    "    return movies"
   ]
  },
  {
   "cell_type": "code",
   "execution_count": 20,
   "id": "781c93aa",
   "metadata": {},
   "outputs": [
    {
     "data": {
      "text/plain": [
       "[{'title': 'Harry Potter and the Deathly Hallows: Part 1',\n",
       "  'year': 2010,\n",
       "  'genres': ['Adventure', 'Family', 'Fantasy'],\n",
       "  'duration': 146,\n",
       "  'directors': ['David Yates'],\n",
       "  'actors': ['Bill Nighy', 'Emma Watson', 'Richard Griffiths'],\n",
       "  'rating': 7.7},\n",
       " {'title': 'Harry Potter and the Chamber of Secrets',\n",
       "  'year': 2002,\n",
       "  'genres': ['Adventure', 'Family', 'Fantasy'],\n",
       "  'duration': 161,\n",
       "  'directors': ['Chris Columbus'],\n",
       "  'actors': ['Daniel Radcliffe', 'Rupert Grint', 'Emma Watson'],\n",
       "  'rating': 7.4},\n",
       " {'title': 'Harry Potter and the Deathly Hallows: Part 2',\n",
       "  'year': 2011,\n",
       "  'genres': ['Adventure', 'Drama', 'Fantasy'],\n",
       "  'duration': 130,\n",
       "  'directors': ['David Yates'],\n",
       "  'actors': ['Ralph Fiennes', 'Michael Gambon'],\n",
       "  'rating': 8.1},\n",
       " {'title': 'Harry Potter and the Half-Blood Prince',\n",
       "  'year': 2009,\n",
       "  'genres': ['Action', 'Adventure', 'Family'],\n",
       "  'duration': 153,\n",
       "  'directors': ['David Yates'],\n",
       "  'actors': ['Daniel Radcliffe', 'Michael Gambon', 'Dave Legeno'],\n",
       "  'rating': 7.6},\n",
       " {'title': 'Harry Potter and the Prisoner of Azkaban',\n",
       "  'year': 2004,\n",
       "  'genres': ['Adventure', 'Family', 'Fantasy'],\n",
       "  'duration': 142,\n",
       "  'directors': ['Alfonso Cuarón'],\n",
       "  'actors': ['Daniel Radcliffe', 'Richard Griffiths', 'Pam Ferris'],\n",
       "  'rating': 7.9},\n",
       " {'title': 'Harry Potter and the Order of the Phoenix',\n",
       "  'year': 2007,\n",
       "  'genres': ['Action', 'Adventure', 'Family'],\n",
       "  'duration': 138,\n",
       "  'directors': ['David Yates'],\n",
       "  'actors': ['Daniel Radcliffe', 'Harry Melling'],\n",
       "  'rating': 7.5},\n",
       " {'title': 'Harry Potter and the Goblet of Fire',\n",
       "  'year': 2005,\n",
       "  'genres': ['Adventure', 'Family', 'Fantasy'],\n",
       "  'duration': 157,\n",
       "  'directors': ['Mike Newell'],\n",
       "  'actors': ['Eric Sykes',\n",
       "   'Timothy Spall',\n",
       "   'David Tennant',\n",
       "   'Daniel Radcliffe',\n",
       "   'Emma Watson'],\n",
       "  'rating': 7.7},\n",
       " {'title': \"Harry Potter and the Sorcerer's Stone\",\n",
       "  'year': 2001,\n",
       "  'genres': ['Adventure', 'Family', 'Fantasy'],\n",
       "  'duration': 152,\n",
       "  'directors': ['Chris Columbus'],\n",
       "  'actors': ['Richard Harris',\n",
       "   'Maggie Smith',\n",
       "   'Robbie Coltrane',\n",
       "   'Daniel Radcliffe',\n",
       "   'Fiona Shaw'],\n",
       "  'rating': 7.6}]"
      ]
     },
     "execution_count": 20,
     "metadata": {},
     "output_type": "execute_result"
    }
   ],
   "source": [
    "#q14\n",
    "movies_list_1 = copy.deepcopy(movies)\n",
    "search_bar(movies_list_1, \"Harry Potter\")"
   ]
  },
  {
   "cell_type": "code",
   "execution_count": 21,
   "id": "712fb3cd",
   "metadata": {},
   "outputs": [
    {
     "data": {
      "text/plain": [
       "['Action',\n",
       " 'Adventure',\n",
       " 'Crime',\n",
       " 'Sci-Fi',\n",
       " 'Drama',\n",
       " 'Thriller',\n",
       " 'Comedy',\n",
       " 'Family',\n",
       " 'Romance',\n",
       " 'Mystery']"
      ]
     },
     "execution_count": 21,
     "metadata": {},
     "output_type": "execute_result"
    }
   ],
   "source": [
    "#q15\n",
    "movies_list_2 = copy.deepcopy(movies)\n",
    "paul_walker_list = search_bar(movies_list_2, \"Paul Walker\")\n",
    "genres_list = []\n",
    "for data in paul_walker_list:\n",
    "    genre = data[\"genres\"]\n",
    "    for i in range(len(genre)):\n",
    "        if genre[i] not in genres_list:\n",
    "            genres_list.append(genre[i])\n",
    "        else:\n",
    "            continue\n",
    "genres_list"
   ]
  },
  {
   "cell_type": "code",
   "execution_count": 22,
   "id": "3b872c67",
   "metadata": {},
   "outputs": [],
   "source": [
    "def genre_search_bar(movies):\n",
    "    '''given a list of movie dictionaries, \n",
    "    returns a dict in which the key is the genre and \n",
    "    the value is a list of all movies that contain that genre'''\n",
    "    genre_dict = {} #TODO: initialize a dictionary\n",
    "    for movie in movies: #TODO: loop through all movies\n",
    "        genre = movie[\"genres\"]\n",
    "        for i in range(len(genre)): #TODO: loop through all genres in this movie\n",
    "            if genre[i] not in genre_dict:\n",
    "                genre_dict[genre[i]] = []\n",
    "            genre_dict[genre[i]].append(movie)\n",
    "    return genre_dict\n",
    "    #TODO: if this genre is not a key in our dictionary, set the value associted with this genre to an empty list\n",
    "    #TODO: if we already have this genre in our dictionary, append the movie to the list associated with this genre\n",
    "genre_search_dict = genre_search_bar(movies)"
   ]
  },
  {
   "cell_type": "code",
   "execution_count": 23,
   "id": "f76353d9",
   "metadata": {},
   "outputs": [
    {
     "data": {
      "text/plain": [
       "['Action',\n",
       " 'Horror',\n",
       " 'Sci-Fi',\n",
       " 'Crime',\n",
       " 'Thriller',\n",
       " 'Comedy',\n",
       " 'Drama',\n",
       " 'Romance',\n",
       " 'History',\n",
       " 'Adventure',\n",
       " 'Western',\n",
       " 'Family',\n",
       " 'Fantasy',\n",
       " 'War',\n",
       " 'Sport',\n",
       " 'Biography',\n",
       " 'Mystery',\n",
       " 'Film-Noir',\n",
       " 'Music',\n",
       " 'Animation',\n",
       " 'Musical',\n",
       " 'Reality-TV',\n",
       " 'Documentary',\n",
       " 'News']"
      ]
     },
     "execution_count": 23,
     "metadata": {},
     "output_type": "execute_result"
    }
   ],
   "source": [
    "#q16\n",
    "list(genre_search_dict.keys())"
   ]
  },
  {
   "cell_type": "code",
   "execution_count": 24,
   "id": "5cd259d1",
   "metadata": {},
   "outputs": [
    {
     "data": {
      "text/plain": [
       "5611"
      ]
     },
     "execution_count": 24,
     "metadata": {},
     "output_type": "execute_result"
    }
   ],
   "source": [
    "#q17\n",
    "len(genre_search_dict[\"Action\"])"
   ]
  },
  {
   "cell_type": "code",
   "execution_count": 25,
   "id": "2000db32",
   "metadata": {},
   "outputs": [
    {
     "data": {
      "text/plain": [
       "5.721581311769985"
      ]
     },
     "execution_count": 25,
     "metadata": {},
     "output_type": "execute_result"
    }
   ],
   "source": [
    "#q18\n",
    "total_rating = 0\n",
    "comedy = genre_search_dict[\"Comedy\"]\n",
    "for i in range(len(comedy)):\n",
    "    total_rating += comedy[i][\"rating\"]\n",
    "total_rating / len(comedy)"
   ]
  },
  {
   "cell_type": "code",
   "execution_count": 26,
   "id": "08081936",
   "metadata": {},
   "outputs": [
    {
     "data": {
      "text/plain": [
       "['Drama',\n",
       " 'Mystery',\n",
       " 'Thriller',\n",
       " 'Action',\n",
       " 'History',\n",
       " 'Adventure',\n",
       " 'Sci-Fi',\n",
       " 'Crime']"
      ]
     },
     "execution_count": 26,
     "metadata": {},
     "output_type": "execute_result"
    }
   ],
   "source": [
    "#q19\n",
    "movies_list_3 = copy.deepcopy(movies)\n",
    "nolan_list = search_bar(movies_list_3, \"Christopher Nolan\")\n",
    "list(genre_search_bar(nolan_list).keys())"
   ]
  },
  {
   "cell_type": "code",
   "execution_count": 27,
   "id": "a19d7f7e",
   "metadata": {},
   "outputs": [
    {
     "data": {
      "text/plain": [
       "'Drama'"
      ]
     },
     "execution_count": 27,
     "metadata": {},
     "output_type": "execute_result"
    }
   ],
   "source": [
    "#q20\n",
    "movies_list_4 = copy.deepcopy(movies)\n",
    "stewart_list = search_bar(movies_list_4, \"Kristen Stewart\")\n",
    "genre_dict = genre_search_bar(stewart_list)\n",
    "max_num = 0\n",
    "max_genre = None\n",
    "for key in genre_dict:\n",
    "    if max_num == 0 or len(genre_dict[key]) > max_num:\n",
    "        max_num = len(genre_dict[key])\n",
    "        max_genre = key\n",
    "max_genre"
   ]
  }
 ],
 "metadata": {
  "kernelspec": {
   "display_name": "Python 3",
   "language": "python",
   "name": "python3"
  },
  "language_info": {
   "codemirror_mode": {
    "name": "ipython",
    "version": 3
   },
   "file_extension": ".py",
   "mimetype": "text/x-python",
   "name": "python",
   "nbconvert_exporter": "python",
   "pygments_lexer": "ipython3",
   "version": "3.8.8"
  }
 },
 "nbformat": 4,
 "nbformat_minor": 5
}
