{
 "cells": [
  {
   "cell_type": "code",
   "execution_count": 1,
   "id": "0382971d",
   "metadata": {},
   "outputs": [],
   "source": [
    "# project: p5\n",
    "# submitter: yzhang2232\n",
    "# partner: none\n",
    "# hours: many hours"
   ]
  },
  {
   "cell_type": "code",
   "execution_count": 2,
   "id": "0ab79954",
   "metadata": {},
   "outputs": [
    {
     "data": {
      "text/plain": [
       "['__builtins__',\n",
       " '__cached__',\n",
       " '__doc__',\n",
       " '__file__',\n",
       " '__hurricane__',\n",
       " '__init__',\n",
       " '__loader__',\n",
       " '__name__',\n",
       " '__package__',\n",
       " '__spec__',\n",
       " 'count',\n",
       " 'get_damage',\n",
       " 'get_deaths',\n",
       " 'get_dissipated',\n",
       " 'get_formed',\n",
       " 'get_mph',\n",
       " 'get_name']"
      ]
     },
     "execution_count": 2,
     "metadata": {},
     "output_type": "execute_result"
    }
   ],
   "source": [
    "import project\n",
    "dir(project)"
   ]
  },
  {
   "cell_type": "code",
   "execution_count": 3,
   "id": "fdefc1e7",
   "metadata": {},
   "outputs": [
    {
     "data": {
      "text/plain": [
       "141"
      ]
     },
     "execution_count": 3,
     "metadata": {},
     "output_type": "execute_result"
    }
   ],
   "source": [
    "#q1\n",
    "project.count()"
   ]
  },
  {
   "cell_type": "code",
   "execution_count": 4,
   "id": "3ec860b7",
   "metadata": {},
   "outputs": [
    {
     "data": {
      "text/plain": [
       "'Isaias'"
      ]
     },
     "execution_count": 4,
     "metadata": {},
     "output_type": "execute_result"
    }
   ],
   "source": [
    "#q2\n",
    "project.get_name(86)"
   ]
  },
  {
   "cell_type": "code",
   "execution_count": 5,
   "id": "d5583d5d",
   "metadata": {},
   "outputs": [
    {
     "data": {
      "text/plain": [
       "1"
      ]
     },
     "execution_count": 5,
     "metadata": {},
     "output_type": "execute_result"
    }
   ],
   "source": [
    "#q3\n",
    "project.get_deaths(-1)"
   ]
  },
  {
   "cell_type": "code",
   "execution_count": 6,
   "id": "5ab5cc77",
   "metadata": {},
   "outputs": [],
   "source": [
    "def name_times():\n",
    "    count = 0\n",
    "    right_name = \"omar\"\n",
    "    for i in range(project.count()):\n",
    "        if project.get_name(i).lower() == right_name:\n",
    "            count += 1\n",
    "    print(count)"
   ]
  },
  {
   "cell_type": "code",
   "execution_count": 7,
   "id": "49a87ff3",
   "metadata": {},
   "outputs": [
    {
     "name": "stdout",
     "output_type": "stream",
     "text": [
      "2\n"
     ]
    }
   ],
   "source": [
    "#q4\n",
    "name_times()"
   ]
  },
  {
   "cell_type": "code",
   "execution_count": 8,
   "id": "a5a44da8",
   "metadata": {},
   "outputs": [
    {
     "data": {
      "text/plain": [
       "75"
      ]
     },
     "execution_count": 8,
     "metadata": {},
     "output_type": "execute_result"
    }
   ],
   "source": [
    "#q5\n",
    "def get_slowest():\n",
    "    slowest = project.get_mph(0)\n",
    "    for i in range(project.count()):\n",
    "        if project.get_mph(i) < slowest:\n",
    "            slowest = project.get_mph(i)\n",
    "    return slowest\n",
    "get_slowest()"
   ]
  },
  {
   "cell_type": "code",
   "execution_count": 9,
   "id": "26802b12",
   "metadata": {},
   "outputs": [
    {
     "name": "stdout",
     "output_type": "stream",
     "text": [
      "115\n"
     ]
    }
   ],
   "source": [
    "#q6\n",
    "def get_fastest():\n",
    "    fastest = project.get_mph(0)\n",
    "    for i in range(project.count()):\n",
    "        if project.get_mph(i) > fastest:\n",
    "            fastest = project.get_mph(i)\n",
    "    return fastest\n",
    "a = get_fastest()\n",
    "b = get_slowest()\n",
    "print(a-b)"
   ]
  },
  {
   "cell_type": "code",
   "execution_count": 10,
   "id": "c11c2028",
   "metadata": {},
   "outputs": [
    {
     "data": {
      "text/plain": [
       "68700000000"
      ]
     },
     "execution_count": 10,
     "metadata": {},
     "output_type": "execute_result"
    }
   ],
   "source": [
    "#q7\n",
    "def find_idx(hurri_name):\n",
    "    for i in range(project.count()):\n",
    "        if project.get_name(i).lower() == hurri_name:\n",
    "            indx = str(i)\n",
    "    return indx\n",
    "    \n",
    "def format_damage(damage):\n",
    "    #TODO: Check the last character of the string\n",
    "    #TODO: Then convert it to appropriate integer by slicing and type casting\n",
    "    number = float(damage[:-1])\n",
    "    if damage[-1] == \"K\":\n",
    "        return int(number*1000)\n",
    "    elif damage[-1] == \"M\":\n",
    "        return int(number*1000000)\n",
    "    elif damage[-1] == \"B\":\n",
    "        return int(number*1000000000)\n",
    "    else:\n",
    "        return int(number)\n",
    "\n",
    "dam = project.get_damage(find_idx(\"sandy\"))\n",
    "format_damage(dam)"
   ]
  },
  {
   "cell_type": "code",
   "execution_count": 11,
   "id": "46abcd0f",
   "metadata": {},
   "outputs": [
    {
     "data": {
      "text/plain": [
       "'Katrina'"
      ]
     },
     "execution_count": 11,
     "metadata": {},
     "output_type": "execute_result"
    }
   ],
   "source": [
    "#q8\n",
    "def most_damage():\n",
    "    most_dam_num = 0\n",
    "    most_dam_name = \"\"\n",
    "    for i in range(project.count()):\n",
    "        if format_damage(project.get_damage(i)) > most_dam_num:\n",
    "            most_dam_num = format_damage(project.get_damage(i))\n",
    "            most_dam_name = project.get_name(i)\n",
    "    return most_dam_name\n",
    "most_damage()"
   ]
  },
  {
   "cell_type": "code",
   "execution_count": 12,
   "id": "e34ba7b6",
   "metadata": {},
   "outputs": [
    {
     "data": {
      "text/plain": [
       "175"
      ]
     },
     "execution_count": 12,
     "metadata": {},
     "output_type": "execute_result"
    }
   ],
   "source": [
    "#q9\n",
    "def most_damage_speed():\n",
    "    hurri_name = most_damage().lower()\n",
    "    idx = find_idx(hurri_name)\n",
    "    return idx\n",
    "project.get_mph(most_damage_speed())"
   ]
  },
  {
   "cell_type": "code",
   "execution_count": 13,
   "id": "f7a782f0",
   "metadata": {},
   "outputs": [
    {
     "data": {
      "text/plain": [
       "2704200000"
      ]
     },
     "execution_count": 13,
     "metadata": {},
     "output_type": "execute_result"
    }
   ],
   "source": [
    "#q10\n",
    "def total_damage_e():\n",
    "    total_damage = 0\n",
    "    for i in range(project.count()):\n",
    "        if project.get_name(i)[0] == \"E\":\n",
    "            total_damage += format_damage(project.get_damage(i))\n",
    "    return total_damage\n",
    "total_damage_e()"
   ]
  },
  {
   "cell_type": "code",
   "execution_count": 14,
   "id": "5d114e21",
   "metadata": {},
   "outputs": [
    {
     "data": {
      "text/plain": [
       "'David'"
      ]
     },
     "execution_count": 14,
     "metadata": {},
     "output_type": "execute_result"
    }
   ],
   "source": [
    "#q11\n",
    "def get_month(date):\n",
    "    \"\"\"Returns the month when the date is the in the 'mm/dd/yyyy' format\"\"\"\n",
    "    return int(date[:2])\n",
    "\n",
    "def get_day(date):\n",
    "    \"\"\"Returns the day when the date is the in the 'mm/dd/yyyy' format\"\"\"\n",
    "    return int(date[3:5])  # TODO: Use string slicing to return the day\n",
    "\n",
    "def get_year(date):\n",
    "    \"\"\"Returns the year when the date is the in the 'mm/dd/yyyy' format\"\"\"\n",
    "    return int(date[6:])  # TODO: Use string slicing to return the year\n",
    "\n",
    "def deadliest_in_range(year1, year2):\n",
    "    \"\"\"Gets the index of the deadliest hurricane formed or dissipated within the given year range\"\"\"\n",
    "    worst_idx = None\n",
    "    for i in range(project.count()):\n",
    "        if (year1 <= get_year(project.get_formed(i)) <= year2) or (year1 <= get_year(project.get_dissipated(i)) <= year2):  # TODO: Check if year is in range\n",
    "            if worst_idx is None or project.get_deaths(i) > project.get_deaths(worst_idx):  # TODO: Is it worse than the previous deadliest hurricane?\n",
    "                worst_idx = i # TODO: Finish this code\n",
    "    return worst_idx\n",
    "\n",
    "project.get_name(deadliest_in_range(1901,2000))"
   ]
  },
  {
   "cell_type": "code",
   "execution_count": 15,
   "id": "6fcdee79",
   "metadata": {},
   "outputs": [
    {
     "data": {
      "text/plain": [
       "1899"
      ]
     },
     "execution_count": 15,
     "metadata": {},
     "output_type": "execute_result"
    }
   ],
   "source": [
    "#q12\n",
    "def first_year():\n",
    "    a = None\n",
    "    for i in range(project.count()):\n",
    "        if a == None or a > get_year(project.get_formed(i)):\n",
    "            a = get_year(project.get_formed(i))\n",
    "    return a\n",
    "\n",
    "def last_year():\n",
    "    b = 0\n",
    "    for i in range(project.count()):\n",
    "        if b < get_year(project.get_formed(i)):\n",
    "            b = get_year(project.get_formed(i))\n",
    "    return b\n",
    "\n",
    "def year_deadliest(first,last):\n",
    "    index = deadliest_in_range(first,last)\n",
    "    return get_year(project.get_formed(index))\n",
    "\n",
    "year_deadliest(first_year(),last_year())"
   ]
  },
  {
   "cell_type": "code",
   "execution_count": 16,
   "id": "bb432649",
   "metadata": {},
   "outputs": [
    {
     "data": {
      "text/plain": [
       "91610000000"
      ]
     },
     "execution_count": 16,
     "metadata": {},
     "output_type": "execute_result"
    }
   ],
   "source": [
    "#q13\n",
    "format_damage(project.get_damage(deadliest_in_range(2001,2021)))"
   ]
  },
  {
   "cell_type": "code",
   "execution_count": 17,
   "id": "5ee053ab",
   "metadata": {},
   "outputs": [
    {
     "data": {
      "text/plain": [
       "140"
      ]
     },
     "execution_count": 17,
     "metadata": {},
     "output_type": "execute_result"
    }
   ],
   "source": [
    "#q14\n",
    "def fastest_0_death():\n",
    "    fastest_mph = 0\n",
    "    for i in range(project.count()):\n",
    "        if project.get_deaths(i) == 0:\n",
    "            if project.get_mph(i) > fastest_mph:\n",
    "                fastest_mph = project.get_mph(i)\n",
    "    return fastest_mph\n",
    "\n",
    "fastest_0_death()"
   ]
  },
  {
   "cell_type": "code",
   "execution_count": 18,
   "id": "ec188765",
   "metadata": {},
   "outputs": [
    {
     "data": {
      "text/plain": [
       "3"
      ]
     },
     "execution_count": 18,
     "metadata": {},
     "output_type": "execute_result"
    }
   ],
   "source": [
    "#q15\n",
    "def get_year_total(query_year):\n",
    "    \"\"\"Gets the amount of hurricanes formed in the specified year\"\"\"\n",
    "    num_of_hurricanes = 0\n",
    "    for i in range(project.count()):\n",
    "        if get_year(project.get_formed(i)) == query_year:\n",
    "            num_of_hurricanes += 1 # TODO: finish this code!\n",
    "    return num_of_hurricanes\n",
    "get_year_total(2002)"
   ]
  },
  {
   "cell_type": "code",
   "execution_count": 19,
   "id": "2e5d8ca0",
   "metadata": {},
   "outputs": [
    {
     "data": {
      "text/plain": [
       "22"
      ]
     },
     "execution_count": 19,
     "metadata": {},
     "output_type": "execute_result"
    }
   ],
   "source": [
    "#q16\n",
    "def get_decade_total(start_of_decade):\n",
    "    total_hurricane_decade = 0\n",
    "    for year in range(start_of_decade, start_of_decade+10):\n",
    "        total_hurricane_year = get_year_total(year)\n",
    "        total_hurricane_decade += total_hurricane_year\n",
    "        # TODO: finish this code\n",
    "    return total_hurricane_decade\n",
    "get_decade_total(2011)"
   ]
  },
  {
   "cell_type": "code",
   "execution_count": 20,
   "id": "4538a4a0",
   "metadata": {},
   "outputs": [
    {
     "data": {
      "text/plain": [
       "'1991 to 2000'"
      ]
     },
     "execution_count": 20,
     "metadata": {},
     "output_type": "execute_result"
    }
   ],
   "source": [
    "#q17\n",
    "def compare_hurri(year1,year2):\n",
    "    most_hurri = 0\n",
    "    start_most = \"\"\n",
    "    for year in range(year1,year2):\n",
    "        if year % 10 == 1:\n",
    "            decade_year = get_decade_total(year)\n",
    "            if decade_year > most_hurri:\n",
    "                most_hurri = decade_year\n",
    "                start_most = year\n",
    "    return str(start_most) + \" to \" + str(start_most+9)\n",
    "compare_hurri(1901,2000)"
   ]
  },
  {
   "cell_type": "code",
   "execution_count": 21,
   "id": "d6f8aa38",
   "metadata": {},
   "outputs": [
    {
     "data": {
      "text/plain": [
       "59"
      ]
     },
     "execution_count": 21,
     "metadata": {},
     "output_type": "execute_result"
    }
   ],
   "source": [
    "#q18\n",
    "def hurri_last(idx):\n",
    "    start_month = get_month(project.get_formed(idx))\n",
    "    end_month = get_month(project.get_dissipated(idx))\n",
    "    last = end_month - start_month\n",
    "    return last\n",
    "def last_at_least_2():\n",
    "    num = 0\n",
    "    for i in range(project.count()):\n",
    "        if hurri_last(i) != 0:\n",
    "            num += 1\n",
    "    return num\n",
    "last_at_least_2()"
   ]
  },
  {
   "cell_type": "code",
   "execution_count": 22,
   "id": "5194db03",
   "metadata": {},
   "outputs": [
    {
     "data": {
      "text/plain": [
       "'Dora'"
      ]
     },
     "execution_count": 22,
     "metadata": {},
     "output_type": "execute_result"
    }
   ],
   "source": [
    "#q19\n",
    "import datetime\n",
    "\n",
    "def get_number_of_days(start_date, end_date):\n",
    "    \"\"\"Gets the number of days between the start_date (in 'mm/dd/yyyy' format) and end_date (in 'mm/dd/yyyy' format)\"\"\"\n",
    "    day1 = datetime.datetime.strptime(start_date, '%m/%d/%Y') # The second argument is a format string to tell the function how to process the date string\n",
    "    day2 = datetime.datetime.strptime(end_date, '%m/%d/%Y')\n",
    "    delta = day2 - day1\n",
    "    return delta.days\n",
    "\n",
    "idx_dora = find_idx(\"dora\")\n",
    "idx_karen = find_idx(\"karen\")\n",
    "\n",
    "def time_to_diss(idx):\n",
    "    start_date = project.get_formed(idx)\n",
    "    end_date = project.get_dissipated(idx)\n",
    "    num_of_days = get_number_of_days(start_date, end_date)\n",
    "    return num_of_days\n",
    "\n",
    "def compare_diff_hurri(idx1,idx2):\n",
    "    time_diff = time_to_diss(idx1)-time_to_diss(idx2)\n",
    "    if time_diff > 0:\n",
    "        return project.get_name(idx1)\n",
    "    elif time_diff < 0:\n",
    "        return project.get_name(idx2)\n",
    "    else:\n",
    "        return \"tie\"\n",
    "    \n",
    "compare_diff_hurri(idx_dora,idx_karen)"
   ]
  },
  {
   "cell_type": "code",
   "execution_count": 23,
   "id": "5348b45e",
   "metadata": {},
   "outputs": [
    {
     "data": {
      "text/plain": [
       "'Earl'"
      ]
     },
     "execution_count": 23,
     "metadata": {},
     "output_type": "execute_result"
    }
   ],
   "source": [
    "#q20\n",
    "dead_idx = deadliest_in_range(1981,2000)\n",
    "def last_to_diss():\n",
    "    last_hurri_dissi_date = None\n",
    "    last_hurri_name = None\n",
    "    for i in range(project.count()):\n",
    "        dissi_date = project.get_dissipated(i)\n",
    "        if get_number_of_days(dissi_date, project.get_formed(dead_idx)) > 0:\n",
    "            if last_hurri_dissi_date == None or get_number_of_days(last_hurri_dissi_date, dissi_date) > 0:\n",
    "                last_hurri_dissi_date = dissi_date\n",
    "                last_hurri_name = project.get_name(i)\n",
    "    return last_hurri_name\n",
    "last_to_diss()"
   ]
  }
 ],
 "metadata": {
  "kernelspec": {
   "display_name": "Python 3",
   "language": "python",
   "name": "python3"
  },
  "language_info": {
   "codemirror_mode": {
    "name": "ipython",
    "version": 3
   },
   "file_extension": ".py",
   "mimetype": "text/x-python",
   "name": "python",
   "nbconvert_exporter": "python",
   "pygments_lexer": "ipython3",
   "version": "3.8.8"
  }
 },
 "nbformat": 4,
 "nbformat_minor": 5
}
