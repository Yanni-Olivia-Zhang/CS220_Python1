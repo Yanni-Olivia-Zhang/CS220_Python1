{
 "cells": [
  {
   "cell_type": "code",
   "execution_count": 1,
   "id": "9fb3d68f",
   "metadata": {},
   "outputs": [],
   "source": [
    "# project: p5\n",
    "# submitter: Ywu526\n",
    "# partner: Yzhang2232\n",
    "# hours: 3 hrs"
   ]
  },
  {
   "cell_type": "code",
   "execution_count": 2,
   "id": "ed3f81d2",
   "metadata": {},
   "outputs": [
    {
     "data": {
      "text/plain": [
       "['__builtins__',\n",
       " '__cached__',\n",
       " '__doc__',\n",
       " '__file__',\n",
       " '__hurricane__',\n",
       " '__init__',\n",
       " '__loader__',\n",
       " '__name__',\n",
       " '__package__',\n",
       " '__spec__',\n",
       " 'count',\n",
       " 'get_damage',\n",
       " 'get_deaths',\n",
       " 'get_dissipated',\n",
       " 'get_formed',\n",
       " 'get_mph',\n",
       " 'get_name']"
      ]
     },
     "execution_count": 2,
     "metadata": {},
     "output_type": "execute_result"
    }
   ],
   "source": [
    "import project\n",
    "dir(project)"
   ]
  },
  {
   "cell_type": "code",
   "execution_count": 3,
   "id": "139874c8",
   "metadata": {},
   "outputs": [
    {
     "data": {
      "text/plain": [
       "141"
      ]
     },
     "execution_count": 3,
     "metadata": {},
     "output_type": "execute_result"
    }
   ],
   "source": [
    "#Q1:\n",
    "project.count()"
   ]
  },
  {
   "cell_type": "code",
   "execution_count": 4,
   "id": "eaf30749",
   "metadata": {},
   "outputs": [
    {
     "data": {
      "text/plain": [
       "'Isaias'"
      ]
     },
     "execution_count": 4,
     "metadata": {},
     "output_type": "execute_result"
    }
   ],
   "source": [
    "#Q2:\n",
    "project.get_name(86)"
   ]
  },
  {
   "cell_type": "code",
   "execution_count": 5,
   "id": "c1001bb2",
   "metadata": {},
   "outputs": [
    {
     "data": {
      "text/plain": [
       "1"
      ]
     },
     "execution_count": 5,
     "metadata": {},
     "output_type": "execute_result"
    }
   ],
   "source": [
    "#Q3:\n",
    "project.get_deaths(-1)"
   ]
  },
  {
   "cell_type": "code",
   "execution_count": 6,
   "id": "2c2d0b3f",
   "metadata": {},
   "outputs": [
    {
     "data": {
      "text/plain": [
       "2"
      ]
     },
     "execution_count": 6,
     "metadata": {},
     "output_type": "execute_result"
    }
   ],
   "source": [
    "#Q4:\n",
    "right_name = \"OMAR\"\n",
    "\n",
    "def find_repetition(right_name):\n",
    "    curr_count = 0 #stands for current count\n",
    "    for i in range(project.count()):\n",
    "        if project.get_name(i).upper() ==right_name:\n",
    "            curr_count += 1\n",
    "    return(curr_count)\n",
    "\n",
    "find_repetition(right_name)"
   ]
  },
  {
   "cell_type": "code",
   "execution_count": 7,
   "id": "ceb96fe8",
   "metadata": {},
   "outputs": [
    {
     "data": {
      "text/plain": [
       "75"
      ]
     },
     "execution_count": 7,
     "metadata": {},
     "output_type": "execute_result"
    }
   ],
   "source": [
    "#Q5:\n",
    "def get_slowest():\n",
    "    curr_slowest = None\n",
    "    for i in range(project.count()):\n",
    "        speed = project.get_mph(i)\n",
    "        if (curr_slowest == None) or (curr_slowest > speed):\n",
    "            curr_slowest = speed\n",
    "    return curr_slowest\n",
    "\n",
    "get_slowest()"
   ]
  },
  {
   "cell_type": "code",
   "execution_count": 8,
   "id": "3fa8ab07",
   "metadata": {},
   "outputs": [
    {
     "data": {
      "text/plain": [
       "115"
      ]
     },
     "execution_count": 8,
     "metadata": {},
     "output_type": "execute_result"
    }
   ],
   "source": [
    "#Q6:\n",
    "def get_fastest():\n",
    "    curr_fastest = 0\n",
    "    for i in range(project.count()):\n",
    "        speed = project.get_mph(i)\n",
    "        if speed > curr_fastest:\n",
    "            curr_fastest = speed\n",
    "    return curr_fastest\n",
    "def get_speed_difference():\n",
    "    slowest_mph = int(get_slowest())\n",
    "    fastest_mph = int(get_fastest())\n",
    "    return fastest_mph - slowest_mph\n",
    "\n",
    "get_speed_difference()"
   ]
  },
  {
   "cell_type": "code",
   "execution_count": 9,
   "id": "76a94dae",
   "metadata": {},
   "outputs": [
    {
     "data": {
      "text/plain": [
       "'68'"
      ]
     },
     "execution_count": 9,
     "metadata": {},
     "output_type": "execute_result"
    }
   ],
   "source": [
    "def format_damage(damage):\n",
    "    #TODO: Check the last character of the string\n",
    "    #TODO: Then convert it to appropriate integer by slicing and type casting\n",
    "    digits = float(damage[:-1])\n",
    "    if damage[-1] == 'K':\n",
    "        return int(digits*1000)\n",
    "    elif damage[-1] == 'M':\n",
    "        return int(digits*1000000)\n",
    "    elif damage[-1] == 'B':\n",
    "        return int(digits*1000000000)\n",
    "    else:\n",
    "        return int(digits)\n",
    "\n",
    "def find_idx(hurri_name):\n",
    "    correct_idx = ''\n",
    "    for i in range(project.count()):\n",
    "        if project.get_name(i).upper() == hurri_name:\n",
    "            correct_idx = str(i)\n",
    "            return correct_idx\n",
    "\n",
    "find_idx('SANDY')"
   ]
  },
  {
   "cell_type": "code",
   "execution_count": 10,
   "id": "5f1ca874",
   "metadata": {},
   "outputs": [
    {
     "data": {
      "text/plain": [
       "68700000000"
      ]
     },
     "execution_count": 10,
     "metadata": {},
     "output_type": "execute_result"
    }
   ],
   "source": [
    "#Q7:\n",
    "hurri_idx = find_idx('SANDY')\n",
    "damage = project.get_damage(int(hurri_idx))\n",
    "format_damage(damage)"
   ]
  },
  {
   "cell_type": "code",
   "execution_count": 11,
   "id": "1ffaf16e",
   "metadata": {},
   "outputs": [
    {
     "data": {
      "text/plain": [
       "'Katrina'"
      ]
     },
     "execution_count": 11,
     "metadata": {},
     "output_type": "execute_result"
    }
   ],
   "source": [
    "#Q8:\n",
    "def most_damaging():\n",
    "    most_damage = 0\n",
    "    most_damage_hurri = ''\n",
    "    for i in range(project.count()):\n",
    "        if format_damage(project.get_damage(i)) > most_damage:\n",
    "            most_damage = format_damage(project.get_damage(i))\n",
    "            most_damage_hurri = project.get_name(i)\n",
    "    return most_damage_hurri\n",
    "\n",
    "most_damaging()"
   ]
  },
  {
   "cell_type": "code",
   "execution_count": 12,
   "id": "7440ebc6",
   "metadata": {},
   "outputs": [
    {
     "data": {
      "text/plain": [
       "175"
      ]
     },
     "execution_count": 12,
     "metadata": {},
     "output_type": "execute_result"
    }
   ],
   "source": [
    "#Q9:\n",
    "def most_damaging_mph():\n",
    "    hurri_name = most_damaging().upper()\n",
    "    idx = find_idx(hurri_name)\n",
    "    return project.get_mph(idx)\n",
    "\n",
    "most_damaging_mph()"
   ]
  },
  {
   "cell_type": "code",
   "execution_count": 13,
   "id": "f98fc459",
   "metadata": {},
   "outputs": [
    {
     "data": {
      "text/plain": [
       "2704200000"
      ]
     },
     "execution_count": 13,
     "metadata": {},
     "output_type": "execute_result"
    }
   ],
   "source": [
    "#Q10:\n",
    "def total_damage_E():\n",
    "    total_damage = 0\n",
    "    for i in range(project.count()):\n",
    "        if project.get_name(i)[0] == 'E':\n",
    "            total_damage += format_damage(project.get_damage(i))\n",
    "    return total_damage\n",
    "\n",
    "total_damage_E()"
   ]
  },
  {
   "cell_type": "code",
   "execution_count": 14,
   "id": "a5080a88",
   "metadata": {},
   "outputs": [],
   "source": [
    "def get_month(date):\n",
    "    \"\"\"Returns the month when the date is the in the 'mm/dd/yyyy' format\"\"\"\n",
    "    return int(date[:2])\n",
    "\n",
    "\n",
    "def get_day(date):\n",
    "    \"\"\"Returns the day when the date is the in the 'mm/dd/yyyy' format\"\"\"\n",
    "    return int(date[3:5])  # TODO: Use string slicing to return the day\n",
    "\n",
    "\n",
    "def get_year(date):\n",
    "    \"\"\"Returns the year when the date is the in the 'mm/dd/yyyy' format\"\"\"\n",
    "    return int(date[-4:])  # TODO: Use string slicing to return the year\n",
    "\n",
    "def deadliest_in_range(year1, year2):\n",
    "    \"\"\"Gets the index of the deadliest hurricane formed or dissipated within the given year range\"\"\"\n",
    "    worst_idx = None\n",
    "    for i in range(project.count()):\n",
    "        if (year1 <= get_year(project.get_formed(i)) <= year2) or (year1 <= get_year(project.get_dissipated(i)) <= year2) :  # TODO: Check if year is in range\n",
    "            if worst_idx is None or project.get_deaths(i) > project.get_deaths(worst_idx):  # TODO: Is it worse than the previous deadliest hurricane?\n",
    "                worst_idx = i # TODO: Finish this code\n",
    "    return worst_idx"
   ]
  },
  {
   "cell_type": "code",
   "execution_count": 15,
   "id": "ab9bc14e",
   "metadata": {},
   "outputs": [
    {
     "data": {
      "text/plain": [
       "'David'"
      ]
     },
     "execution_count": 15,
     "metadata": {},
     "output_type": "execute_result"
    }
   ],
   "source": [
    "#Q11:\n",
    "project.get_name(deadliest_in_range(1901,2000))"
   ]
  },
  {
   "cell_type": "code",
   "execution_count": 16,
   "id": "077afa71",
   "metadata": {},
   "outputs": [
    {
     "data": {
      "text/plain": [
       "1899"
      ]
     },
     "execution_count": 16,
     "metadata": {},
     "output_type": "execute_result"
    }
   ],
   "source": [
    "#Q12:\n",
    "def year_of_deadliest(year1,year2):\n",
    "    idx = deadliest_in_range(year1=year1,year2=year2)\n",
    "    return get_year(project.get_formed(idx))\n",
    "\n",
    "def first_year():\n",
    "    initial_year = None\n",
    "    for i in range(project.count()):\n",
    "        if initial_year == None or initial_year > get_year(project.get_formed(i)):\n",
    "            initial_year = get_year(project.get_formed(i))\n",
    "    return initial_year\n",
    "\n",
    "def last_year():\n",
    "    final_year = 0\n",
    "    for i in range(project.count()):\n",
    "        if final_year < get_year(project.get_formed(i)):\n",
    "            final_year = get_year(project.get_formed(i))\n",
    "    return final_year\n",
    "\n",
    "year_of_deadliest(first_year(),last_year())"
   ]
  },
  {
   "cell_type": "code",
   "execution_count": 17,
   "id": "06c29eb8",
   "metadata": {},
   "outputs": [
    {
     "data": {
      "text/plain": [
       "91610000000"
      ]
     },
     "execution_count": 17,
     "metadata": {},
     "output_type": "execute_result"
    }
   ],
   "source": [
    "#Q13:\n",
    "format_damage(project.get_damage(deadliest_in_range(2001,2021)))"
   ]
  },
  {
   "cell_type": "code",
   "execution_count": 18,
   "id": "7304f8e5",
   "metadata": {},
   "outputs": [
    {
     "data": {
      "text/plain": [
       "140"
      ]
     },
     "execution_count": 18,
     "metadata": {},
     "output_type": "execute_result"
    }
   ],
   "source": [
    "#Q14:\n",
    "def fastest_0_death():\n",
    "    fastest_mph = 0\n",
    "    for i in range(project.count()):\n",
    "        if project.get_deaths(i) == 0:\n",
    "            if project.get_mph(i) > fastest_mph:\n",
    "                fastest_mph = project.get_mph(i)\n",
    "    return fastest_mph\n",
    "\n",
    "fastest_0_death()"
   ]
  },
  {
   "cell_type": "code",
   "execution_count": 19,
   "id": "70183825",
   "metadata": {},
   "outputs": [],
   "source": [
    "def get_year_total(query_year):\n",
    "    \"\"\"Gets the amount of hurricanes formed in the specified year\"\"\"\n",
    "    num_of_hurricanes = 0\n",
    "    for i in range(project.count()):\n",
    "        if get_year(project.get_formed(i)) == query_year:\n",
    "            num_of_hurricanes += 1\n",
    "    return num_of_hurricanes"
   ]
  },
  {
   "cell_type": "code",
   "execution_count": 20,
   "id": "41c2c3af",
   "metadata": {},
   "outputs": [
    {
     "data": {
      "text/plain": [
       "3"
      ]
     },
     "execution_count": 20,
     "metadata": {},
     "output_type": "execute_result"
    }
   ],
   "source": [
    "#Q15:\n",
    "get_year_total(2002)"
   ]
  },
  {
   "cell_type": "code",
   "execution_count": 21,
   "id": "afce109a",
   "metadata": {},
   "outputs": [],
   "source": [
    "def get_decade_total(start_of_decade):\n",
    "    total_hurricane_decade = 0\n",
    "    for year in range(start_of_decade,start_of_decade + 10):\n",
    "        total_hurricane_year = get_year_total(year)\n",
    "        total_hurricane_decade += total_hurricane_year\n",
    "        # TODO: finish this code\n",
    "    return total_hurricane_decade"
   ]
  },
  {
   "cell_type": "code",
   "execution_count": 22,
   "id": "f89df932",
   "metadata": {},
   "outputs": [
    {
     "data": {
      "text/plain": [
       "22"
      ]
     },
     "execution_count": 22,
     "metadata": {},
     "output_type": "execute_result"
    }
   ],
   "source": [
    "#Q16:\n",
    "get_decade_total(2011)"
   ]
  },
  {
   "cell_type": "code",
   "execution_count": 23,
   "id": "86ddd5a4",
   "metadata": {},
   "outputs": [],
   "source": [
    "def compare_hurricane_num(year1,year2):\n",
    "    most_hurricane_num = 0\n",
    "    start_most_hurricane_decade = ''\n",
    "    for year in range(year1,year2):\n",
    "        if year % 10 == 1:\n",
    "            decade_total = get_decade_total(year)\n",
    "            if decade_total > most_hurricane_num:\n",
    "                most_hurricane_num = decade_total\n",
    "                start_most_hurricane_decade = year      \n",
    "    return str(start_most_hurricane_decade) + ' to ' + str(start_most_hurricane_decade + 9)         "
   ]
  },
  {
   "cell_type": "code",
   "execution_count": 24,
   "id": "bda9d5cf",
   "metadata": {},
   "outputs": [
    {
     "data": {
      "text/plain": [
       "'1991 to 2000'"
      ]
     },
     "execution_count": 24,
     "metadata": {},
     "output_type": "execute_result"
    }
   ],
   "source": [
    "#Q17:\n",
    "compare_hurricane_num(1901,2000)"
   ]
  },
  {
   "cell_type": "code",
   "execution_count": 25,
   "id": "33b76d1f",
   "metadata": {},
   "outputs": [],
   "source": [
    "def hurri_last(idx):\n",
    "    month_start = get_month(project.get_formed(idx))\n",
    "    month_end = get_month(project.get_dissipated(idx))\n",
    "    return month_end - month_start"
   ]
  },
  {
   "cell_type": "code",
   "execution_count": 30,
   "id": "bb54d6d7",
   "metadata": {},
   "outputs": [
    {
     "data": {
      "text/plain": [
       "59"
      ]
     },
     "execution_count": 30,
     "metadata": {},
     "output_type": "execute_result"
    }
   ],
   "source": [
    "#Q18:\n",
    "def hurri_last_across_two():\n",
    "    num_of_hurri = 0\n",
    "    for i in range(project.count()):\n",
    "        last_time = hurri_last(i)\n",
    "        if last_time != 0:\n",
    "            num_of_hurri += 1\n",
    "    return num_of_hurri\n",
    "\n",
    "hurri_last_across_two()"
   ]
  },
  {
   "cell_type": "code",
   "execution_count": 27,
   "id": "1595026d",
   "metadata": {},
   "outputs": [],
   "source": [
    "import datetime\n",
    "\n",
    "def get_number_of_days(start_date, end_date):\n",
    "    \"\"\"Gets the number of days between the start_date (in 'mm/dd/yyyy' format) and end_date (in 'mm/dd/yyyy' format)\"\"\"\n",
    "    day1 = datetime.datetime.strptime(start_date, '%m/%d/%Y') # The second argument is a format string to tell the function how to process the date string\n",
    "    day2 = datetime.datetime.strptime(end_date, '%m/%d/%Y')\n",
    "    delta = day2 - day1\n",
    "    return delta.days"
   ]
  },
  {
   "cell_type": "code",
   "execution_count": 28,
   "id": "3454c5bf",
   "metadata": {},
   "outputs": [
    {
     "data": {
      "text/plain": [
       "'Dora'"
      ]
     },
     "execution_count": 28,
     "metadata": {},
     "output_type": "execute_result"
    }
   ],
   "source": [
    "#Q19:\n",
    "idx_Dora = find_idx('DORA')\n",
    "idx_Karen = find_idx('KAREN')\n",
    "\n",
    "def time_to_dissipate(idx):\n",
    "    start_date = project.get_formed(idx)\n",
    "    end_date = project.get_dissipated(idx)\n",
    "    num_of_days = get_number_of_days(start_date, end_date)\n",
    "    return num_of_days\n",
    "\n",
    "def compare_dissipate_time(hurri_idx_1, hurri_idx_2):\n",
    "    time_difference = time_to_dissipate(hurri_idx_1) - time_to_dissipate(hurri_idx_2)\n",
    "    if time_difference > 0:\n",
    "        return project.get_name(hurri_idx_1)\n",
    "    elif time_difference < 0:\n",
    "        return project.get_name(hurri_idx_2)\n",
    "    else:\n",
    "        return 'tie'\n",
    "    \n",
    "compare_dissipate_time(idx_Dora, idx_Karen)"
   ]
  },
  {
   "cell_type": "code",
   "execution_count": 29,
   "id": "d35720ec",
   "metadata": {},
   "outputs": [
    {
     "data": {
      "text/plain": [
       "'Earl'"
      ]
     },
     "execution_count": 29,
     "metadata": {},
     "output_type": "execute_result"
    }
   ],
   "source": [
    "#Q20:\n",
    "deadliest_hurri_idx = deadliest_in_range(1981,2000)\n",
    "def last_to_dissipate():\n",
    "    last_hurri_dissi_date = None\n",
    "    last_hurri_name = None\n",
    "    for i in range(project.count()):\n",
    "        dissi_date = project.get_dissipated(i)\n",
    "        if get_number_of_days(dissi_date, project.get_formed(deadliest_hurri_idx)) > 0:\n",
    "            if last_hurri_dissi_date == None or get_number_of_days(last_hurri_dissi_date, dissi_date) > 0:\n",
    "                last_hurri_dissi_date = dissi_date\n",
    "                last_hurri_name = project.get_name(i)\n",
    "    return last_hurri_name\n",
    "\n",
    "last_to_dissipate()  "
   ]
  },
  {
   "cell_type": "code",
   "execution_count": null,
   "id": "c94cd463",
   "metadata": {},
   "outputs": [],
   "source": []
  }
 ],
 "metadata": {
  "kernelspec": {
   "display_name": "Python 3",
   "language": "python",
   "name": "python3"
  },
  "language_info": {
   "codemirror_mode": {
    "name": "ipython",
    "version": 3
   },
   "file_extension": ".py",
   "mimetype": "text/x-python",
   "name": "python",
   "nbconvert_exporter": "python",
   "pygments_lexer": "ipython3",
   "version": "3.8.8"
  }
 },
 "nbformat": 4,
 "nbformat_minor": 5
}
